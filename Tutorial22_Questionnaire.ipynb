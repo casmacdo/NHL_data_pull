{
 "cells": [
  {
   "cell_type": "markdown",
   "id": "3b9715e6",
   "metadata": {},
   "source": [
    "# Introduction"
   ]
  },
  {
   "cell_type": "markdown",
   "id": "7a482ac9",
   "metadata": {},
   "source": [
    "Important Info:\n",
    "\n",
    "Hi and welcome to the Sportlogiq DA Questionnaire! The goal with this questionnaire is to assess your problem solving, hockey knowledge, and coding/stats abilities and your (hopeful) fit with some of our day-to-day tasks. If you find yourself stuck or unsure on a question, showing your work and explaining your problem solving/decision making is still highly recommended.\n",
    "\n",
    "Libraries:\n",
    "- You'll want to import libraries such as numpy, pandas, a plotting library like plotly/matplotlib, and a stats library of your choosing (sklearn for example)\n",
    "\n",
    "Data Info:\n",
    "- There are two data files. One has a condensed event set from a randomly chosen hockey game and the other contains Expected Goals values (xg) provided only for shots that successfully hit the net. If an xg value doesn't correspond to a shot event, it should not be counted\n",
    "\n",
    "- X and Y Coordinates are in Feet and are adjusted such that both teams shoot in the same direction\n",
    "\n",
    "- Line Carry events are tagged when the puck is carried over either blue line or the centre ice red line\n",
    "\n",
    "- Binary columns that have values of 0 or 1 indicate 0=No, 1=Yes\n",
    "\n",
    "- Successfull passes are completed passes, successful shots are shots on net\n",
    "\n",
    "Please show all work, keep written answers succinct and to the point and most of all, thanks for your time and good luck!"
   ]
  },
  {
   "cell_type": "code",
   "execution_count": 24,
   "id": "2d0b5ce9",
   "metadata": {},
   "outputs": [],
   "source": [
    "# Import libraries\n",
    "import pandas as pd \n",
    "import plotly.express as px\n",
    "import numpy as np\n",
    "from math import sqrt \n",
    "from sklearn.cluster import KMeans\n",
    "from sklearn.preprocessing import OneHotEncoder\n",
    "import matplotlib.pyplot as plt \n",
    "from sklearn.linear_model import LogisticRegression\n",
    "from sklearn.model_selection import train_test_split\n",
    "import seaborn as sn\n",
    "import matplotlib.pyplot as plt\n",
    "from sklearn.feature_selection import RFE\n",
    "import xgboost as xgb\n",
    "from sklearn.metrics import confusion_matrix, accuracy_score\n",
    "from statsmodels.stats.outliers_influence import variance_inflation_factor"
   ]
  },
  {
   "cell_type": "markdown",
   "id": "4ec24d75",
   "metadata": {},
   "source": [
    "## Q1) \n",
    "### a) Who won the game & what was the score?\n",
    "### b) Who won the Expected Goals (xg) battle & what was each team's total xg?\n",
    "### c) What do these two answers tell us about how the two teams played?"
   ]
  },
  {
   "cell_type": "markdown",
   "id": "10b879a4",
   "metadata": {},
   "source": [
    "### A1) Team 596 won. The score was 4-1 for team 596\n",
    "#### b) Team 596 appears to have won the expected goals battle. As instructed, I did not count xg values that did not correspond with shot events. After I removed the non-corresponding xg values by completing an inner join between the condensed data and xg data, Team 596 had an expected goals of 4.63 and team 724 had an expected goals of 2.99.  Had I not removed the non-corresponding xg values, Team 596 would have had an expected goals of 4.74 and team 724 had an expected goals of 3.22.\n",
    "#### c) Team 596 appears to have slightly over preformed its expected goals and team 724 appears to underperformed its expected goals. This means that given the quality of shots taken by team 724, they scored less goals than what the expected model predicted. "
   ]
  },
  {
   "cell_type": "markdown",
   "id": "9b23df76",
   "metadata": {},
   "source": [
    "### Below, I show how I completed this step:"
   ]
  },
  {
   "cell_type": "markdown",
   "id": "6e64da2b",
   "metadata": {},
   "source": [
    "#### First, I read in the data and manipulated the data frames to meet the requirements of this exercise. This included excluding xg rows that did not correspond with shot events in the condensed data. To do this, I completed an inner join using the pandas merge tool. I used the VS code data viewer to visually inspect the data. "
   ]
  },
  {
   "cell_type": "code",
   "execution_count": 25,
   "id": "cd930532",
   "metadata": {
    "scrolled": true
   },
   "outputs": [],
   "source": [
    "# read in data \n",
    "dense = pd.read_csv('Tutorial22_df.csv') # read in condensed data and assign to variable\n",
    "dense = dense.sort_values(by=['compiledgametime'],ignore_index=True) # sort by compiled game time and reset index \n",
    "xg = pd.read_csv('Tutorial22_xG_df.csv') # read in xg data and assign to variable\n",
    "# Below I select shots that successfully hit the net from the xg data. \n",
    "# I made this selection because the \"Expected Goals values (xg) [were] provided only for shots that successfully hit the net. If an xg value doesn't correspond to a shot event, it should not be counted\"\n",
    "dense_sus = dense[(dense['eventname'] == 'shot') & (dense['outcome'] == 'successful')] # here select successful shots, as stipulated in the directions of this assessment and assign the results to a variable\n",
    "#print(len(xg)) # print length of xg data frame \n",
    "#print(len(dense_sus)) print length of successful shot data frame\n",
    "# it appears that there are non corresponding values in the xg data frame, so I remove them below\n",
    "shots = dense.loc[dense['eventname']=='shot'] # subset all shot attempts in the game and assign to variable \n",
    "xg=xg.merge(shots, on=list(set(xg.columns).intersection(dense.columns)), how='inner') # merge xg with shots on compiled game time and use inner join becasue xg values that do not correspond with shot events \"should not be counted\"\n",
    "# check out the columns \n",
    "#dense.columns \n",
    "#xg.columns"
   ]
  },
  {
   "cell_type": "markdown",
   "id": "cafbb09f",
   "metadata": {},
   "source": [
    "#### Next, I assigned the team ID's to variables and selected all rows that correspond with the respective team ID's, and summed the goals using the pandas sum() method. Then, I used the print function and format method to display the teams' goal totals. "
   ]
  },
  {
   "cell_type": "code",
   "execution_count": 26,
   "id": "5b722e1f",
   "metadata": {},
   "outputs": [
    {
     "name": "stdout",
     "output_type": "stream",
     "text": [
      "Team 724 scored 1 goals, team 596 scored 4 goal\n"
     ]
    }
   ],
   "source": [
    "team1 = dense['teamid'].unique()[0] # assign team 596 to variable \n",
    "team2 = dense['teamid'].unique()[1] # assign team 724 to variable \n",
    "team1_goals = dense[dense['teamid'] == team1]['goal'].sum() # select all events related to team one, sum goals, and assign to variable\n",
    "team2_goals = dense[dense['teamid'] == team2]['goal'].sum() # select all events related to team one, sum goals, and assign to variable\n",
    "print(\"Team {t1} scored {t1goals} goals, team {t2} scored {t2goals} goal\".format(t1=team1, t1goals=team1_goals,t2=team2, t2goals=team2_goals)) # print the score "
   ]
  },
  {
   "cell_type": "markdown",
   "id": "e3ffb5b7",
   "metadata": {},
   "source": [
    "#### Next, I summed the expected goals and compared the results. To do this, I subsetted the rows corresponding to the teams using the xg data, from which I removed xg data that did not correspond with condensed data shots. I summed the expected goals values from those subsets and used the values in my answer. "
   ]
  },
  {
   "cell_type": "code",
   "execution_count": 27,
   "id": "72e2d24b",
   "metadata": {},
   "outputs": [
    {
     "name": "stdout",
     "output_type": "stream",
     "text": [
      "Team 724 had an expected goals of 2.9895371930000003, team 596 had an expected goals of 4.628315404\n"
     ]
    }
   ],
   "source": [
    "t1xg=xg[xg['teamid']==team1]['xg'].sum() # select data corresponding to team one and sum xg values\n",
    "t2xg=xg[xg['teamid']==team2]['xg'].sum() # select data corresponding to team two and sum xg values\n",
    "print(\"Team {t1} had an expected goals of {xg1}, team {t2} had an expected goals of {xg2}\".format(t1=team1, xg1=t1xg,t2=team2, xg2=t2xg)) # print the score "
   ]
  },
  {
   "cell_type": "markdown",
   "id": "3ceee930",
   "metadata": {},
   "source": [
    "## Q2)\n",
    "### a) Which possessionid had the highest total successful passes? \n",
    "### b) How many successful passes were there and why do you think this specific possession had so many?"
   ]
  },
  {
   "cell_type": "markdown",
   "id": "6c191162",
   "metadata": {},
   "source": [
    "## A2) \n",
    "#### a) Possession id 417 had the most successful passes.\n",
    "#### b) There were eight successful passes associated with this possession id. This number of successful passes associated was likely associated with a team's dominance for some time during the game. Reasons for such dominance could include an icing that created a personnel mis-match, injuries or ejections that impeded the non-possession team's ability to capture the puck, or a power play. Further, this possession length could be explained by the play type and start and end locations of the play. For example, the play may have started in the defensive zone and ended in the offensive zone. I could test these ideas by selecting the possession and mapping it on a rink using a scatter plot and image, like I do in a question that follows."
   ]
  },
  {
   "cell_type": "markdown",
   "id": "69ae9c4e",
   "metadata": {},
   "source": [
    "### Below, I show how I completed this step:"
   ]
  },
  {
   "cell_type": "markdown",
   "id": "75c077b2",
   "metadata": {},
   "source": [
    "#### To derive this answer, I selected all rows that had successful passes, selected their possessionid, and used the value_counts() method. Then, I saved the possession id and number of successful passes associated with that id to variables. I used these variables to print my findings using the print function and format method."
   ]
  },
  {
   "cell_type": "code",
   "execution_count": 28,
   "id": "c08bdc85",
   "metadata": {
    "scrolled": true
   },
   "outputs": [
    {
     "name": "stdout",
     "output_type": "stream",
     "text": [
      "The possession id with the most successful passes is 417, with 8 successful passes\n"
     ]
    }
   ],
   "source": [
    "counts = dense[(dense['eventname'] == 'pass') & (dense['outcome'] == 'successful')]['possessionid'].value_counts() # get value counts of possessionids with successful passes and save to variable\n",
    "mostsus = counts.loc[counts.values == counts.values.max()].keys()[0] # save possessionid with most successful passes to variable \n",
    "numsus = counts.values.max() # save number of successful passes from this possessionid to a variable\n",
    "print(\"The possession id with the most successful passes is {}, with {} successful passes\".format(mostsus, numsus)) # print the result"
   ]
  },
  {
   "cell_type": "markdown",
   "id": "bd50c34d",
   "metadata": {},
   "source": [
    "## Q3)\n",
    "### a) Using the event data provided along with x/y coordinate columns, can you identify the likely xCoord of each blueline?"
   ]
  },
  {
   "cell_type": "markdown",
   "id": "20941a95",
   "metadata": {},
   "source": [
    "## A3)\n",
    "#### a) Using the event data provided along with x/y coordinate columns, the most likely x-coordinate of the left-most blueline appears to be -25.5 and the most likley x-coordinate of the right-most blueline appears to be 25.5."
   ]
  },
  {
   "cell_type": "markdown",
   "id": "bf110a02",
   "metadata": {},
   "source": [
    "### Below, I show how I completed this step:"
   ]
  },
  {
   "cell_type": "markdown",
   "id": "1bd581f3",
   "metadata": {},
   "source": [
    "#### To find the most likely x-coordinate of the bluelines, I used a scatter plot, which showed clusters of points near -25.5, 0, and 25.5."
   ]
  },
  {
   "cell_type": "code",
   "execution_count": 29,
   "id": "7800474a",
   "metadata": {},
   "outputs": [
    {
     "data": {
      "application/vnd.plotly.v1+json": {
       "config": {
        "plotlyServerURL": "https://plot.ly"
       },
       "data": [
        {
         "hovertemplate": "xcoord=%{x}<br>ycoord=%{y}<extra></extra>",
         "legendgroup": "",
         "marker": {
          "color": "#636efa",
          "symbol": "circle"
         },
         "mode": "markers",
         "name": "",
         "orientation": "v",
         "showlegend": false,
         "type": "scatter",
         "x": [
          -25.9471435546875,
          -25.352859497070312,
          -0.800079345703125,
          25.352859497070312,
          0.800079345703125,
          25.9471435546875,
          25.352859497070312,
          -25.352859497070312,
          -0.2058029174804687,
          25.9471435546875,
          -25.9471435546875,
          -0.800079345703125,
          25.85580444335937,
          26.45008087158203,
          -0.800079345703125,
          25.352859497070312,
          -25.352859497070312,
          -0.2058029174804687,
          25.9471435546875,
          -25.352859497070312,
          25.352859497070312,
          25.58512115478516,
          25.94715881347656,
          26.088058471679688,
          -0.2057876586914062,
          24.94127655029297,
          -25.211936950683597,
          -25.211936950683597,
          -0.06488037109375,
          -25.445953369140625,
          -0.2988967895507812,
          24.848159790039062,
          0.2988967895507812,
          25.445953369140625,
          -25.854042053222656,
          0.2988967895507812,
          25.445953369140625,
          -0.2988967895507812,
          25.351104736328125,
          -25.948898315429688,
          0.20404052734375,
          25.85578155517578,
          -25.351104736328125,
          -0.20404052734375,
          25.445953369140625,
          0.2988967895507812,
          25.35284423828125,
          25.445953369140625,
          -0.8000946044921875,
          25.85578155517578,
          25.95500946044922,
          -0.8018417358398438,
          25.854042053222656,
          0.3050079345703125,
          25.45206451416016,
          0.20404052734375,
          24.848159790039062,
          0.20404052734375,
          24.34522247314453,
          -25.847930908203125,
          0.3050079345703125,
          -0.1979293823242187,
          -24.84204864501953,
          0.3050079345703125,
          24.949127197265625,
          25.45206451416016,
          -25.978668212890625,
          -0.3264846801757812,
          24.949127197265625,
          26.33167266845703,
          -25.475685119628903,
          -0.1979293823242187,
          24.949127197265625,
          -25.475685119628903,
          0.1764984130859375,
          25.828689575195312,
          25.45206451416016,
          -25.475685119628903,
          -0.8000946044921875,
          -0.7558670043945312,
          24.89413452148437,
          -24.94127655029297,
          0.2057876586914062,
          0.7087249755859375,
          26.358726501464844,
          -25.90292358398437,
          -0.7558670043945312,
          25.39707946777344,
          -24.438331604003903,
          0.7087249755859375,
          -26.40586853027344,
          0.2500152587890625,
          25.90001678466797,
          -0.7558670043945312,
          -24.89704132080078,
          -0.2529220581054687,
          25.90001678466797,
          25.948898315429688,
          -25.351104736328125,
          0.2988967895507812,
          24.943016052246094,
          -0.3050079345703125,
          25.344993591308597,
          24.943016052246094,
          0.1979293823242187,
          -0.3050079345703125,
          25.847930908203125,
          -25.45206451416016,
          -0.3050079345703125,
          25.847930908203125,
          0.7008743286132812,
          25.344993591308597,
          -24.848159790039062,
          0.8018417358398438,
          -25.95500946044922,
          0.7008743286132812,
          0.1979293823242187,
          25.847930908203125,
          -1.2064361572265625,
          0.1979293823242187,
          25.344993591308597,
          24.946510314941406,
          24.94127655029297,
          -25.45206451416016,
          25.344993591308597,
          -26.86166381835937,
          -1.211669921875,
          24.438331604003903,
          -0.3050079345703125,
          25.344993591308597,
          24.894119262695312,
          -0.7529449462890625,
          25.400001525878903,
          25.400001525878903,
          -25.400001525878903,
          -25.397056579589844,
          -0.25,
          25.400001525878903,
          -25.400001525878903,
          0.25,
          -25.397056579589844,
          25.397056579589844,
          0.2529449462890625,
          25.90293884277344,
          -25.900001525878903,
          -0.7529449462890625,
          25.397056579589844,
          -25.900001525878903,
          -0.25,
          25.90293884277344,
          25.400001525878903,
          -25.85580444335937,
          0.800079345703125,
          25.9471435546875,
          -25.397056579589844,
          0.7558822631835938,
          25.90293884277344,
          -0.251434326171875,
          25.39856719970703,
          25.9471435546875,
          -0.708740234375,
          -25.397056579589844,
          -0.25,
          25.400001525878903,
          -25.90142822265625,
          25.449447631835938,
          25.397056579589844,
          27.461212158203125,
          -1.2558822631835938,
          24.897056579589844,
          -24.34172821044922,
          1.3082733154296875,
          25.952392578125,
          -24.894119262695312,
          0.7558822631835938,
          25.400001525878903,
          -24.84466552734375,
          27.461212158203125,
          25.400001525878903,
          -25.344993591308597,
          26.958274841308597,
          -25.019859313964844,
          0.127197265625,
          24.26837921142578,
          -26.02574157714844,
          0.127197265625,
          25.777198791503903,
          1.8112106323242188,
          26.958274841308597,
          25.777198791503903,
          25.777198791503903,
          0.2058029174804687,
          25.449447631835938,
          -25.9471435546875,
          -25.34761047363281,
          -25.9471435546875,
          0.2058029174804687,
          25.95500946044922,
          25.85580444335937
         ],
         "xaxis": "x",
         "y": [
          -38.480506896972656,
          19.648155212402344,
          -37.47462463378906,
          -38.98345184326172,
          -36.178314208984375,
          -37.687137603759766,
          -17.356979370117188,
          37.2510986328125,
          37.75403594970703,
          36.74815368652344,
          7.790081024169922,
          5.778316497802734,
          0.7489051818847656,
          -37.687137603759766,
          -38.480506896972656,
          -38.480506896972656,
          -4.493022918701172,
          -8.516551971435547,
          -12.037139892578123,
          37.977569580078125,
          -0.2569770812988281,
          -37.19521331787109,
          14.338249206542969,
          -39.20697784423828,
          14.338249206542969,
          30.43236541748047,
          39.75478744506836,
          30.198904037475582,
          -38.70404052734375,
          25.90294075012207,
          -0.7529411315917969,
          -17.349998474121094,
          36.96470642089844,
          36.96470642089844,
          -32.88823318481445,
          -38.97941207885742,
          -38.97941207885742,
          -13.382354736328123,
          -32.494117736816406,
          -34.505882263183594,
          -36.01470947265625,
          -35.46177673339844,
          37.46764373779297,
          37.97058868408203,
          35.958824157714844,
          37.46764373779297,
          -24.90001678466797,
          36.96470642089844,
          -29.929428100585938,
          -29.929428100585938,
          21.37352752685547,
          -2.7647056579589844,
          -17.85293960571289,
          39.47940826416016,
          37.97058868408203,
          -33.947059631347656,
          -36.461761474609375,
          -32.438232421875,
          -34.44999694824219,
          9.80588150024414,
          36.96470642089844,
          30.42646789550781,
          -33.95000076293945,
          -5.7852935791015625,
          1.2558822631835938,
          38.47352600097656,
          37.95858383178711,
          35.94664764404297,
          -21.87941169738769,
          7.779544830322266,
          6.7735748291015625,
          4.273529052734375,
          10.811763763427734,
          -32.96216583251953,
          -32.45917510986328,
          -33.96813201904297,
          -37.97352981567383,
          -38.49498748779297,
          -37.97648620605469,
          -4.779388427734375,
          -27.914684295654297,
          -0.2558975219726562,
          -6.794132232666016,
          0.2470436096191406,
          30.42351531982422,
          0.7529640197753906,
          -6.288211822509766,
          -26.908802032470703,
          37.464691162109375,
          -36.46765899658203,
          -10.814685821533203,
          14.835315704345703,
          37.46766662597656,
          20.36766815185547,
          26.40296173095703,
          27.911788940429688,
          34.45001983642578,
          26.9058837890625,
          5.279411315917969,
          -34.95588302612305,
          -36.96764755249024,
          -1.2558822631835938,
          11.317646026611328,
          -20.314706802368164,
          -19.864707946777344,
          8.299999237060547,
          21.87941169738769,
          -37.97058868408203,
          37.47058868408203,
          29.92647171020508,
          25.399999618530277,
          25.90294075012207,
          13.829410552978516,
          -40.99117660522461,
          39.48235321044922,
          40.48823547363281,
          26.405881881713867,
          6.288234710693359,
          -37.47058868408203,
          40.48823547363281,
          39.985294342041016,
          -12.82646942138672,
          33.95295715332031,
          -39.47940826416016,
          -10.811763763427734,
          -34.94998550415039,
          -38.973514556884766,
          -40.98528289794922,
          38.476470947265625,
          6.791175842285156,
          -13.329412460327148,
          -40.48529052734375,
          -39.98235321044922,
          -38.976470947265625,
          -3.270587921142578,
          39.985294342041016,
          -10.811763763427734,
          -4.273529052734375,
          19.36176300048828,
          33.947059631347656,
          19.36470603942871,
          37.97058868408203,
          37.97352981567383,
          36.96764755249024,
          -17.349998474121094,
          -11.314704895019531,
          38.47352600097656,
          -6.2852935791015625,
          -18.858821868896484,
          -35.45587921142578,
          -38.47352600097656,
          -8.516551971435547,
          0.033447265625,
          0.033447265625,
          -26.9058837890625,
          33.64823532104492,
          36.46470642089844,
          -39.29938507080078,
          -34.54430389404297,
          -25.61655044555664,
          40.77168273925781,
          14.033529281616213,
          29.92647171020508,
          36.16294097900391,
          -35.595909118652344,
          33.444114685058594,
          39.47940826416016,
          38.976470947265625,
          -37.635292053222656,
          7.79705810546875,
          2.7647056579589844,
          4.273529052734375,
          14.83529281616211,
          -28.917648315429688,
          -28.917648315429688,
          -32.94117736816406,
          -20.8735294342041,
          38.47352600097656,
          -34.44999694824219,
          31.432350158691406,
          -37.97352981567383,
          -29.929428100585938,
          -35.46177673339844,
          -36.97060394287109,
          -15.344131469726562,
          -36.97060394287109,
          -38.98236846923828,
          22.882354736328125,
          6.788234710693359,
          5.779396057128906,
          -14.841190338134766,
          13.04302215576172,
          39.47940826416016,
          24.610668182373047,
          -26.908823013305664,
          -17.636390686035156,
          10.528316497802734,
          -34.95588302612305,
          -40.26874542236328
         ],
         "yaxis": "y"
        }
       ],
       "layout": {
        "height": 400,
        "legend": {
         "tracegroupgap": 0
        },
        "margin": {
         "t": 60
        },
        "template": {
         "data": {
          "bar": [
           {
            "error_x": {
             "color": "#2a3f5f"
            },
            "error_y": {
             "color": "#2a3f5f"
            },
            "marker": {
             "line": {
              "color": "#E5ECF6",
              "width": 0.5
             },
             "pattern": {
              "fillmode": "overlay",
              "size": 10,
              "solidity": 0.2
             }
            },
            "type": "bar"
           }
          ],
          "barpolar": [
           {
            "marker": {
             "line": {
              "color": "#E5ECF6",
              "width": 0.5
             },
             "pattern": {
              "fillmode": "overlay",
              "size": 10,
              "solidity": 0.2
             }
            },
            "type": "barpolar"
           }
          ],
          "carpet": [
           {
            "aaxis": {
             "endlinecolor": "#2a3f5f",
             "gridcolor": "white",
             "linecolor": "white",
             "minorgridcolor": "white",
             "startlinecolor": "#2a3f5f"
            },
            "baxis": {
             "endlinecolor": "#2a3f5f",
             "gridcolor": "white",
             "linecolor": "white",
             "minorgridcolor": "white",
             "startlinecolor": "#2a3f5f"
            },
            "type": "carpet"
           }
          ],
          "choropleth": [
           {
            "colorbar": {
             "outlinewidth": 0,
             "ticks": ""
            },
            "type": "choropleth"
           }
          ],
          "contour": [
           {
            "colorbar": {
             "outlinewidth": 0,
             "ticks": ""
            },
            "colorscale": [
             [
              0,
              "#0d0887"
             ],
             [
              0.1111111111111111,
              "#46039f"
             ],
             [
              0.2222222222222222,
              "#7201a8"
             ],
             [
              0.3333333333333333,
              "#9c179e"
             ],
             [
              0.4444444444444444,
              "#bd3786"
             ],
             [
              0.5555555555555556,
              "#d8576b"
             ],
             [
              0.6666666666666666,
              "#ed7953"
             ],
             [
              0.7777777777777778,
              "#fb9f3a"
             ],
             [
              0.8888888888888888,
              "#fdca26"
             ],
             [
              1,
              "#f0f921"
             ]
            ],
            "type": "contour"
           }
          ],
          "contourcarpet": [
           {
            "colorbar": {
             "outlinewidth": 0,
             "ticks": ""
            },
            "type": "contourcarpet"
           }
          ],
          "heatmap": [
           {
            "colorbar": {
             "outlinewidth": 0,
             "ticks": ""
            },
            "colorscale": [
             [
              0,
              "#0d0887"
             ],
             [
              0.1111111111111111,
              "#46039f"
             ],
             [
              0.2222222222222222,
              "#7201a8"
             ],
             [
              0.3333333333333333,
              "#9c179e"
             ],
             [
              0.4444444444444444,
              "#bd3786"
             ],
             [
              0.5555555555555556,
              "#d8576b"
             ],
             [
              0.6666666666666666,
              "#ed7953"
             ],
             [
              0.7777777777777778,
              "#fb9f3a"
             ],
             [
              0.8888888888888888,
              "#fdca26"
             ],
             [
              1,
              "#f0f921"
             ]
            ],
            "type": "heatmap"
           }
          ],
          "heatmapgl": [
           {
            "colorbar": {
             "outlinewidth": 0,
             "ticks": ""
            },
            "colorscale": [
             [
              0,
              "#0d0887"
             ],
             [
              0.1111111111111111,
              "#46039f"
             ],
             [
              0.2222222222222222,
              "#7201a8"
             ],
             [
              0.3333333333333333,
              "#9c179e"
             ],
             [
              0.4444444444444444,
              "#bd3786"
             ],
             [
              0.5555555555555556,
              "#d8576b"
             ],
             [
              0.6666666666666666,
              "#ed7953"
             ],
             [
              0.7777777777777778,
              "#fb9f3a"
             ],
             [
              0.8888888888888888,
              "#fdca26"
             ],
             [
              1,
              "#f0f921"
             ]
            ],
            "type": "heatmapgl"
           }
          ],
          "histogram": [
           {
            "marker": {
             "pattern": {
              "fillmode": "overlay",
              "size": 10,
              "solidity": 0.2
             }
            },
            "type": "histogram"
           }
          ],
          "histogram2d": [
           {
            "colorbar": {
             "outlinewidth": 0,
             "ticks": ""
            },
            "colorscale": [
             [
              0,
              "#0d0887"
             ],
             [
              0.1111111111111111,
              "#46039f"
             ],
             [
              0.2222222222222222,
              "#7201a8"
             ],
             [
              0.3333333333333333,
              "#9c179e"
             ],
             [
              0.4444444444444444,
              "#bd3786"
             ],
             [
              0.5555555555555556,
              "#d8576b"
             ],
             [
              0.6666666666666666,
              "#ed7953"
             ],
             [
              0.7777777777777778,
              "#fb9f3a"
             ],
             [
              0.8888888888888888,
              "#fdca26"
             ],
             [
              1,
              "#f0f921"
             ]
            ],
            "type": "histogram2d"
           }
          ],
          "histogram2dcontour": [
           {
            "colorbar": {
             "outlinewidth": 0,
             "ticks": ""
            },
            "colorscale": [
             [
              0,
              "#0d0887"
             ],
             [
              0.1111111111111111,
              "#46039f"
             ],
             [
              0.2222222222222222,
              "#7201a8"
             ],
             [
              0.3333333333333333,
              "#9c179e"
             ],
             [
              0.4444444444444444,
              "#bd3786"
             ],
             [
              0.5555555555555556,
              "#d8576b"
             ],
             [
              0.6666666666666666,
              "#ed7953"
             ],
             [
              0.7777777777777778,
              "#fb9f3a"
             ],
             [
              0.8888888888888888,
              "#fdca26"
             ],
             [
              1,
              "#f0f921"
             ]
            ],
            "type": "histogram2dcontour"
           }
          ],
          "mesh3d": [
           {
            "colorbar": {
             "outlinewidth": 0,
             "ticks": ""
            },
            "type": "mesh3d"
           }
          ],
          "parcoords": [
           {
            "line": {
             "colorbar": {
              "outlinewidth": 0,
              "ticks": ""
             }
            },
            "type": "parcoords"
           }
          ],
          "pie": [
           {
            "automargin": true,
            "type": "pie"
           }
          ],
          "scatter": [
           {
            "fillpattern": {
             "fillmode": "overlay",
             "size": 10,
             "solidity": 0.2
            },
            "type": "scatter"
           }
          ],
          "scatter3d": [
           {
            "line": {
             "colorbar": {
              "outlinewidth": 0,
              "ticks": ""
             }
            },
            "marker": {
             "colorbar": {
              "outlinewidth": 0,
              "ticks": ""
             }
            },
            "type": "scatter3d"
           }
          ],
          "scattercarpet": [
           {
            "marker": {
             "colorbar": {
              "outlinewidth": 0,
              "ticks": ""
             }
            },
            "type": "scattercarpet"
           }
          ],
          "scattergeo": [
           {
            "marker": {
             "colorbar": {
              "outlinewidth": 0,
              "ticks": ""
             }
            },
            "type": "scattergeo"
           }
          ],
          "scattergl": [
           {
            "marker": {
             "colorbar": {
              "outlinewidth": 0,
              "ticks": ""
             }
            },
            "type": "scattergl"
           }
          ],
          "scattermapbox": [
           {
            "marker": {
             "colorbar": {
              "outlinewidth": 0,
              "ticks": ""
             }
            },
            "type": "scattermapbox"
           }
          ],
          "scatterpolar": [
           {
            "marker": {
             "colorbar": {
              "outlinewidth": 0,
              "ticks": ""
             }
            },
            "type": "scatterpolar"
           }
          ],
          "scatterpolargl": [
           {
            "marker": {
             "colorbar": {
              "outlinewidth": 0,
              "ticks": ""
             }
            },
            "type": "scatterpolargl"
           }
          ],
          "scatterternary": [
           {
            "marker": {
             "colorbar": {
              "outlinewidth": 0,
              "ticks": ""
             }
            },
            "type": "scatterternary"
           }
          ],
          "surface": [
           {
            "colorbar": {
             "outlinewidth": 0,
             "ticks": ""
            },
            "colorscale": [
             [
              0,
              "#0d0887"
             ],
             [
              0.1111111111111111,
              "#46039f"
             ],
             [
              0.2222222222222222,
              "#7201a8"
             ],
             [
              0.3333333333333333,
              "#9c179e"
             ],
             [
              0.4444444444444444,
              "#bd3786"
             ],
             [
              0.5555555555555556,
              "#d8576b"
             ],
             [
              0.6666666666666666,
              "#ed7953"
             ],
             [
              0.7777777777777778,
              "#fb9f3a"
             ],
             [
              0.8888888888888888,
              "#fdca26"
             ],
             [
              1,
              "#f0f921"
             ]
            ],
            "type": "surface"
           }
          ],
          "table": [
           {
            "cells": {
             "fill": {
              "color": "#EBF0F8"
             },
             "line": {
              "color": "white"
             }
            },
            "header": {
             "fill": {
              "color": "#C8D4E3"
             },
             "line": {
              "color": "white"
             }
            },
            "type": "table"
           }
          ]
         },
         "layout": {
          "annotationdefaults": {
           "arrowcolor": "#2a3f5f",
           "arrowhead": 0,
           "arrowwidth": 1
          },
          "autotypenumbers": "strict",
          "coloraxis": {
           "colorbar": {
            "outlinewidth": 0,
            "ticks": ""
           }
          },
          "colorscale": {
           "diverging": [
            [
             0,
             "#8e0152"
            ],
            [
             0.1,
             "#c51b7d"
            ],
            [
             0.2,
             "#de77ae"
            ],
            [
             0.3,
             "#f1b6da"
            ],
            [
             0.4,
             "#fde0ef"
            ],
            [
             0.5,
             "#f7f7f7"
            ],
            [
             0.6,
             "#e6f5d0"
            ],
            [
             0.7,
             "#b8e186"
            ],
            [
             0.8,
             "#7fbc41"
            ],
            [
             0.9,
             "#4d9221"
            ],
            [
             1,
             "#276419"
            ]
           ],
           "sequential": [
            [
             0,
             "#0d0887"
            ],
            [
             0.1111111111111111,
             "#46039f"
            ],
            [
             0.2222222222222222,
             "#7201a8"
            ],
            [
             0.3333333333333333,
             "#9c179e"
            ],
            [
             0.4444444444444444,
             "#bd3786"
            ],
            [
             0.5555555555555556,
             "#d8576b"
            ],
            [
             0.6666666666666666,
             "#ed7953"
            ],
            [
             0.7777777777777778,
             "#fb9f3a"
            ],
            [
             0.8888888888888888,
             "#fdca26"
            ],
            [
             1,
             "#f0f921"
            ]
           ],
           "sequentialminus": [
            [
             0,
             "#0d0887"
            ],
            [
             0.1111111111111111,
             "#46039f"
            ],
            [
             0.2222222222222222,
             "#7201a8"
            ],
            [
             0.3333333333333333,
             "#9c179e"
            ],
            [
             0.4444444444444444,
             "#bd3786"
            ],
            [
             0.5555555555555556,
             "#d8576b"
            ],
            [
             0.6666666666666666,
             "#ed7953"
            ],
            [
             0.7777777777777778,
             "#fb9f3a"
            ],
            [
             0.8888888888888888,
             "#fdca26"
            ],
            [
             1,
             "#f0f921"
            ]
           ]
          },
          "colorway": [
           "#636efa",
           "#EF553B",
           "#00cc96",
           "#ab63fa",
           "#FFA15A",
           "#19d3f3",
           "#FF6692",
           "#B6E880",
           "#FF97FF",
           "#FECB52"
          ],
          "font": {
           "color": "#2a3f5f"
          },
          "geo": {
           "bgcolor": "white",
           "lakecolor": "white",
           "landcolor": "#E5ECF6",
           "showlakes": true,
           "showland": true,
           "subunitcolor": "white"
          },
          "hoverlabel": {
           "align": "left"
          },
          "hovermode": "closest",
          "mapbox": {
           "style": "light"
          },
          "paper_bgcolor": "white",
          "plot_bgcolor": "#E5ECF6",
          "polar": {
           "angularaxis": {
            "gridcolor": "white",
            "linecolor": "white",
            "ticks": ""
           },
           "bgcolor": "#E5ECF6",
           "radialaxis": {
            "gridcolor": "white",
            "linecolor": "white",
            "ticks": ""
           }
          },
          "scene": {
           "xaxis": {
            "backgroundcolor": "#E5ECF6",
            "gridcolor": "white",
            "gridwidth": 2,
            "linecolor": "white",
            "showbackground": true,
            "ticks": "",
            "zerolinecolor": "white"
           },
           "yaxis": {
            "backgroundcolor": "#E5ECF6",
            "gridcolor": "white",
            "gridwidth": 2,
            "linecolor": "white",
            "showbackground": true,
            "ticks": "",
            "zerolinecolor": "white"
           },
           "zaxis": {
            "backgroundcolor": "#E5ECF6",
            "gridcolor": "white",
            "gridwidth": 2,
            "linecolor": "white",
            "showbackground": true,
            "ticks": "",
            "zerolinecolor": "white"
           }
          },
          "shapedefaults": {
           "line": {
            "color": "#2a3f5f"
           }
          },
          "ternary": {
           "aaxis": {
            "gridcolor": "white",
            "linecolor": "white",
            "ticks": ""
           },
           "baxis": {
            "gridcolor": "white",
            "linecolor": "white",
            "ticks": ""
           },
           "bgcolor": "#E5ECF6",
           "caxis": {
            "gridcolor": "white",
            "linecolor": "white",
            "ticks": ""
           }
          },
          "title": {
           "x": 0.05
          },
          "xaxis": {
           "automargin": true,
           "gridcolor": "white",
           "linecolor": "white",
           "ticks": "",
           "title": {
            "standoff": 15
           },
           "zerolinecolor": "white",
           "zerolinewidth": 2
          },
          "yaxis": {
           "automargin": true,
           "gridcolor": "white",
           "linecolor": "white",
           "ticks": "",
           "title": {
            "standoff": 15
           },
           "zerolinecolor": "white",
           "zerolinewidth": 2
          }
         }
        },
        "width": 800,
        "xaxis": {
         "anchor": "y",
         "domain": [
          0,
          1
         ],
         "title": {
          "text": "xcoord"
         }
        },
        "yaxis": {
         "anchor": "x",
         "domain": [
          0,
          1
         ],
         "title": {
          "text": "ycoord"
         }
        }
       }
      }
     },
     "metadata": {},
     "output_type": "display_data"
    }
   ],
   "source": [
    "lcs = dense[dense['eventname'] == 'linecarry'][['xcoord','ycoord']] # select line carries and isolate coords\n",
    "fig = px.scatter(lcs, x=\"xcoord\", y=\"ycoord\", width=800, height=400) # make scatter plot and assign to namespace\n",
    "fig.show() # show figure "
   ]
  },
  {
   "cell_type": "markdown",
   "id": "070b9f69",
   "metadata": {},
   "source": [
    "#### Further, I selected the blueline data based on my observations and labeled them with blue1 or blue2, which correspond with the left and right blue lines, respectively. Then, I tabulated summary stats and histograms, which appear to show x-coordinates between 25 and 26 and -25 and -26 being most commonly represented. "
   ]
  },
  {
   "cell_type": "code",
   "execution_count": 30,
   "id": "5370c016",
   "metadata": {},
   "outputs": [
    {
     "name": "stdout",
     "output_type": "stream",
     "text": [
      "          xcoord\n",
      "count  48.000000\n",
      "mean  -25.491443\n",
      "std     0.480397\n",
      "min   -26.861664\n",
      "25%   -25.900358\n",
      "50%   -25.400002\n",
      "75%   -25.346956\n",
      "max   -24.341728\n",
      "          xcoord\n",
      "count  84.000000\n",
      "mean   25.574989\n",
      "std     0.571430\n",
      "min    24.268379\n",
      "25%    25.349577\n",
      "50%    25.445953\n",
      "75%    25.900747\n",
      "max    27.461212\n"
     ]
    }
   ],
   "source": [
    " # set conditions for selection\n",
    "conditions = [ \n",
    "    (lcs['xcoord'] < -20),\n",
    "    (lcs['xcoord'] > 20)\n",
    "    ]\n",
    "# create a list of the values we want to assign for each condition\n",
    "values = ['blue1', 'blue2']\n",
    "# create a new column and use np.select to assign values to it using our lists as arguments\n",
    "lcs['lines'] = np.select(conditions, values) \n",
    "lcs['lines'].astype('category') \n",
    "lcs_blues = lcs[lcs['lines']!='0'] # remove redline \n",
    "b1 = lcs_blues[lcs_blues['lines'] == 'blue1'][['xcoord']] # assign blue1's x-coordinate's to a variable \n",
    "b2 = lcs_blues[lcs_blues['lines'] == 'blue2'][['xcoord']] # assign blue2's x-coordinate's to a variable  \n",
    "print(b1.describe()) # print summary stats \n",
    "print(b2.describe()) # print summary stats\n",
    "fig1 = px.histogram(b1, x=\"xcoord\") # create histogram \n",
    "#fig1.show() \n",
    "fig2 = px.histogram(b2, x=\"xcoord\") # create histogram \n",
    "#fig2.show()"
   ]
  },
  {
   "cell_type": "markdown",
   "id": "4f0e885d",
   "metadata": {},
   "source": [
    "#### In addition, I overlaid the line carries on a .png image of a NHL ice surface using plotly's px.scatter class and add_layout_image method. This further revealed that the centers of the blue lines are around the x-coords -25.5 and 25.5."
   ]
  },
  {
   "cell_type": "code",
   "execution_count": 31,
   "id": "154e09ed",
   "metadata": {},
   "outputs": [
    {
     "data": {
      "application/vnd.plotly.v1+json": {
       "config": {
        "plotlyServerURL": "https://plot.ly"
       },
       "data": [
        {
         "hovertemplate": "xcoord=%{x}<br>ycoord=%{y}<extra></extra>",
         "legendgroup": "",
         "marker": {
          "color": "#636efa",
          "symbol": "circle"
         },
         "mode": "markers",
         "name": "",
         "orientation": "v",
         "showlegend": false,
         "type": "scatter",
         "x": [
          -25.9471435546875,
          -25.352859497070312,
          -0.800079345703125,
          25.352859497070312,
          0.800079345703125,
          25.9471435546875,
          25.352859497070312,
          -25.352859497070312,
          -0.2058029174804687,
          25.9471435546875,
          -25.9471435546875,
          -0.800079345703125,
          25.85580444335937,
          26.45008087158203,
          -0.800079345703125,
          25.352859497070312,
          -25.352859497070312,
          -0.2058029174804687,
          25.9471435546875,
          -25.352859497070312,
          25.352859497070312,
          25.58512115478516,
          25.94715881347656,
          26.088058471679688,
          -0.2057876586914062,
          24.94127655029297,
          -25.211936950683597,
          -25.211936950683597,
          -0.06488037109375,
          -25.445953369140625,
          -0.2988967895507812,
          24.848159790039062,
          0.2988967895507812,
          25.445953369140625,
          -25.854042053222656,
          0.2988967895507812,
          25.445953369140625,
          -0.2988967895507812,
          25.351104736328125,
          -25.948898315429688,
          0.20404052734375,
          25.85578155517578,
          -25.351104736328125,
          -0.20404052734375,
          25.445953369140625,
          0.2988967895507812,
          25.35284423828125,
          25.445953369140625,
          -0.8000946044921875,
          25.85578155517578,
          25.95500946044922,
          -0.8018417358398438,
          25.854042053222656,
          0.3050079345703125,
          25.45206451416016,
          0.20404052734375,
          24.848159790039062,
          0.20404052734375,
          24.34522247314453,
          -25.847930908203125,
          0.3050079345703125,
          -0.1979293823242187,
          -24.84204864501953,
          0.3050079345703125,
          24.949127197265625,
          25.45206451416016,
          -25.978668212890625,
          -0.3264846801757812,
          24.949127197265625,
          26.33167266845703,
          -25.475685119628903,
          -0.1979293823242187,
          24.949127197265625,
          -25.475685119628903,
          0.1764984130859375,
          25.828689575195312,
          25.45206451416016,
          -25.475685119628903,
          -0.8000946044921875,
          -0.7558670043945312,
          24.89413452148437,
          -24.94127655029297,
          0.2057876586914062,
          0.7087249755859375,
          26.358726501464844,
          -25.90292358398437,
          -0.7558670043945312,
          25.39707946777344,
          -24.438331604003903,
          0.7087249755859375,
          -26.40586853027344,
          0.2500152587890625,
          25.90001678466797,
          -0.7558670043945312,
          -24.89704132080078,
          -0.2529220581054687,
          25.90001678466797,
          25.948898315429688,
          -25.351104736328125,
          0.2988967895507812,
          24.943016052246094,
          -0.3050079345703125,
          25.344993591308597,
          24.943016052246094,
          0.1979293823242187,
          -0.3050079345703125,
          25.847930908203125,
          -25.45206451416016,
          -0.3050079345703125,
          25.847930908203125,
          0.7008743286132812,
          25.344993591308597,
          -24.848159790039062,
          0.8018417358398438,
          -25.95500946044922,
          0.7008743286132812,
          0.1979293823242187,
          25.847930908203125,
          -1.2064361572265625,
          0.1979293823242187,
          25.344993591308597,
          24.946510314941406,
          24.94127655029297,
          -25.45206451416016,
          25.344993591308597,
          -26.86166381835937,
          -1.211669921875,
          24.438331604003903,
          -0.3050079345703125,
          25.344993591308597,
          24.894119262695312,
          -0.7529449462890625,
          25.400001525878903,
          25.400001525878903,
          -25.400001525878903,
          -25.397056579589844,
          -0.25,
          25.400001525878903,
          -25.400001525878903,
          0.25,
          -25.397056579589844,
          25.397056579589844,
          0.2529449462890625,
          25.90293884277344,
          -25.900001525878903,
          -0.7529449462890625,
          25.397056579589844,
          -25.900001525878903,
          -0.25,
          25.90293884277344,
          25.400001525878903,
          -25.85580444335937,
          0.800079345703125,
          25.9471435546875,
          -25.397056579589844,
          0.7558822631835938,
          25.90293884277344,
          -0.251434326171875,
          25.39856719970703,
          25.9471435546875,
          -0.708740234375,
          -25.397056579589844,
          -0.25,
          25.400001525878903,
          -25.90142822265625,
          25.449447631835938,
          25.397056579589844,
          27.461212158203125,
          -1.2558822631835938,
          24.897056579589844,
          -24.34172821044922,
          1.3082733154296875,
          25.952392578125,
          -24.894119262695312,
          0.7558822631835938,
          25.400001525878903,
          -24.84466552734375,
          27.461212158203125,
          25.400001525878903,
          -25.344993591308597,
          26.958274841308597,
          -25.019859313964844,
          0.127197265625,
          24.26837921142578,
          -26.02574157714844,
          0.127197265625,
          25.777198791503903,
          1.8112106323242188,
          26.958274841308597,
          25.777198791503903,
          25.777198791503903,
          0.2058029174804687,
          25.449447631835938,
          -25.9471435546875,
          -25.34761047363281,
          -25.9471435546875,
          0.2058029174804687,
          25.95500946044922,
          25.85580444335937
         ],
         "xaxis": "x",
         "y": [
          -38.480506896972656,
          19.648155212402344,
          -37.47462463378906,
          -38.98345184326172,
          -36.178314208984375,
          -37.687137603759766,
          -17.356979370117188,
          37.2510986328125,
          37.75403594970703,
          36.74815368652344,
          7.790081024169922,
          5.778316497802734,
          0.7489051818847656,
          -37.687137603759766,
          -38.480506896972656,
          -38.480506896972656,
          -4.493022918701172,
          -8.516551971435547,
          -12.037139892578123,
          37.977569580078125,
          -0.2569770812988281,
          -37.19521331787109,
          14.338249206542969,
          -39.20697784423828,
          14.338249206542969,
          30.43236541748047,
          39.75478744506836,
          30.198904037475582,
          -38.70404052734375,
          25.90294075012207,
          -0.7529411315917969,
          -17.349998474121094,
          36.96470642089844,
          36.96470642089844,
          -32.88823318481445,
          -38.97941207885742,
          -38.97941207885742,
          -13.382354736328123,
          -32.494117736816406,
          -34.505882263183594,
          -36.01470947265625,
          -35.46177673339844,
          37.46764373779297,
          37.97058868408203,
          35.958824157714844,
          37.46764373779297,
          -24.90001678466797,
          36.96470642089844,
          -29.929428100585938,
          -29.929428100585938,
          21.37352752685547,
          -2.7647056579589844,
          -17.85293960571289,
          39.47940826416016,
          37.97058868408203,
          -33.947059631347656,
          -36.461761474609375,
          -32.438232421875,
          -34.44999694824219,
          9.80588150024414,
          36.96470642089844,
          30.42646789550781,
          -33.95000076293945,
          -5.7852935791015625,
          1.2558822631835938,
          38.47352600097656,
          37.95858383178711,
          35.94664764404297,
          -21.87941169738769,
          7.779544830322266,
          6.7735748291015625,
          4.273529052734375,
          10.811763763427734,
          -32.96216583251953,
          -32.45917510986328,
          -33.96813201904297,
          -37.97352981567383,
          -38.49498748779297,
          -37.97648620605469,
          -4.779388427734375,
          -27.914684295654297,
          -0.2558975219726562,
          -6.794132232666016,
          0.2470436096191406,
          30.42351531982422,
          0.7529640197753906,
          -6.288211822509766,
          -26.908802032470703,
          37.464691162109375,
          -36.46765899658203,
          -10.814685821533203,
          14.835315704345703,
          37.46766662597656,
          20.36766815185547,
          26.40296173095703,
          27.911788940429688,
          34.45001983642578,
          26.9058837890625,
          5.279411315917969,
          -34.95588302612305,
          -36.96764755249024,
          -1.2558822631835938,
          11.317646026611328,
          -20.314706802368164,
          -19.864707946777344,
          8.299999237060547,
          21.87941169738769,
          -37.97058868408203,
          37.47058868408203,
          29.92647171020508,
          25.399999618530277,
          25.90294075012207,
          13.829410552978516,
          -40.99117660522461,
          39.48235321044922,
          40.48823547363281,
          26.405881881713867,
          6.288234710693359,
          -37.47058868408203,
          40.48823547363281,
          39.985294342041016,
          -12.82646942138672,
          33.95295715332031,
          -39.47940826416016,
          -10.811763763427734,
          -34.94998550415039,
          -38.973514556884766,
          -40.98528289794922,
          38.476470947265625,
          6.791175842285156,
          -13.329412460327148,
          -40.48529052734375,
          -39.98235321044922,
          -38.976470947265625,
          -3.270587921142578,
          39.985294342041016,
          -10.811763763427734,
          -4.273529052734375,
          19.36176300048828,
          33.947059631347656,
          19.36470603942871,
          37.97058868408203,
          37.97352981567383,
          36.96764755249024,
          -17.349998474121094,
          -11.314704895019531,
          38.47352600097656,
          -6.2852935791015625,
          -18.858821868896484,
          -35.45587921142578,
          -38.47352600097656,
          -8.516551971435547,
          0.033447265625,
          0.033447265625,
          -26.9058837890625,
          33.64823532104492,
          36.46470642089844,
          -39.29938507080078,
          -34.54430389404297,
          -25.61655044555664,
          40.77168273925781,
          14.033529281616213,
          29.92647171020508,
          36.16294097900391,
          -35.595909118652344,
          33.444114685058594,
          39.47940826416016,
          38.976470947265625,
          -37.635292053222656,
          7.79705810546875,
          2.7647056579589844,
          4.273529052734375,
          14.83529281616211,
          -28.917648315429688,
          -28.917648315429688,
          -32.94117736816406,
          -20.8735294342041,
          38.47352600097656,
          -34.44999694824219,
          31.432350158691406,
          -37.97352981567383,
          -29.929428100585938,
          -35.46177673339844,
          -36.97060394287109,
          -15.344131469726562,
          -36.97060394287109,
          -38.98236846923828,
          22.882354736328125,
          6.788234710693359,
          5.779396057128906,
          -14.841190338134766,
          13.04302215576172,
          39.47940826416016,
          24.610668182373047,
          -26.908823013305664,
          -17.636390686035156,
          10.528316497802734,
          -34.95588302612305,
          -40.26874542236328
         ],
         "yaxis": "y"
        }
       ],
       "layout": {
        "height": 400,
        "images": [
         {
          "layer": "below",
          "opacity": 1,
          "sizex": 200,
          "sizey": 85,
          "sizing": "stretch",
          "source": "https://i.imgur.com/Y2kOUX5.png",
          "x": 0,
          "xanchor": "center",
          "xref": "x",
          "y": 0,
          "yanchor": "middle",
          "yref": "y"
         }
        ],
        "legend": {
         "tracegroupgap": 0
        },
        "margin": {
         "t": 60
        },
        "template": {
         "data": {
          "bar": [
           {
            "error_x": {
             "color": "#2a3f5f"
            },
            "error_y": {
             "color": "#2a3f5f"
            },
            "marker": {
             "line": {
              "color": "#E5ECF6",
              "width": 0.5
             },
             "pattern": {
              "fillmode": "overlay",
              "size": 10,
              "solidity": 0.2
             }
            },
            "type": "bar"
           }
          ],
          "barpolar": [
           {
            "marker": {
             "line": {
              "color": "#E5ECF6",
              "width": 0.5
             },
             "pattern": {
              "fillmode": "overlay",
              "size": 10,
              "solidity": 0.2
             }
            },
            "type": "barpolar"
           }
          ],
          "carpet": [
           {
            "aaxis": {
             "endlinecolor": "#2a3f5f",
             "gridcolor": "white",
             "linecolor": "white",
             "minorgridcolor": "white",
             "startlinecolor": "#2a3f5f"
            },
            "baxis": {
             "endlinecolor": "#2a3f5f",
             "gridcolor": "white",
             "linecolor": "white",
             "minorgridcolor": "white",
             "startlinecolor": "#2a3f5f"
            },
            "type": "carpet"
           }
          ],
          "choropleth": [
           {
            "colorbar": {
             "outlinewidth": 0,
             "ticks": ""
            },
            "type": "choropleth"
           }
          ],
          "contour": [
           {
            "colorbar": {
             "outlinewidth": 0,
             "ticks": ""
            },
            "colorscale": [
             [
              0,
              "#0d0887"
             ],
             [
              0.1111111111111111,
              "#46039f"
             ],
             [
              0.2222222222222222,
              "#7201a8"
             ],
             [
              0.3333333333333333,
              "#9c179e"
             ],
             [
              0.4444444444444444,
              "#bd3786"
             ],
             [
              0.5555555555555556,
              "#d8576b"
             ],
             [
              0.6666666666666666,
              "#ed7953"
             ],
             [
              0.7777777777777778,
              "#fb9f3a"
             ],
             [
              0.8888888888888888,
              "#fdca26"
             ],
             [
              1,
              "#f0f921"
             ]
            ],
            "type": "contour"
           }
          ],
          "contourcarpet": [
           {
            "colorbar": {
             "outlinewidth": 0,
             "ticks": ""
            },
            "type": "contourcarpet"
           }
          ],
          "heatmap": [
           {
            "colorbar": {
             "outlinewidth": 0,
             "ticks": ""
            },
            "colorscale": [
             [
              0,
              "#0d0887"
             ],
             [
              0.1111111111111111,
              "#46039f"
             ],
             [
              0.2222222222222222,
              "#7201a8"
             ],
             [
              0.3333333333333333,
              "#9c179e"
             ],
             [
              0.4444444444444444,
              "#bd3786"
             ],
             [
              0.5555555555555556,
              "#d8576b"
             ],
             [
              0.6666666666666666,
              "#ed7953"
             ],
             [
              0.7777777777777778,
              "#fb9f3a"
             ],
             [
              0.8888888888888888,
              "#fdca26"
             ],
             [
              1,
              "#f0f921"
             ]
            ],
            "type": "heatmap"
           }
          ],
          "heatmapgl": [
           {
            "colorbar": {
             "outlinewidth": 0,
             "ticks": ""
            },
            "colorscale": [
             [
              0,
              "#0d0887"
             ],
             [
              0.1111111111111111,
              "#46039f"
             ],
             [
              0.2222222222222222,
              "#7201a8"
             ],
             [
              0.3333333333333333,
              "#9c179e"
             ],
             [
              0.4444444444444444,
              "#bd3786"
             ],
             [
              0.5555555555555556,
              "#d8576b"
             ],
             [
              0.6666666666666666,
              "#ed7953"
             ],
             [
              0.7777777777777778,
              "#fb9f3a"
             ],
             [
              0.8888888888888888,
              "#fdca26"
             ],
             [
              1,
              "#f0f921"
             ]
            ],
            "type": "heatmapgl"
           }
          ],
          "histogram": [
           {
            "marker": {
             "pattern": {
              "fillmode": "overlay",
              "size": 10,
              "solidity": 0.2
             }
            },
            "type": "histogram"
           }
          ],
          "histogram2d": [
           {
            "colorbar": {
             "outlinewidth": 0,
             "ticks": ""
            },
            "colorscale": [
             [
              0,
              "#0d0887"
             ],
             [
              0.1111111111111111,
              "#46039f"
             ],
             [
              0.2222222222222222,
              "#7201a8"
             ],
             [
              0.3333333333333333,
              "#9c179e"
             ],
             [
              0.4444444444444444,
              "#bd3786"
             ],
             [
              0.5555555555555556,
              "#d8576b"
             ],
             [
              0.6666666666666666,
              "#ed7953"
             ],
             [
              0.7777777777777778,
              "#fb9f3a"
             ],
             [
              0.8888888888888888,
              "#fdca26"
             ],
             [
              1,
              "#f0f921"
             ]
            ],
            "type": "histogram2d"
           }
          ],
          "histogram2dcontour": [
           {
            "colorbar": {
             "outlinewidth": 0,
             "ticks": ""
            },
            "colorscale": [
             [
              0,
              "#0d0887"
             ],
             [
              0.1111111111111111,
              "#46039f"
             ],
             [
              0.2222222222222222,
              "#7201a8"
             ],
             [
              0.3333333333333333,
              "#9c179e"
             ],
             [
              0.4444444444444444,
              "#bd3786"
             ],
             [
              0.5555555555555556,
              "#d8576b"
             ],
             [
              0.6666666666666666,
              "#ed7953"
             ],
             [
              0.7777777777777778,
              "#fb9f3a"
             ],
             [
              0.8888888888888888,
              "#fdca26"
             ],
             [
              1,
              "#f0f921"
             ]
            ],
            "type": "histogram2dcontour"
           }
          ],
          "mesh3d": [
           {
            "colorbar": {
             "outlinewidth": 0,
             "ticks": ""
            },
            "type": "mesh3d"
           }
          ],
          "parcoords": [
           {
            "line": {
             "colorbar": {
              "outlinewidth": 0,
              "ticks": ""
             }
            },
            "type": "parcoords"
           }
          ],
          "pie": [
           {
            "automargin": true,
            "type": "pie"
           }
          ],
          "scatter": [
           {
            "fillpattern": {
             "fillmode": "overlay",
             "size": 10,
             "solidity": 0.2
            },
            "type": "scatter"
           }
          ],
          "scatter3d": [
           {
            "line": {
             "colorbar": {
              "outlinewidth": 0,
              "ticks": ""
             }
            },
            "marker": {
             "colorbar": {
              "outlinewidth": 0,
              "ticks": ""
             }
            },
            "type": "scatter3d"
           }
          ],
          "scattercarpet": [
           {
            "marker": {
             "colorbar": {
              "outlinewidth": 0,
              "ticks": ""
             }
            },
            "type": "scattercarpet"
           }
          ],
          "scattergeo": [
           {
            "marker": {
             "colorbar": {
              "outlinewidth": 0,
              "ticks": ""
             }
            },
            "type": "scattergeo"
           }
          ],
          "scattergl": [
           {
            "marker": {
             "colorbar": {
              "outlinewidth": 0,
              "ticks": ""
             }
            },
            "type": "scattergl"
           }
          ],
          "scattermapbox": [
           {
            "marker": {
             "colorbar": {
              "outlinewidth": 0,
              "ticks": ""
             }
            },
            "type": "scattermapbox"
           }
          ],
          "scatterpolar": [
           {
            "marker": {
             "colorbar": {
              "outlinewidth": 0,
              "ticks": ""
             }
            },
            "type": "scatterpolar"
           }
          ],
          "scatterpolargl": [
           {
            "marker": {
             "colorbar": {
              "outlinewidth": 0,
              "ticks": ""
             }
            },
            "type": "scatterpolargl"
           }
          ],
          "scatterternary": [
           {
            "marker": {
             "colorbar": {
              "outlinewidth": 0,
              "ticks": ""
             }
            },
            "type": "scatterternary"
           }
          ],
          "surface": [
           {
            "colorbar": {
             "outlinewidth": 0,
             "ticks": ""
            },
            "colorscale": [
             [
              0,
              "#0d0887"
             ],
             [
              0.1111111111111111,
              "#46039f"
             ],
             [
              0.2222222222222222,
              "#7201a8"
             ],
             [
              0.3333333333333333,
              "#9c179e"
             ],
             [
              0.4444444444444444,
              "#bd3786"
             ],
             [
              0.5555555555555556,
              "#d8576b"
             ],
             [
              0.6666666666666666,
              "#ed7953"
             ],
             [
              0.7777777777777778,
              "#fb9f3a"
             ],
             [
              0.8888888888888888,
              "#fdca26"
             ],
             [
              1,
              "#f0f921"
             ]
            ],
            "type": "surface"
           }
          ],
          "table": [
           {
            "cells": {
             "fill": {
              "color": "#EBF0F8"
             },
             "line": {
              "color": "white"
             }
            },
            "header": {
             "fill": {
              "color": "#C8D4E3"
             },
             "line": {
              "color": "white"
             }
            },
            "type": "table"
           }
          ]
         },
         "layout": {
          "annotationdefaults": {
           "arrowcolor": "#2a3f5f",
           "arrowhead": 0,
           "arrowwidth": 1
          },
          "autotypenumbers": "strict",
          "coloraxis": {
           "colorbar": {
            "outlinewidth": 0,
            "ticks": ""
           }
          },
          "colorscale": {
           "diverging": [
            [
             0,
             "#8e0152"
            ],
            [
             0.1,
             "#c51b7d"
            ],
            [
             0.2,
             "#de77ae"
            ],
            [
             0.3,
             "#f1b6da"
            ],
            [
             0.4,
             "#fde0ef"
            ],
            [
             0.5,
             "#f7f7f7"
            ],
            [
             0.6,
             "#e6f5d0"
            ],
            [
             0.7,
             "#b8e186"
            ],
            [
             0.8,
             "#7fbc41"
            ],
            [
             0.9,
             "#4d9221"
            ],
            [
             1,
             "#276419"
            ]
           ],
           "sequential": [
            [
             0,
             "#0d0887"
            ],
            [
             0.1111111111111111,
             "#46039f"
            ],
            [
             0.2222222222222222,
             "#7201a8"
            ],
            [
             0.3333333333333333,
             "#9c179e"
            ],
            [
             0.4444444444444444,
             "#bd3786"
            ],
            [
             0.5555555555555556,
             "#d8576b"
            ],
            [
             0.6666666666666666,
             "#ed7953"
            ],
            [
             0.7777777777777778,
             "#fb9f3a"
            ],
            [
             0.8888888888888888,
             "#fdca26"
            ],
            [
             1,
             "#f0f921"
            ]
           ],
           "sequentialminus": [
            [
             0,
             "#0d0887"
            ],
            [
             0.1111111111111111,
             "#46039f"
            ],
            [
             0.2222222222222222,
             "#7201a8"
            ],
            [
             0.3333333333333333,
             "#9c179e"
            ],
            [
             0.4444444444444444,
             "#bd3786"
            ],
            [
             0.5555555555555556,
             "#d8576b"
            ],
            [
             0.6666666666666666,
             "#ed7953"
            ],
            [
             0.7777777777777778,
             "#fb9f3a"
            ],
            [
             0.8888888888888888,
             "#fdca26"
            ],
            [
             1,
             "#f0f921"
            ]
           ]
          },
          "colorway": [
           "#636efa",
           "#EF553B",
           "#00cc96",
           "#ab63fa",
           "#FFA15A",
           "#19d3f3",
           "#FF6692",
           "#B6E880",
           "#FF97FF",
           "#FECB52"
          ],
          "font": {
           "color": "#2a3f5f"
          },
          "geo": {
           "bgcolor": "white",
           "lakecolor": "white",
           "landcolor": "#E5ECF6",
           "showlakes": true,
           "showland": true,
           "subunitcolor": "white"
          },
          "hoverlabel": {
           "align": "left"
          },
          "hovermode": "closest",
          "mapbox": {
           "style": "light"
          },
          "paper_bgcolor": "white",
          "plot_bgcolor": "#E5ECF6",
          "polar": {
           "angularaxis": {
            "gridcolor": "white",
            "linecolor": "white",
            "ticks": ""
           },
           "bgcolor": "#E5ECF6",
           "radialaxis": {
            "gridcolor": "white",
            "linecolor": "white",
            "ticks": ""
           }
          },
          "scene": {
           "xaxis": {
            "backgroundcolor": "#E5ECF6",
            "gridcolor": "white",
            "gridwidth": 2,
            "linecolor": "white",
            "showbackground": true,
            "ticks": "",
            "zerolinecolor": "white"
           },
           "yaxis": {
            "backgroundcolor": "#E5ECF6",
            "gridcolor": "white",
            "gridwidth": 2,
            "linecolor": "white",
            "showbackground": true,
            "ticks": "",
            "zerolinecolor": "white"
           },
           "zaxis": {
            "backgroundcolor": "#E5ECF6",
            "gridcolor": "white",
            "gridwidth": 2,
            "linecolor": "white",
            "showbackground": true,
            "ticks": "",
            "zerolinecolor": "white"
           }
          },
          "shapedefaults": {
           "line": {
            "color": "#2a3f5f"
           }
          },
          "ternary": {
           "aaxis": {
            "gridcolor": "white",
            "linecolor": "white",
            "ticks": ""
           },
           "baxis": {
            "gridcolor": "white",
            "linecolor": "white",
            "ticks": ""
           },
           "bgcolor": "#E5ECF6",
           "caxis": {
            "gridcolor": "white",
            "linecolor": "white",
            "ticks": ""
           }
          },
          "title": {
           "x": 0.05
          },
          "xaxis": {
           "automargin": true,
           "gridcolor": "white",
           "linecolor": "white",
           "ticks": "",
           "title": {
            "standoff": 15
           },
           "zerolinecolor": "white",
           "zerolinewidth": 2
          },
          "yaxis": {
           "automargin": true,
           "gridcolor": "white",
           "linecolor": "white",
           "ticks": "",
           "title": {
            "standoff": 15
           },
           "zerolinecolor": "white",
           "zerolinewidth": 2
          }
         }
        },
        "width": 800,
        "xaxis": {
         "anchor": "y",
         "domain": [
          0,
          1
         ],
         "range": [
          -100,
          100
         ],
         "showgrid": false,
         "showticklabels": false,
         "title": {
          "text": "xcoord"
         },
         "visible": false,
         "zeroline": false
        },
        "yaxis": {
         "anchor": "x",
         "domain": [
          0,
          1
         ],
         "range": [
          -42.5,
          42.5
         ],
         "showgrid": false,
         "showticklabels": false,
         "title": {
          "text": "ycoord"
         },
         "visible": false,
         "zeroline": false
        }
       }
      }
     },
     "metadata": {},
     "output_type": "display_data"
    }
   ],
   "source": [
    "lcs = dense[dense['eventname'] == 'linecarry'][['xcoord','ycoord']] # select line carries and isolate coords\n",
    "fig = px.scatter(lcs, x=\"xcoord\", y=\"ycoord\", width=800, height=400) # create scatter plot and define width and height \n",
    "fig.update_xaxes(showgrid=False, range=[-100, 100], zeroline=False, visible=False, showticklabels=False) # remove grid, make range match size of rink, remove zeroline, remove ticklables\n",
    "fig.update_yaxes(showgrid=False, range=[-42.5,42.5], zeroline=False, visible=False, showticklabels=False)  # remove grid, make range match size of rink, remove zeroline, remove ticklables\n",
    "fig.add_layout_image( # add image \n",
    "    dict(\n",
    "            source=\"https://i.imgur.com/Y2kOUX5.png\", # image of rink\n",
    "            xref=\"x\", # set x reference \n",
    "            yref=\"y\", # set y reference \n",
    "            x = 0, # set x anchor \n",
    "            y = 0, # set y anchor \n",
    "            sizex = 200, # set x size: its 200 because the rink is 200 feet long \n",
    "            sizey = 85, # set y size: its 85 because the rink is 85 feet wide \n",
    "            sizing=\"stretch\", # stretch to fit \n",
    "            opacity=1, # full show \n",
    "            layer=\"below\", # below dots \n",
    "            xanchor = \"center\", # center anchor \n",
    "          yanchor = \"middle\") # middle anchor \n",
    ")\n",
    "fig.show() # show figure"
   ]
  },
  {
   "cell_type": "markdown",
   "id": "26ebcfbb",
   "metadata": {},
   "source": [
    "#### Also, I tried a some of classification techniques. Below is an example of me using scikit-learn's KMeans classification algorithm to try to classify the line carries."
   ]
  },
  {
   "cell_type": "code",
   "execution_count": 32,
   "id": "3aa83f2b",
   "metadata": {},
   "outputs": [
    {
     "data": {
      "application/vnd.plotly.v1+json": {
       "config": {
        "plotlyServerURL": "https://plot.ly"
       },
       "data": [
        {
         "hovertemplate": "Label=2<br>xcoord=%{x}<br>ycoord=%{y}<extra></extra>",
         "legendgroup": "2",
         "marker": {
          "color": "#636efa",
          "symbol": "circle"
         },
         "mode": "markers",
         "name": "2",
         "orientation": "v",
         "showlegend": true,
         "type": "scatter",
         "x": [
          -25.9471435546875,
          -25.9471435546875,
          -25.352859497070312,
          -0.2058029174804687,
          -0.2988967895507812,
          -25.854042053222656,
          -0.2988967895507812,
          -25.948898315429688,
          -0.8018417358398438,
          -25.847930908203125,
          -24.84204864501953,
          0.3050079345703125,
          -25.475685119628903,
          -25.475685119628903,
          -25.475685119628903,
          -0.7558670043945312,
          -24.94127655029297,
          0.2057876586914062,
          0.7087249755859375,
          -25.90292358398437,
          -0.7558670043945312,
          -26.40586853027344,
          -25.351104736328125,
          -0.3050079345703125,
          0.1979293823242187,
          -25.45206451416016,
          -24.848159790039062,
          -25.45206451416016,
          -26.86166381835937,
          -25.400001525878903,
          -0.25,
          -25.900001525878903,
          -0.7529449462890625,
          -25.900001525878903,
          -0.25,
          -25.85580444335937,
          0.800079345703125,
          -25.397056579589844,
          -25.397056579589844,
          -25.90142822265625,
          -24.34172821044922,
          -24.894119262695312,
          -24.84466552734375,
          -25.019859313964844,
          -26.02574157714844,
          -25.34761047363281,
          -25.9471435546875
         ],
         "xaxis": "x",
         "y": [
          -38.480506896972656,
          7.790081024169922,
          -4.493022918701172,
          -8.516551971435547,
          -0.7529411315917969,
          -32.88823318481445,
          -13.382354736328123,
          -34.505882263183594,
          -2.7647056579589844,
          9.80588150024414,
          -33.95000076293945,
          -5.7852935791015625,
          6.7735748291015625,
          -32.96216583251953,
          -38.49498748779297,
          -4.779388427734375,
          -0.2558975219726562,
          -6.794132232666016,
          0.2470436096191406,
          0.7529640197753906,
          -6.288211822509766,
          -10.814685821533203,
          5.279411315917969,
          -1.2558822631835938,
          -19.864707946777344,
          -37.97058868408203,
          13.829410552978516,
          -39.47940826416016,
          -34.94998550415039,
          -3.270587921142578,
          -10.811763763427734,
          -17.349998474121094,
          -11.314704895019531,
          -6.2852935791015625,
          -18.858821868896484,
          -8.516551971435547,
          0.033447265625,
          -26.9058837890625,
          14.033529281616213,
          -35.595909118652344,
          2.7647056579589844,
          -28.917648315429688,
          -20.8735294342041,
          -29.929428100585938,
          -15.344131469726562,
          -26.908823013305664,
          -17.636390686035156
         ],
         "yaxis": "y"
        },
        {
         "hovertemplate": "Label=1<br>xcoord=%{x}<br>ycoord=%{y}<extra></extra>",
         "legendgroup": "1",
         "marker": {
          "color": "#EF553B",
          "symbol": "circle"
         },
         "mode": "markers",
         "name": "1",
         "orientation": "v",
         "showlegend": true,
         "type": "scatter",
         "x": [
          -25.352859497070312,
          -25.352859497070312,
          -0.2058029174804687,
          25.9471435546875,
          -0.800079345703125,
          25.85580444335937,
          -25.352859497070312,
          25.94715881347656,
          -0.2057876586914062,
          24.94127655029297,
          -25.211936950683597,
          -25.211936950683597,
          -25.445953369140625,
          0.2988967895507812,
          25.445953369140625,
          -25.351104736328125,
          -0.20404052734375,
          25.445953369140625,
          0.2988967895507812,
          25.445953369140625,
          25.95500946044922,
          0.3050079345703125,
          25.45206451416016,
          0.3050079345703125,
          -0.1979293823242187,
          24.949127197265625,
          25.45206451416016,
          -25.978668212890625,
          -0.3264846801757812,
          26.33167266845703,
          -0.1979293823242187,
          24.949127197265625,
          26.358726501464844,
          -24.438331604003903,
          0.2500152587890625,
          25.90001678466797,
          -0.7558670043945312,
          -24.89704132080078,
          -0.2529220581054687,
          25.90001678466797,
          25.948898315429688,
          25.344993591308597,
          -0.3050079345703125,
          25.847930908203125,
          -0.3050079345703125,
          25.847930908203125,
          0.7008743286132812,
          25.344993591308597,
          -25.95500946044922,
          0.7008743286132812,
          0.1979293823242187,
          25.847930908203125,
          0.1979293823242187,
          25.344993591308597,
          24.94127655029297,
          -0.3050079345703125,
          25.344993591308597,
          -25.397056579589844,
          -25.400001525878903,
          0.25,
          -25.397056579589844,
          25.397056579589844,
          0.2529449462890625,
          25.90293884277344,
          25.397056579589844,
          0.7558822631835938,
          25.90293884277344,
          -0.708740234375,
          -0.25,
          25.400001525878903,
          25.449447631835938,
          25.397056579589844,
          27.461212158203125,
          24.897056579589844,
          1.3082733154296875,
          25.952392578125,
          27.461212158203125,
          -25.344993591308597,
          1.8112106323242188,
          26.958274841308597,
          25.777198791503903,
          0.2058029174804687,
          25.449447631835938,
          -25.9471435546875,
          0.2058029174804687
         ],
         "xaxis": "x",
         "y": [
          19.648155212402344,
          37.2510986328125,
          37.75403594970703,
          36.74815368652344,
          5.778316497802734,
          0.7489051818847656,
          37.977569580078125,
          14.338249206542969,
          14.338249206542969,
          30.43236541748047,
          39.75478744506836,
          30.198904037475582,
          25.90294075012207,
          36.96470642089844,
          36.96470642089844,
          37.46764373779297,
          37.97058868408203,
          35.958824157714844,
          37.46764373779297,
          36.96470642089844,
          21.37352752685547,
          39.47940826416016,
          37.97058868408203,
          36.96470642089844,
          30.42646789550781,
          1.2558822631835938,
          38.47352600097656,
          37.95858383178711,
          35.94664764404297,
          7.779544830322266,
          4.273529052734375,
          10.811763763427734,
          30.42351531982422,
          37.464691162109375,
          14.835315704345703,
          37.46766662597656,
          20.36766815185547,
          26.40296173095703,
          27.911788940429688,
          34.45001983642578,
          26.9058837890625,
          11.317646026611328,
          8.299999237060547,
          21.87941169738769,
          37.47058868408203,
          29.92647171020508,
          25.399999618530277,
          25.90294075012207,
          39.48235321044922,
          40.48823547363281,
          26.405881881713867,
          6.288234710693359,
          40.48823547363281,
          39.985294342041016,
          33.95295715332031,
          38.476470947265625,
          6.791175842285156,
          39.985294342041016,
          19.36176300048828,
          33.947059631347656,
          19.36470603942871,
          37.97058868408203,
          37.97352981567383,
          36.96764755249024,
          38.47352600097656,
          33.64823532104492,
          36.46470642089844,
          40.77168273925781,
          29.92647171020508,
          36.16294097900391,
          33.444114685058594,
          39.47940826416016,
          38.976470947265625,
          7.79705810546875,
          4.273529052734375,
          14.83529281616211,
          38.47352600097656,
          31.432350158691406,
          22.882354736328125,
          6.788234710693359,
          5.779396057128906,
          13.04302215576172,
          39.47940826416016,
          24.610668182373047,
          10.528316497802734
         ],
         "yaxis": "y"
        },
        {
         "hovertemplate": "Label=0<br>xcoord=%{x}<br>ycoord=%{y}<extra></extra>",
         "legendgroup": "0",
         "marker": {
          "color": "#00cc96",
          "symbol": "circle"
         },
         "mode": "markers",
         "name": "0",
         "orientation": "v",
         "showlegend": true,
         "type": "scatter",
         "x": [
          -0.800079345703125,
          25.352859497070312,
          0.800079345703125,
          25.9471435546875,
          25.352859497070312,
          26.45008087158203,
          -0.800079345703125,
          25.352859497070312,
          25.9471435546875,
          25.352859497070312,
          25.58512115478516,
          26.088058471679688,
          -0.06488037109375,
          24.848159790039062,
          0.2988967895507812,
          25.445953369140625,
          25.351104736328125,
          0.20404052734375,
          25.85578155517578,
          25.35284423828125,
          -0.8000946044921875,
          25.85578155517578,
          25.854042053222656,
          0.20404052734375,
          24.848159790039062,
          0.20404052734375,
          24.34522247314453,
          24.949127197265625,
          0.1764984130859375,
          25.828689575195312,
          25.45206451416016,
          -0.8000946044921875,
          24.89413452148437,
          25.39707946777344,
          0.7087249755859375,
          0.2988967895507812,
          24.943016052246094,
          24.943016052246094,
          0.8018417358398438,
          -1.2064361572265625,
          24.946510314941406,
          25.344993591308597,
          -1.211669921875,
          24.438331604003903,
          24.894119262695312,
          -0.7529449462890625,
          25.400001525878903,
          25.400001525878903,
          25.400001525878903,
          25.90293884277344,
          25.400001525878903,
          25.9471435546875,
          -0.251434326171875,
          25.39856719970703,
          25.9471435546875,
          -1.2558822631835938,
          0.7558822631835938,
          25.400001525878903,
          25.400001525878903,
          26.958274841308597,
          0.127197265625,
          24.26837921142578,
          0.127197265625,
          25.777198791503903,
          25.777198791503903,
          25.95500946044922,
          25.85580444335937
         ],
         "xaxis": "x",
         "y": [
          -37.47462463378906,
          -38.98345184326172,
          -36.178314208984375,
          -37.687137603759766,
          -17.356979370117188,
          -37.687137603759766,
          -38.480506896972656,
          -38.480506896972656,
          -12.037139892578123,
          -0.2569770812988281,
          -37.19521331787109,
          -39.20697784423828,
          -38.70404052734375,
          -17.349998474121094,
          -38.97941207885742,
          -38.97941207885742,
          -32.494117736816406,
          -36.01470947265625,
          -35.46177673339844,
          -24.90001678466797,
          -29.929428100585938,
          -29.929428100585938,
          -17.85293960571289,
          -33.947059631347656,
          -36.461761474609375,
          -32.438232421875,
          -34.44999694824219,
          -21.87941169738769,
          -32.45917510986328,
          -33.96813201904297,
          -37.97352981567383,
          -37.97648620605469,
          -27.914684295654297,
          -26.908802032470703,
          -36.46765899658203,
          -34.95588302612305,
          -36.96764755249024,
          -20.314706802368164,
          -40.99117660522461,
          -37.47058868408203,
          -12.82646942138672,
          -10.811763763427734,
          -38.973514556884766,
          -40.98528289794922,
          -13.329412460327148,
          -40.48529052734375,
          -39.98235321044922,
          -38.976470947265625,
          -4.273529052734375,
          -35.45587921142578,
          -38.47352600097656,
          0.033447265625,
          -39.29938507080078,
          -34.54430389404297,
          -25.61655044555664,
          -37.635292053222656,
          -28.917648315429688,
          -32.94117736816406,
          -34.44999694824219,
          -37.97352981567383,
          -35.46177673339844,
          -36.97060394287109,
          -36.97060394287109,
          -38.98236846923828,
          -14.841190338134766,
          -34.95588302612305,
          -40.26874542236328
         ],
         "yaxis": "y"
        }
       ],
       "layout": {
        "height": 400,
        "images": [
         {
          "layer": "below",
          "opacity": 1,
          "sizex": 200,
          "sizey": 85,
          "sizing": "stretch",
          "source": "https://i.imgur.com/Y2kOUX5.png",
          "x": 0,
          "xanchor": "center",
          "xref": "x",
          "y": 0,
          "yanchor": "middle",
          "yref": "y"
         }
        ],
        "legend": {
         "title": {
          "text": "Label"
         },
         "tracegroupgap": 0
        },
        "margin": {
         "t": 60
        },
        "template": {
         "data": {
          "bar": [
           {
            "error_x": {
             "color": "#2a3f5f"
            },
            "error_y": {
             "color": "#2a3f5f"
            },
            "marker": {
             "line": {
              "color": "#E5ECF6",
              "width": 0.5
             },
             "pattern": {
              "fillmode": "overlay",
              "size": 10,
              "solidity": 0.2
             }
            },
            "type": "bar"
           }
          ],
          "barpolar": [
           {
            "marker": {
             "line": {
              "color": "#E5ECF6",
              "width": 0.5
             },
             "pattern": {
              "fillmode": "overlay",
              "size": 10,
              "solidity": 0.2
             }
            },
            "type": "barpolar"
           }
          ],
          "carpet": [
           {
            "aaxis": {
             "endlinecolor": "#2a3f5f",
             "gridcolor": "white",
             "linecolor": "white",
             "minorgridcolor": "white",
             "startlinecolor": "#2a3f5f"
            },
            "baxis": {
             "endlinecolor": "#2a3f5f",
             "gridcolor": "white",
             "linecolor": "white",
             "minorgridcolor": "white",
             "startlinecolor": "#2a3f5f"
            },
            "type": "carpet"
           }
          ],
          "choropleth": [
           {
            "colorbar": {
             "outlinewidth": 0,
             "ticks": ""
            },
            "type": "choropleth"
           }
          ],
          "contour": [
           {
            "colorbar": {
             "outlinewidth": 0,
             "ticks": ""
            },
            "colorscale": [
             [
              0,
              "#0d0887"
             ],
             [
              0.1111111111111111,
              "#46039f"
             ],
             [
              0.2222222222222222,
              "#7201a8"
             ],
             [
              0.3333333333333333,
              "#9c179e"
             ],
             [
              0.4444444444444444,
              "#bd3786"
             ],
             [
              0.5555555555555556,
              "#d8576b"
             ],
             [
              0.6666666666666666,
              "#ed7953"
             ],
             [
              0.7777777777777778,
              "#fb9f3a"
             ],
             [
              0.8888888888888888,
              "#fdca26"
             ],
             [
              1,
              "#f0f921"
             ]
            ],
            "type": "contour"
           }
          ],
          "contourcarpet": [
           {
            "colorbar": {
             "outlinewidth": 0,
             "ticks": ""
            },
            "type": "contourcarpet"
           }
          ],
          "heatmap": [
           {
            "colorbar": {
             "outlinewidth": 0,
             "ticks": ""
            },
            "colorscale": [
             [
              0,
              "#0d0887"
             ],
             [
              0.1111111111111111,
              "#46039f"
             ],
             [
              0.2222222222222222,
              "#7201a8"
             ],
             [
              0.3333333333333333,
              "#9c179e"
             ],
             [
              0.4444444444444444,
              "#bd3786"
             ],
             [
              0.5555555555555556,
              "#d8576b"
             ],
             [
              0.6666666666666666,
              "#ed7953"
             ],
             [
              0.7777777777777778,
              "#fb9f3a"
             ],
             [
              0.8888888888888888,
              "#fdca26"
             ],
             [
              1,
              "#f0f921"
             ]
            ],
            "type": "heatmap"
           }
          ],
          "heatmapgl": [
           {
            "colorbar": {
             "outlinewidth": 0,
             "ticks": ""
            },
            "colorscale": [
             [
              0,
              "#0d0887"
             ],
             [
              0.1111111111111111,
              "#46039f"
             ],
             [
              0.2222222222222222,
              "#7201a8"
             ],
             [
              0.3333333333333333,
              "#9c179e"
             ],
             [
              0.4444444444444444,
              "#bd3786"
             ],
             [
              0.5555555555555556,
              "#d8576b"
             ],
             [
              0.6666666666666666,
              "#ed7953"
             ],
             [
              0.7777777777777778,
              "#fb9f3a"
             ],
             [
              0.8888888888888888,
              "#fdca26"
             ],
             [
              1,
              "#f0f921"
             ]
            ],
            "type": "heatmapgl"
           }
          ],
          "histogram": [
           {
            "marker": {
             "pattern": {
              "fillmode": "overlay",
              "size": 10,
              "solidity": 0.2
             }
            },
            "type": "histogram"
           }
          ],
          "histogram2d": [
           {
            "colorbar": {
             "outlinewidth": 0,
             "ticks": ""
            },
            "colorscale": [
             [
              0,
              "#0d0887"
             ],
             [
              0.1111111111111111,
              "#46039f"
             ],
             [
              0.2222222222222222,
              "#7201a8"
             ],
             [
              0.3333333333333333,
              "#9c179e"
             ],
             [
              0.4444444444444444,
              "#bd3786"
             ],
             [
              0.5555555555555556,
              "#d8576b"
             ],
             [
              0.6666666666666666,
              "#ed7953"
             ],
             [
              0.7777777777777778,
              "#fb9f3a"
             ],
             [
              0.8888888888888888,
              "#fdca26"
             ],
             [
              1,
              "#f0f921"
             ]
            ],
            "type": "histogram2d"
           }
          ],
          "histogram2dcontour": [
           {
            "colorbar": {
             "outlinewidth": 0,
             "ticks": ""
            },
            "colorscale": [
             [
              0,
              "#0d0887"
             ],
             [
              0.1111111111111111,
              "#46039f"
             ],
             [
              0.2222222222222222,
              "#7201a8"
             ],
             [
              0.3333333333333333,
              "#9c179e"
             ],
             [
              0.4444444444444444,
              "#bd3786"
             ],
             [
              0.5555555555555556,
              "#d8576b"
             ],
             [
              0.6666666666666666,
              "#ed7953"
             ],
             [
              0.7777777777777778,
              "#fb9f3a"
             ],
             [
              0.8888888888888888,
              "#fdca26"
             ],
             [
              1,
              "#f0f921"
             ]
            ],
            "type": "histogram2dcontour"
           }
          ],
          "mesh3d": [
           {
            "colorbar": {
             "outlinewidth": 0,
             "ticks": ""
            },
            "type": "mesh3d"
           }
          ],
          "parcoords": [
           {
            "line": {
             "colorbar": {
              "outlinewidth": 0,
              "ticks": ""
             }
            },
            "type": "parcoords"
           }
          ],
          "pie": [
           {
            "automargin": true,
            "type": "pie"
           }
          ],
          "scatter": [
           {
            "fillpattern": {
             "fillmode": "overlay",
             "size": 10,
             "solidity": 0.2
            },
            "type": "scatter"
           }
          ],
          "scatter3d": [
           {
            "line": {
             "colorbar": {
              "outlinewidth": 0,
              "ticks": ""
             }
            },
            "marker": {
             "colorbar": {
              "outlinewidth": 0,
              "ticks": ""
             }
            },
            "type": "scatter3d"
           }
          ],
          "scattercarpet": [
           {
            "marker": {
             "colorbar": {
              "outlinewidth": 0,
              "ticks": ""
             }
            },
            "type": "scattercarpet"
           }
          ],
          "scattergeo": [
           {
            "marker": {
             "colorbar": {
              "outlinewidth": 0,
              "ticks": ""
             }
            },
            "type": "scattergeo"
           }
          ],
          "scattergl": [
           {
            "marker": {
             "colorbar": {
              "outlinewidth": 0,
              "ticks": ""
             }
            },
            "type": "scattergl"
           }
          ],
          "scattermapbox": [
           {
            "marker": {
             "colorbar": {
              "outlinewidth": 0,
              "ticks": ""
             }
            },
            "type": "scattermapbox"
           }
          ],
          "scatterpolar": [
           {
            "marker": {
             "colorbar": {
              "outlinewidth": 0,
              "ticks": ""
             }
            },
            "type": "scatterpolar"
           }
          ],
          "scatterpolargl": [
           {
            "marker": {
             "colorbar": {
              "outlinewidth": 0,
              "ticks": ""
             }
            },
            "type": "scatterpolargl"
           }
          ],
          "scatterternary": [
           {
            "marker": {
             "colorbar": {
              "outlinewidth": 0,
              "ticks": ""
             }
            },
            "type": "scatterternary"
           }
          ],
          "surface": [
           {
            "colorbar": {
             "outlinewidth": 0,
             "ticks": ""
            },
            "colorscale": [
             [
              0,
              "#0d0887"
             ],
             [
              0.1111111111111111,
              "#46039f"
             ],
             [
              0.2222222222222222,
              "#7201a8"
             ],
             [
              0.3333333333333333,
              "#9c179e"
             ],
             [
              0.4444444444444444,
              "#bd3786"
             ],
             [
              0.5555555555555556,
              "#d8576b"
             ],
             [
              0.6666666666666666,
              "#ed7953"
             ],
             [
              0.7777777777777778,
              "#fb9f3a"
             ],
             [
              0.8888888888888888,
              "#fdca26"
             ],
             [
              1,
              "#f0f921"
             ]
            ],
            "type": "surface"
           }
          ],
          "table": [
           {
            "cells": {
             "fill": {
              "color": "#EBF0F8"
             },
             "line": {
              "color": "white"
             }
            },
            "header": {
             "fill": {
              "color": "#C8D4E3"
             },
             "line": {
              "color": "white"
             }
            },
            "type": "table"
           }
          ]
         },
         "layout": {
          "annotationdefaults": {
           "arrowcolor": "#2a3f5f",
           "arrowhead": 0,
           "arrowwidth": 1
          },
          "autotypenumbers": "strict",
          "coloraxis": {
           "colorbar": {
            "outlinewidth": 0,
            "ticks": ""
           }
          },
          "colorscale": {
           "diverging": [
            [
             0,
             "#8e0152"
            ],
            [
             0.1,
             "#c51b7d"
            ],
            [
             0.2,
             "#de77ae"
            ],
            [
             0.3,
             "#f1b6da"
            ],
            [
             0.4,
             "#fde0ef"
            ],
            [
             0.5,
             "#f7f7f7"
            ],
            [
             0.6,
             "#e6f5d0"
            ],
            [
             0.7,
             "#b8e186"
            ],
            [
             0.8,
             "#7fbc41"
            ],
            [
             0.9,
             "#4d9221"
            ],
            [
             1,
             "#276419"
            ]
           ],
           "sequential": [
            [
             0,
             "#0d0887"
            ],
            [
             0.1111111111111111,
             "#46039f"
            ],
            [
             0.2222222222222222,
             "#7201a8"
            ],
            [
             0.3333333333333333,
             "#9c179e"
            ],
            [
             0.4444444444444444,
             "#bd3786"
            ],
            [
             0.5555555555555556,
             "#d8576b"
            ],
            [
             0.6666666666666666,
             "#ed7953"
            ],
            [
             0.7777777777777778,
             "#fb9f3a"
            ],
            [
             0.8888888888888888,
             "#fdca26"
            ],
            [
             1,
             "#f0f921"
            ]
           ],
           "sequentialminus": [
            [
             0,
             "#0d0887"
            ],
            [
             0.1111111111111111,
             "#46039f"
            ],
            [
             0.2222222222222222,
             "#7201a8"
            ],
            [
             0.3333333333333333,
             "#9c179e"
            ],
            [
             0.4444444444444444,
             "#bd3786"
            ],
            [
             0.5555555555555556,
             "#d8576b"
            ],
            [
             0.6666666666666666,
             "#ed7953"
            ],
            [
             0.7777777777777778,
             "#fb9f3a"
            ],
            [
             0.8888888888888888,
             "#fdca26"
            ],
            [
             1,
             "#f0f921"
            ]
           ]
          },
          "colorway": [
           "#636efa",
           "#EF553B",
           "#00cc96",
           "#ab63fa",
           "#FFA15A",
           "#19d3f3",
           "#FF6692",
           "#B6E880",
           "#FF97FF",
           "#FECB52"
          ],
          "font": {
           "color": "#2a3f5f"
          },
          "geo": {
           "bgcolor": "white",
           "lakecolor": "white",
           "landcolor": "#E5ECF6",
           "showlakes": true,
           "showland": true,
           "subunitcolor": "white"
          },
          "hoverlabel": {
           "align": "left"
          },
          "hovermode": "closest",
          "mapbox": {
           "style": "light"
          },
          "paper_bgcolor": "white",
          "plot_bgcolor": "#E5ECF6",
          "polar": {
           "angularaxis": {
            "gridcolor": "white",
            "linecolor": "white",
            "ticks": ""
           },
           "bgcolor": "#E5ECF6",
           "radialaxis": {
            "gridcolor": "white",
            "linecolor": "white",
            "ticks": ""
           }
          },
          "scene": {
           "xaxis": {
            "backgroundcolor": "#E5ECF6",
            "gridcolor": "white",
            "gridwidth": 2,
            "linecolor": "white",
            "showbackground": true,
            "ticks": "",
            "zerolinecolor": "white"
           },
           "yaxis": {
            "backgroundcolor": "#E5ECF6",
            "gridcolor": "white",
            "gridwidth": 2,
            "linecolor": "white",
            "showbackground": true,
            "ticks": "",
            "zerolinecolor": "white"
           },
           "zaxis": {
            "backgroundcolor": "#E5ECF6",
            "gridcolor": "white",
            "gridwidth": 2,
            "linecolor": "white",
            "showbackground": true,
            "ticks": "",
            "zerolinecolor": "white"
           }
          },
          "shapedefaults": {
           "line": {
            "color": "#2a3f5f"
           }
          },
          "ternary": {
           "aaxis": {
            "gridcolor": "white",
            "linecolor": "white",
            "ticks": ""
           },
           "baxis": {
            "gridcolor": "white",
            "linecolor": "white",
            "ticks": ""
           },
           "bgcolor": "#E5ECF6",
           "caxis": {
            "gridcolor": "white",
            "linecolor": "white",
            "ticks": ""
           }
          },
          "title": {
           "x": 0.05
          },
          "xaxis": {
           "automargin": true,
           "gridcolor": "white",
           "linecolor": "white",
           "ticks": "",
           "title": {
            "standoff": 15
           },
           "zerolinecolor": "white",
           "zerolinewidth": 2
          },
          "yaxis": {
           "automargin": true,
           "gridcolor": "white",
           "linecolor": "white",
           "ticks": "",
           "title": {
            "standoff": 15
           },
           "zerolinecolor": "white",
           "zerolinewidth": 2
          }
         }
        },
        "width": 800,
        "xaxis": {
         "anchor": "y",
         "domain": [
          0,
          1
         ],
         "range": [
          -100,
          100
         ],
         "showgrid": false,
         "showticklabels": false,
         "title": {
          "text": "xcoord"
         },
         "visible": false,
         "zeroline": false
        },
        "yaxis": {
         "anchor": "x",
         "domain": [
          0,
          1
         ],
         "range": [
          -42.5,
          42.5
         ],
         "showgrid": false,
         "showticklabels": false,
         "title": {
          "text": "ycoord"
         },
         "visible": false,
         "zeroline": false
        }
       }
      }
     },
     "metadata": {},
     "output_type": "display_data"
    }
   ],
   "source": [
    "kmeans = KMeans(n_clusters=3).fit(lcs) # define parameters and fit model \n",
    "lcs['Label']=kmeans.labels_ # assign labels to new column \n",
    "lcs['Label']= lcs['Label'].astype('str') # change to string to make the legend look nicer \n",
    "fig = px.scatter(lcs, x=\"xcoord\", y=\"ycoord\", color=\"Label\",width=800, height=400) # plot classification \n",
    "fig.update_xaxes(showgrid=False, range=[-100, 100], zeroline=False, visible=False, showticklabels=False) # remove grid, make range match size of rink, remove zeroline, remove ticklables\n",
    "fig.update_yaxes(showgrid=False, range=[-42.5,42.5], zeroline=False, visible=False, showticklabels=False)  # remove grid, make range match size of rink, remove zeroline, remove ticklables\n",
    "fig.add_layout_image( # add image \n",
    "    dict(\n",
    "            source=\"https://i.imgur.com/Y2kOUX5.png\", # image of rink\n",
    "            xref=\"x\", # set x reference \n",
    "            yref=\"y\", # set y reference \n",
    "            x = 0, # set x anchor \n",
    "            y = 0, # set y anchor \n",
    "            sizex = 200, # set x size: its 200 because the rink is 200 feet long \n",
    "            sizey = 85, # set y size: its 85 because the rink is 85 feet wide \n",
    "            sizing=\"stretch\", # stretch to fit \n",
    "            opacity=1, # full show \n",
    "            layer=\"below\", # below dots \n",
    "            xanchor = \"center\", # center anchor \n",
    "          yanchor = \"middle\") # middle anchor \n",
    ")\n",
    "fig.show() # show plot"
   ]
  },
  {
   "cell_type": "markdown",
   "id": "15e4e1f4",
   "metadata": {},
   "source": [
    "## Q4)\n",
    "### a) Create a subset of all shot attempts in the game and then with the plotting library of your choice, produce one scatter plot per team to illustrate where their shots were located and highlight any goals that were scored.\n",
    "### b) Describe in 2-4 sentences your findings for each team."
   ]
  },
  {
   "cell_type": "markdown",
   "id": "0ad99b06",
   "metadata": {},
   "source": [
    "## A4)\n",
    "### a) I created the subset and displayed the charts in the cells below. \n",
    "### b) Three of the five goals appear to come from the slot and four out of five goals are in the offensive zones. Team 596 appears to have taken fewer shots, or shots in looser clusters; whereas, team 742 took more shots in tighter clusters, in the slot, and closer to the center of the arena--I've seen people use shot angle as a xg predictor, I wonder if this could help explain why team 724 struggled to score. The distance to net represented on these maps appears to help explain why team 742 under preformed its expected goals. Team 724 appears to have taken more shots on the right-hand side; whereas, team 596 appears to have taken more shots on the left-hand side--maybe this is related to the handedness of the players or the teams' strategies. "
   ]
  },
  {
   "cell_type": "code",
   "execution_count": 33,
   "id": "639a3519",
   "metadata": {},
   "outputs": [
    {
     "data": {
      "application/vnd.plotly.v1+json": {
       "config": {
        "plotlyServerURL": "https://plot.ly"
       },
       "data": [
        {
         "customdata": [
          [
           "Shot",
           "Failed",
           "No"
          ],
          [
           "Shot",
           "Failed",
           "No"
          ],
          [
           "Shot",
           "Successful",
           "No"
          ],
          [
           "Shot",
           "Successful",
           "No"
          ],
          [
           "Shot",
           "Successful",
           "No"
          ],
          [
           "Shot",
           "Successful",
           "No"
          ],
          [
           "Shot",
           "Failed",
           "No"
          ],
          [
           "Shot",
           "Successful",
           "No"
          ],
          [
           "Shot",
           "Failed",
           "No"
          ],
          [
           "Shot",
           "Successful",
           "No"
          ],
          [
           "Shot",
           "Failed",
           "No"
          ],
          [
           "Shot",
           "Failed",
           "No"
          ],
          [
           "Shot",
           "Successful",
           "No"
          ],
          [
           "Shot",
           "Failed",
           "No"
          ],
          [
           "Shot",
           "Successful",
           "No"
          ],
          [
           "Shot",
           "Successful",
           "No"
          ],
          [
           "Shot",
           "Failed",
           "No"
          ],
          [
           "Shot",
           "Successful",
           "No"
          ],
          [
           "Shot",
           "Failed",
           "No"
          ],
          [
           "Shot",
           "Successful",
           "No"
          ],
          [
           "Shot",
           "Failed",
           "No"
          ],
          [
           "Shot",
           "Successful",
           "No"
          ],
          [
           "Shot",
           "Failed",
           "No"
          ],
          [
           "Shot",
           "Failed",
           "No"
          ],
          [
           "Shot",
           "Successful",
           "No"
          ],
          [
           "Shot",
           "Failed",
           "No"
          ],
          [
           "Shot",
           "Failed",
           "No"
          ],
          [
           "Shot",
           "Successful",
           "No"
          ],
          [
           "Shot",
           "Successful",
           "No"
          ],
          [
           "Shot",
           "Failed",
           "No"
          ],
          [
           "Shot",
           "Successful",
           "No"
          ],
          [
           "Shot",
           "Failed",
           "No"
          ],
          [
           "Shot",
           "Successful",
           "No"
          ],
          [
           "Shot",
           "Failed",
           "No"
          ],
          [
           "Shot",
           "Failed",
           "No"
          ],
          [
           "Shot",
           "Failed",
           "No"
          ],
          [
           "Shot",
           "Successful",
           "No"
          ],
          [
           "Shot",
           "Failed",
           "No"
          ],
          [
           "Shot",
           "Successful",
           "No"
          ],
          [
           "Shot",
           "Failed",
           "No"
          ],
          [
           "Shot",
           "Successful",
           "No"
          ],
          [
           "Shot",
           "Failed",
           "No"
          ],
          [
           "Shot",
           "Failed",
           "No"
          ],
          [
           "Shot",
           "Successful",
           "No"
          ],
          [
           "Shot",
           "Failed",
           "No"
          ],
          [
           "Shot",
           "Failed",
           "No"
          ],
          [
           "Shot",
           "Failed",
           "No"
          ],
          [
           "Shot",
           "Failed",
           "No"
          ],
          [
           "Shot",
           "Failed",
           "No"
          ],
          [
           "Shot",
           "Failed",
           "No"
          ],
          [
           "Shot",
           "Failed",
           "No"
          ],
          [
           "Shot",
           "Failed",
           "No"
          ],
          [
           "Shot",
           "Successful",
           "No"
          ],
          [
           "Shot",
           "Failed",
           "No"
          ],
          [
           "Shot",
           "Failed",
           "No"
          ],
          [
           "Shot",
           "Failed",
           "No"
          ],
          [
           "Shot",
           "Failed",
           "No"
          ],
          [
           "Shot",
           "Failed",
           "No"
          ],
          [
           "Shot",
           "Successful",
           "No"
          ],
          [
           "Shot",
           "Successful",
           "No"
          ],
          [
           "Shot",
           "Successful",
           "No"
          ],
          [
           "Shot",
           "Failed",
           "No"
          ],
          [
           "Shot",
           "Successful",
           "No"
          ],
          [
           "Shot",
           "Successful",
           "No"
          ]
         ],
         "hovertemplate": "Goal Scored=%{customdata[2]}<br>Event Type=%{customdata[0]}<br>Outcome=%{customdata[1]}<extra></extra>",
         "legendgroup": "No",
         "marker": {
          "color": "#9370DB",
          "symbol": "circle"
         },
         "mode": "markers",
         "name": "No",
         "orientation": "v",
         "showlegend": true,
         "type": "scatter",
         "x": [
          64.07933044433594,
          47.98521423339844,
          72.12638854980469,
          79.16756439208984,
          78.16168212890625,
          71.62345123291016,
          32.89698028564453,
          79.6705093383789,
          76.65286254882812,
          64.582275390625,
          61.7968864440918,
          70.34688568115234,
          43.18806076049805,
          48.217472076416016,
          80.90864562988281,
          38.93051528930664,
          43.45698547363281,
          76.14816284179688,
          40.44107818603516,
          68.60578155517578,
          56.535194396972656,
          47.98519515991211,
          68.10284423828125,
          39.43345642089844,
          60.55698394775391,
          45.46875,
          47.48051452636719,
          48.58735656738281,
          67.19618225097656,
          73.73442077636719,
          69.71089172363281,
          41.043243408203125,
          70.71676635742188,
          69.71089172363281,
          87.31382751464844,
          75.18824768066406,
          60.10002136230469,
          61.60884094238281,
          81.27243041992188,
          36.01121520996094,
          63.6729736328125,
          77.24716186523438,
          84.288330078125,
          40.03474426269531,
          42.04127502441406,
          72.17353057861328,
          58.5941162109375,
          72.17353057861328,
          37.47058868408203,
          77.20294189453125,
          38.476470947265625,
          69.1558837890625,
          63.62352752685547,
          59.47425842285156,
          33.321319580078125,
          36.8419075012207,
          48.91249465942383,
          34.405799865722656,
          93.75286102294922,
          36.41756439208984,
          43.458744049072266,
          42.95580291748047,
          59.04991912841797,
          86.208740234375
         ],
         "xaxis": "x",
         "y": [
          16.843021392822266,
          -38.98345184326172,
          0.7489051818847656,
          7.287139892578125,
          -17.859920501708984,
          -19.871681213378903,
          -19.36874389648437,
          1.7547874450683594,
          0.7489051818847656,
          -17.356979370117188,
          4.5489044189453125,
          -16.574626922607422,
          16.619491577148438,
          -36.1893310546875,
          7.566551208496094,
          -16.3441162109375,
          39.985294342041016,
          11.261764526367188,
          -12.829425811767578,
          -3.7764854431152335,
          -22.38530731201172,
          13.826454162597656,
          -13.835308074951172,
          -37.97058868408203,
          -9.302940368652344,
          18.861764907836918,
          -22.882354736328125,
          -23.891176223754883,
          13.829410552978516,
          24.894119262695312,
          -0.2529411315917969,
          0.7529411315917969,
          -20.8735294342041,
          -1.7617645263671875,
          -13.329412460327148,
          2.764717102050781,
          -27.914684295654297,
          -26.908802032470703,
          9.80588150024414,
          -26.908823013305664,
          16.3441162109375,
          -5.276454925537109,
          27.91766357421875,
          33.10882568359375,
          4.782367706298828,
          -27.911766052246094,
          -2.2617645263671875,
          -13.829410552978516,
          -14.83529281616211,
          11.317646026611328,
          31.938236236572266,
          18.76117706298828,
          -28.917648315429688,
          -26.91178131103516,
          -36.46765899658203,
          34.94998550415039,
          -17.35589599609375,
          -27.695213317871094,
          8.01361083984375,
          -12.10403823852539,
          23.101844787597656,
          -16.127567291259766,
          29.13714027404785,
          7.007728576660156
         ],
         "yaxis": "y"
        },
        {
         "customdata": [
          [
           "Shot",
           "Successful",
           "Yes"
          ]
         ],
         "hovertemplate": "Goal Scored=%{customdata[2]}<br>Event Type=%{customdata[0]}<br>Outcome=%{customdata[1]}<extra></extra>",
         "legendgroup": "Yes",
         "marker": {
          "color": "#7FFF00",
          "symbol": "circle"
         },
         "mode": "markers",
         "name": "Yes",
         "orientation": "v",
         "showlegend": true,
         "type": "scatter",
         "x": [
          73.13227081298828
         ],
         "xaxis": "x",
         "y": [
          17.066551208496094
         ],
         "yaxis": "y"
        }
       ],
       "layout": {
        "height": 400,
        "images": [
         {
          "layer": "below",
          "opacity": 1,
          "sizex": 200,
          "sizey": 85,
          "sizing": "stretch",
          "source": "https://raw.githubusercontent.com/casmacdo/arena/main/rink.png",
          "x": 0,
          "xanchor": "center",
          "xref": "x",
          "y": 0,
          "yanchor": "middle",
          "yref": "y"
         }
        ],
        "legend": {
         "title": {
          "text": "Goal Scored"
         },
         "tracegroupgap": 0
        },
        "margin": {
         "t": 60
        },
        "showlegend": false,
        "template": {
         "data": {
          "bar": [
           {
            "error_x": {
             "color": "#2a3f5f"
            },
            "error_y": {
             "color": "#2a3f5f"
            },
            "marker": {
             "line": {
              "color": "#E5ECF6",
              "width": 0.5
             },
             "pattern": {
              "fillmode": "overlay",
              "size": 10,
              "solidity": 0.2
             }
            },
            "type": "bar"
           }
          ],
          "barpolar": [
           {
            "marker": {
             "line": {
              "color": "#E5ECF6",
              "width": 0.5
             },
             "pattern": {
              "fillmode": "overlay",
              "size": 10,
              "solidity": 0.2
             }
            },
            "type": "barpolar"
           }
          ],
          "carpet": [
           {
            "aaxis": {
             "endlinecolor": "#2a3f5f",
             "gridcolor": "white",
             "linecolor": "white",
             "minorgridcolor": "white",
             "startlinecolor": "#2a3f5f"
            },
            "baxis": {
             "endlinecolor": "#2a3f5f",
             "gridcolor": "white",
             "linecolor": "white",
             "minorgridcolor": "white",
             "startlinecolor": "#2a3f5f"
            },
            "type": "carpet"
           }
          ],
          "choropleth": [
           {
            "colorbar": {
             "outlinewidth": 0,
             "ticks": ""
            },
            "type": "choropleth"
           }
          ],
          "contour": [
           {
            "colorbar": {
             "outlinewidth": 0,
             "ticks": ""
            },
            "colorscale": [
             [
              0,
              "#0d0887"
             ],
             [
              0.1111111111111111,
              "#46039f"
             ],
             [
              0.2222222222222222,
              "#7201a8"
             ],
             [
              0.3333333333333333,
              "#9c179e"
             ],
             [
              0.4444444444444444,
              "#bd3786"
             ],
             [
              0.5555555555555556,
              "#d8576b"
             ],
             [
              0.6666666666666666,
              "#ed7953"
             ],
             [
              0.7777777777777778,
              "#fb9f3a"
             ],
             [
              0.8888888888888888,
              "#fdca26"
             ],
             [
              1,
              "#f0f921"
             ]
            ],
            "type": "contour"
           }
          ],
          "contourcarpet": [
           {
            "colorbar": {
             "outlinewidth": 0,
             "ticks": ""
            },
            "type": "contourcarpet"
           }
          ],
          "heatmap": [
           {
            "colorbar": {
             "outlinewidth": 0,
             "ticks": ""
            },
            "colorscale": [
             [
              0,
              "#0d0887"
             ],
             [
              0.1111111111111111,
              "#46039f"
             ],
             [
              0.2222222222222222,
              "#7201a8"
             ],
             [
              0.3333333333333333,
              "#9c179e"
             ],
             [
              0.4444444444444444,
              "#bd3786"
             ],
             [
              0.5555555555555556,
              "#d8576b"
             ],
             [
              0.6666666666666666,
              "#ed7953"
             ],
             [
              0.7777777777777778,
              "#fb9f3a"
             ],
             [
              0.8888888888888888,
              "#fdca26"
             ],
             [
              1,
              "#f0f921"
             ]
            ],
            "type": "heatmap"
           }
          ],
          "heatmapgl": [
           {
            "colorbar": {
             "outlinewidth": 0,
             "ticks": ""
            },
            "colorscale": [
             [
              0,
              "#0d0887"
             ],
             [
              0.1111111111111111,
              "#46039f"
             ],
             [
              0.2222222222222222,
              "#7201a8"
             ],
             [
              0.3333333333333333,
              "#9c179e"
             ],
             [
              0.4444444444444444,
              "#bd3786"
             ],
             [
              0.5555555555555556,
              "#d8576b"
             ],
             [
              0.6666666666666666,
              "#ed7953"
             ],
             [
              0.7777777777777778,
              "#fb9f3a"
             ],
             [
              0.8888888888888888,
              "#fdca26"
             ],
             [
              1,
              "#f0f921"
             ]
            ],
            "type": "heatmapgl"
           }
          ],
          "histogram": [
           {
            "marker": {
             "pattern": {
              "fillmode": "overlay",
              "size": 10,
              "solidity": 0.2
             }
            },
            "type": "histogram"
           }
          ],
          "histogram2d": [
           {
            "colorbar": {
             "outlinewidth": 0,
             "ticks": ""
            },
            "colorscale": [
             [
              0,
              "#0d0887"
             ],
             [
              0.1111111111111111,
              "#46039f"
             ],
             [
              0.2222222222222222,
              "#7201a8"
             ],
             [
              0.3333333333333333,
              "#9c179e"
             ],
             [
              0.4444444444444444,
              "#bd3786"
             ],
             [
              0.5555555555555556,
              "#d8576b"
             ],
             [
              0.6666666666666666,
              "#ed7953"
             ],
             [
              0.7777777777777778,
              "#fb9f3a"
             ],
             [
              0.8888888888888888,
              "#fdca26"
             ],
             [
              1,
              "#f0f921"
             ]
            ],
            "type": "histogram2d"
           }
          ],
          "histogram2dcontour": [
           {
            "colorbar": {
             "outlinewidth": 0,
             "ticks": ""
            },
            "colorscale": [
             [
              0,
              "#0d0887"
             ],
             [
              0.1111111111111111,
              "#46039f"
             ],
             [
              0.2222222222222222,
              "#7201a8"
             ],
             [
              0.3333333333333333,
              "#9c179e"
             ],
             [
              0.4444444444444444,
              "#bd3786"
             ],
             [
              0.5555555555555556,
              "#d8576b"
             ],
             [
              0.6666666666666666,
              "#ed7953"
             ],
             [
              0.7777777777777778,
              "#fb9f3a"
             ],
             [
              0.8888888888888888,
              "#fdca26"
             ],
             [
              1,
              "#f0f921"
             ]
            ],
            "type": "histogram2dcontour"
           }
          ],
          "mesh3d": [
           {
            "colorbar": {
             "outlinewidth": 0,
             "ticks": ""
            },
            "type": "mesh3d"
           }
          ],
          "parcoords": [
           {
            "line": {
             "colorbar": {
              "outlinewidth": 0,
              "ticks": ""
             }
            },
            "type": "parcoords"
           }
          ],
          "pie": [
           {
            "automargin": true,
            "type": "pie"
           }
          ],
          "scatter": [
           {
            "fillpattern": {
             "fillmode": "overlay",
             "size": 10,
             "solidity": 0.2
            },
            "type": "scatter"
           }
          ],
          "scatter3d": [
           {
            "line": {
             "colorbar": {
              "outlinewidth": 0,
              "ticks": ""
             }
            },
            "marker": {
             "colorbar": {
              "outlinewidth": 0,
              "ticks": ""
             }
            },
            "type": "scatter3d"
           }
          ],
          "scattercarpet": [
           {
            "marker": {
             "colorbar": {
              "outlinewidth": 0,
              "ticks": ""
             }
            },
            "type": "scattercarpet"
           }
          ],
          "scattergeo": [
           {
            "marker": {
             "colorbar": {
              "outlinewidth": 0,
              "ticks": ""
             }
            },
            "type": "scattergeo"
           }
          ],
          "scattergl": [
           {
            "marker": {
             "colorbar": {
              "outlinewidth": 0,
              "ticks": ""
             }
            },
            "type": "scattergl"
           }
          ],
          "scattermapbox": [
           {
            "marker": {
             "colorbar": {
              "outlinewidth": 0,
              "ticks": ""
             }
            },
            "type": "scattermapbox"
           }
          ],
          "scatterpolar": [
           {
            "marker": {
             "colorbar": {
              "outlinewidth": 0,
              "ticks": ""
             }
            },
            "type": "scatterpolar"
           }
          ],
          "scatterpolargl": [
           {
            "marker": {
             "colorbar": {
              "outlinewidth": 0,
              "ticks": ""
             }
            },
            "type": "scatterpolargl"
           }
          ],
          "scatterternary": [
           {
            "marker": {
             "colorbar": {
              "outlinewidth": 0,
              "ticks": ""
             }
            },
            "type": "scatterternary"
           }
          ],
          "surface": [
           {
            "colorbar": {
             "outlinewidth": 0,
             "ticks": ""
            },
            "colorscale": [
             [
              0,
              "#0d0887"
             ],
             [
              0.1111111111111111,
              "#46039f"
             ],
             [
              0.2222222222222222,
              "#7201a8"
             ],
             [
              0.3333333333333333,
              "#9c179e"
             ],
             [
              0.4444444444444444,
              "#bd3786"
             ],
             [
              0.5555555555555556,
              "#d8576b"
             ],
             [
              0.6666666666666666,
              "#ed7953"
             ],
             [
              0.7777777777777778,
              "#fb9f3a"
             ],
             [
              0.8888888888888888,
              "#fdca26"
             ],
             [
              1,
              "#f0f921"
             ]
            ],
            "type": "surface"
           }
          ],
          "table": [
           {
            "cells": {
             "fill": {
              "color": "#EBF0F8"
             },
             "line": {
              "color": "white"
             }
            },
            "header": {
             "fill": {
              "color": "#C8D4E3"
             },
             "line": {
              "color": "white"
             }
            },
            "type": "table"
           }
          ]
         },
         "layout": {
          "annotationdefaults": {
           "arrowcolor": "#2a3f5f",
           "arrowhead": 0,
           "arrowwidth": 1
          },
          "autotypenumbers": "strict",
          "coloraxis": {
           "colorbar": {
            "outlinewidth": 0,
            "ticks": ""
           }
          },
          "colorscale": {
           "diverging": [
            [
             0,
             "#8e0152"
            ],
            [
             0.1,
             "#c51b7d"
            ],
            [
             0.2,
             "#de77ae"
            ],
            [
             0.3,
             "#f1b6da"
            ],
            [
             0.4,
             "#fde0ef"
            ],
            [
             0.5,
             "#f7f7f7"
            ],
            [
             0.6,
             "#e6f5d0"
            ],
            [
             0.7,
             "#b8e186"
            ],
            [
             0.8,
             "#7fbc41"
            ],
            [
             0.9,
             "#4d9221"
            ],
            [
             1,
             "#276419"
            ]
           ],
           "sequential": [
            [
             0,
             "#0d0887"
            ],
            [
             0.1111111111111111,
             "#46039f"
            ],
            [
             0.2222222222222222,
             "#7201a8"
            ],
            [
             0.3333333333333333,
             "#9c179e"
            ],
            [
             0.4444444444444444,
             "#bd3786"
            ],
            [
             0.5555555555555556,
             "#d8576b"
            ],
            [
             0.6666666666666666,
             "#ed7953"
            ],
            [
             0.7777777777777778,
             "#fb9f3a"
            ],
            [
             0.8888888888888888,
             "#fdca26"
            ],
            [
             1,
             "#f0f921"
            ]
           ],
           "sequentialminus": [
            [
             0,
             "#0d0887"
            ],
            [
             0.1111111111111111,
             "#46039f"
            ],
            [
             0.2222222222222222,
             "#7201a8"
            ],
            [
             0.3333333333333333,
             "#9c179e"
            ],
            [
             0.4444444444444444,
             "#bd3786"
            ],
            [
             0.5555555555555556,
             "#d8576b"
            ],
            [
             0.6666666666666666,
             "#ed7953"
            ],
            [
             0.7777777777777778,
             "#fb9f3a"
            ],
            [
             0.8888888888888888,
             "#fdca26"
            ],
            [
             1,
             "#f0f921"
            ]
           ]
          },
          "colorway": [
           "#636efa",
           "#EF553B",
           "#00cc96",
           "#ab63fa",
           "#FFA15A",
           "#19d3f3",
           "#FF6692",
           "#B6E880",
           "#FF97FF",
           "#FECB52"
          ],
          "font": {
           "color": "#2a3f5f"
          },
          "geo": {
           "bgcolor": "white",
           "lakecolor": "white",
           "landcolor": "#E5ECF6",
           "showlakes": true,
           "showland": true,
           "subunitcolor": "white"
          },
          "hoverlabel": {
           "align": "left"
          },
          "hovermode": "closest",
          "mapbox": {
           "style": "light"
          },
          "paper_bgcolor": "white",
          "plot_bgcolor": "#E5ECF6",
          "polar": {
           "angularaxis": {
            "gridcolor": "white",
            "linecolor": "white",
            "ticks": ""
           },
           "bgcolor": "#E5ECF6",
           "radialaxis": {
            "gridcolor": "white",
            "linecolor": "white",
            "ticks": ""
           }
          },
          "scene": {
           "xaxis": {
            "backgroundcolor": "#E5ECF6",
            "gridcolor": "white",
            "gridwidth": 2,
            "linecolor": "white",
            "showbackground": true,
            "ticks": "",
            "zerolinecolor": "white"
           },
           "yaxis": {
            "backgroundcolor": "#E5ECF6",
            "gridcolor": "white",
            "gridwidth": 2,
            "linecolor": "white",
            "showbackground": true,
            "ticks": "",
            "zerolinecolor": "white"
           },
           "zaxis": {
            "backgroundcolor": "#E5ECF6",
            "gridcolor": "white",
            "gridwidth": 2,
            "linecolor": "white",
            "showbackground": true,
            "ticks": "",
            "zerolinecolor": "white"
           }
          },
          "shapedefaults": {
           "line": {
            "color": "#2a3f5f"
           }
          },
          "ternary": {
           "aaxis": {
            "gridcolor": "white",
            "linecolor": "white",
            "ticks": ""
           },
           "baxis": {
            "gridcolor": "white",
            "linecolor": "white",
            "ticks": ""
           },
           "bgcolor": "#E5ECF6",
           "caxis": {
            "gridcolor": "white",
            "linecolor": "white",
            "ticks": ""
           }
          },
          "title": {
           "x": 0.05
          },
          "xaxis": {
           "automargin": true,
           "gridcolor": "white",
           "linecolor": "white",
           "ticks": "",
           "title": {
            "standoff": 15
           },
           "zerolinecolor": "white",
           "zerolinewidth": 2
          },
          "yaxis": {
           "automargin": true,
           "gridcolor": "white",
           "linecolor": "white",
           "ticks": "",
           "title": {
            "standoff": 15
           },
           "zerolinecolor": "white",
           "zerolinewidth": 2
          }
         }
        },
        "title": {
         "text": "Shots and Goals: Team 724",
         "x": 0.15
        },
        "width": 800,
        "xaxis": {
         "anchor": "y",
         "domain": [
          0,
          1
         ],
         "range": [
          -100,
          100
         ],
         "showgrid": false,
         "showticklabels": false,
         "title": {
          "text": "xcoord"
         },
         "visible": false,
         "zeroline": false
        },
        "yaxis": {
         "anchor": "x",
         "domain": [
          0,
          1
         ],
         "range": [
          -42.5,
          42.5
         ],
         "showgrid": false,
         "showticklabels": false,
         "title": {
          "text": "ycoord"
         },
         "visible": false,
         "zeroline": false
        }
       }
      }
     },
     "metadata": {},
     "output_type": "display_data"
    }
   ],
   "source": [
    "pd.options.mode.chained_assignment = None  # turing off the chain assignment warning\n",
    "shots = dense[dense['eventname']=='shot'] # subset all shot attempts in the game and assign to variable \n",
    "shots[\"goal\"] = np.where(shots[\"goal\"] == 1, \"Yes\", \"No\") # change row values to make them more pretty for the hover \n",
    "shots[\"eventname\"] = np.where(shots[\"eventname\"] == 'shot', \"Shot\", \"Shot\") # change row values to make them more pretty for the hover \n",
    "shots[\"outcome\"] = np.where(shots[\"outcome\"] == 'failed', \"Failed\", \"Successful\") # change row values to make them more pretty for the hover \n",
    "t1shots = shots[shots['teamid']==team1] # assign team one shots to variable\n",
    "t2shots = shots[shots['teamid']==team2]# assign team two shots to variable\n",
    "fig = px.scatter( # create scatter plot\n",
    "        t1shots, # set data argument \n",
    "        x=\"xcoord\", # set x argument \n",
    "        y=\"ycoord\", # set y argument \n",
    "        width=800, # set width  \n",
    "        height=400, # set height \n",
    "        hover_data={'eventname':True,'outcome':True, 'goal':True, 'xcoord':False, \"ycoord\": False}, # define hover data and remove x and y coords\n",
    "        color='goal', # make goals different colour \n",
    "        labels={\"eventname\": \"Event Type\", \"outcome\": \"Outcome\", \"goal\": \"Goal Scored\"}, # set hover labels \n",
    "        color_discrete_sequence=[\"#9370DB\", \"#7FFF00\"] # set point colours\n",
    "        ) \n",
    "fig.update_layout(\n",
    "        title={\n",
    "        'text': \"Shots and Goals: Team {}\".format(team1),\n",
    "        'x':0.15,\n",
    "        },showlegend=False) # set title and remove legend\n",
    "fig.update_xaxes(showgrid=False, range=[-100, 100], zeroline=False, visible=False, showticklabels=False) # remove grid, make range match size of rink, remove zeroline, remove ticklables\n",
    "fig.update_yaxes(showgrid=False, range=[-42.5,42.5], zeroline=False, visible=False, showticklabels=False)  # remove grid, make range match size of rink, remove zeroline, remove ticklables\n",
    "fig.add_layout_image( # add image \n",
    "    dict(\n",
    "            source=\"https://raw.githubusercontent.com/casmacdo/arena/main/rink.png\", # image of rink\n",
    "            xref=\"x\", # set x reference \n",
    "            yref=\"y\", # set y reference \n",
    "            x = 0, # set x anchor \n",
    "            y = 0, # set y anchor \n",
    "            sizex = 200, # set x size: its 200 because the rink is 200 feet long \n",
    "            sizey = 85, # set y size: its 85 because the rink is 85 feet wide \n",
    "            sizing=\"stretch\", # stretch to fit \n",
    "            opacity=1, # full show \n",
    "            layer=\"below\", # below dots \n",
    "            xanchor = \"center\", # center anchor \n",
    "          yanchor = \"middle\") # middle anchor \n",
    ")\n",
    "fig.show()"
   ]
  },
  {
   "cell_type": "code",
   "execution_count": 34,
   "id": "02082c86",
   "metadata": {},
   "outputs": [
    {
     "data": {
      "application/vnd.plotly.v1+json": {
       "config": {
        "plotlyServerURL": "https://plot.ly"
       },
       "data": [
        {
         "customdata": [
          [
           "Shot",
           "Successful",
           "No"
          ],
          [
           "Shot",
           "Failed",
           "No"
          ],
          [
           "Shot",
           "Successful",
           "No"
          ],
          [
           "Shot",
           "Failed",
           "No"
          ],
          [
           "Shot",
           "Successful",
           "No"
          ],
          [
           "Shot",
           "Failed",
           "No"
          ],
          [
           "Shot",
           "Successful",
           "No"
          ],
          [
           "Shot",
           "Failed",
           "No"
          ],
          [
           "Shot",
           "Successful",
           "No"
          ],
          [
           "Shot",
           "Failed",
           "No"
          ],
          [
           "Shot",
           "Successful",
           "No"
          ],
          [
           "Shot",
           "Failed",
           "No"
          ],
          [
           "Shot",
           "Successful",
           "No"
          ],
          [
           "Shot",
           "Successful",
           "No"
          ],
          [
           "Shot",
           "Failed",
           "No"
          ],
          [
           "Shot",
           "Successful",
           "No"
          ],
          [
           "Shot",
           "Failed",
           "No"
          ],
          [
           "Shot",
           "Successful",
           "No"
          ],
          [
           "Shot",
           "Successful",
           "No"
          ],
          [
           "Shot",
           "Successful",
           "No"
          ],
          [
           "Shot",
           "Successful",
           "No"
          ],
          [
           "Shot",
           "Failed",
           "No"
          ],
          [
           "Shot",
           "Failed",
           "No"
          ],
          [
           "Shot",
           "Failed",
           "No"
          ],
          [
           "Shot",
           "Failed",
           "No"
          ],
          [
           "Shot",
           "Failed",
           "No"
          ],
          [
           "Shot",
           "Successful",
           "No"
          ],
          [
           "Shot",
           "Failed",
           "No"
          ],
          [
           "Shot",
           "Successful",
           "No"
          ],
          [
           "Shot",
           "Successful",
           "No"
          ],
          [
           "Shot",
           "Successful",
           "No"
          ],
          [
           "Shot",
           "Failed",
           "No"
          ],
          [
           "Shot",
           "Successful",
           "No"
          ],
          [
           "Shot",
           "Failed",
           "No"
          ],
          [
           "Shot",
           "Failed",
           "No"
          ],
          [
           "Shot",
           "Successful",
           "No"
          ],
          [
           "Shot",
           "Successful",
           "No"
          ],
          [
           "Shot",
           "Successful",
           "No"
          ],
          [
           "Shot",
           "Successful",
           "No"
          ],
          [
           "Shot",
           "Successful",
           "No"
          ],
          [
           "Shot",
           "Successful",
           "No"
          ],
          [
           "Shot",
           "Successful",
           "No"
          ],
          [
           "Shot",
           "Failed",
           "No"
          ]
         ],
         "hovertemplate": "Goal Scored=%{customdata[2]}<br>Event Type=%{customdata[0]}<br>Outcome=%{customdata[1]}<extra></extra>",
         "legendgroup": "No",
         "marker": {
          "color": "#9370DB",
          "symbol": "circle"
         },
         "mode": "markers",
         "name": "No",
         "orientation": "v",
         "showlegend": true,
         "type": "scatter",
         "x": [
          49.58537292480469,
          62.66184997558594,
          66.18244934082031,
          81.77885437011719,
          31.48736572265625,
          52.61088562011719,
          50.09619140625,
          42.55206298828125,
          86.81089782714844,
          57.64030456542969,
          80.27265930175781,
          75.74618530273438,
          58.0196647644043,
          32.870460510253906,
          47.45700073242188,
          46.47637176513672,
          54.012638092041016,
          83.68616485595703,
          85.69792938232422,
          71.6155776977539,
          62.059696197509766,
          43.95381546020508,
          57.0302848815918,
          58.53910827636719,
          49.98910903930664,
          67.59204864501953,
          84.24118041992188,
          44.508819580078125,
          64.17066955566406,
          52.10008239746094,
          84.28831481933594,
          33.49125671386719,
          63.16477966308594,
          68.19944763183594,
          73.22886657714844,
          63.1700439453125,
          76.24650573730469,
          71.21710205078125,
          80.27003479003906,
          78.25827026367188,
          82.28179931640625,
          56.12886047363281,
          65.68473815917969
         ],
         "xaxis": "x",
         "y": [
          37.2510986328125,
          -15.054786682128906,
          29.929428100585938,
          14.83529281616211,
          40.48529052734375,
          25.397056579589844,
          19.864707946777344,
          27.40882110595703,
          -15.844118118286133,
          20.367645263671875,
          5.279411315917969,
          -17.85588264465332,
          21.360111236572266,
          28.40188789367676,
          -35.980064392089844,
          34.94998550415039,
          -34.44999694824219,
          4.779411315917969,
          -6.788234710693359,
          11.820587158203123,
          13.832353591918944,
          -2.2617645263671875,
          7.294116973876953,
          20.370588302612305,
          -16.847057342529297,
          22.38235282897949,
          4.776470184326172,
          37.46764373779297,
          -4.995964050292969,
          -21.09008026123047,
          -12.037139892578123,
          21.65991973876953,
          15.121685028076172,
          14.332351684570312,
          38.976470947265625,
          0.25,
          -31.938236236572266,
          -9.30588150024414,
          -2.767646789550781,
          0.7529411315917969,
          -2.767646789550781,
          37.46764373779297,
          -1.2588233947753906
         ],
         "yaxis": "y"
        },
        {
         "customdata": [
          [
           "Shot",
           "Successful",
           "Yes"
          ],
          [
           "Shot",
           "Successful",
           "Yes"
          ],
          [
           "Shot",
           "Successful",
           "Yes"
          ],
          [
           "Shot",
           "Successful",
           "Yes"
          ]
         ],
         "hovertemplate": "Goal Scored=%{customdata[2]}<br>Event Type=%{customdata[0]}<br>Outcome=%{customdata[1]}<extra></extra>",
         "legendgroup": "Yes",
         "marker": {
          "color": "#7FFF00",
          "symbol": "circle"
         },
         "mode": "markers",
         "name": "Yes",
         "orientation": "v",
         "showlegend": true,
         "type": "scatter",
         "x": [
          76.24301147460938,
          80.26654052734375,
          -49.09030151367188,
          46.072662353515625
         ],
         "xaxis": "x",
         "y": [
          -7.79705810546875,
          2.2617645263671875,
          38.97941207885742,
          6.2852935791015625
         ],
         "yaxis": "y"
        }
       ],
       "layout": {
        "height": 400,
        "images": [
         {
          "layer": "below",
          "opacity": 1,
          "sizex": 200,
          "sizey": 85,
          "sizing": "stretch",
          "source": "https://raw.githubusercontent.com/casmacdo/arena/main/rink.png",
          "x": 0,
          "xanchor": "center",
          "xref": "x",
          "y": 0,
          "yanchor": "middle",
          "yref": "y"
         }
        ],
        "legend": {
         "title": {
          "text": "Goal Scored"
         },
         "tracegroupgap": 0
        },
        "margin": {
         "t": 60
        },
        "showlegend": false,
        "template": {
         "data": {
          "bar": [
           {
            "error_x": {
             "color": "#2a3f5f"
            },
            "error_y": {
             "color": "#2a3f5f"
            },
            "marker": {
             "line": {
              "color": "#E5ECF6",
              "width": 0.5
             },
             "pattern": {
              "fillmode": "overlay",
              "size": 10,
              "solidity": 0.2
             }
            },
            "type": "bar"
           }
          ],
          "barpolar": [
           {
            "marker": {
             "line": {
              "color": "#E5ECF6",
              "width": 0.5
             },
             "pattern": {
              "fillmode": "overlay",
              "size": 10,
              "solidity": 0.2
             }
            },
            "type": "barpolar"
           }
          ],
          "carpet": [
           {
            "aaxis": {
             "endlinecolor": "#2a3f5f",
             "gridcolor": "white",
             "linecolor": "white",
             "minorgridcolor": "white",
             "startlinecolor": "#2a3f5f"
            },
            "baxis": {
             "endlinecolor": "#2a3f5f",
             "gridcolor": "white",
             "linecolor": "white",
             "minorgridcolor": "white",
             "startlinecolor": "#2a3f5f"
            },
            "type": "carpet"
           }
          ],
          "choropleth": [
           {
            "colorbar": {
             "outlinewidth": 0,
             "ticks": ""
            },
            "type": "choropleth"
           }
          ],
          "contour": [
           {
            "colorbar": {
             "outlinewidth": 0,
             "ticks": ""
            },
            "colorscale": [
             [
              0,
              "#0d0887"
             ],
             [
              0.1111111111111111,
              "#46039f"
             ],
             [
              0.2222222222222222,
              "#7201a8"
             ],
             [
              0.3333333333333333,
              "#9c179e"
             ],
             [
              0.4444444444444444,
              "#bd3786"
             ],
             [
              0.5555555555555556,
              "#d8576b"
             ],
             [
              0.6666666666666666,
              "#ed7953"
             ],
             [
              0.7777777777777778,
              "#fb9f3a"
             ],
             [
              0.8888888888888888,
              "#fdca26"
             ],
             [
              1,
              "#f0f921"
             ]
            ],
            "type": "contour"
           }
          ],
          "contourcarpet": [
           {
            "colorbar": {
             "outlinewidth": 0,
             "ticks": ""
            },
            "type": "contourcarpet"
           }
          ],
          "heatmap": [
           {
            "colorbar": {
             "outlinewidth": 0,
             "ticks": ""
            },
            "colorscale": [
             [
              0,
              "#0d0887"
             ],
             [
              0.1111111111111111,
              "#46039f"
             ],
             [
              0.2222222222222222,
              "#7201a8"
             ],
             [
              0.3333333333333333,
              "#9c179e"
             ],
             [
              0.4444444444444444,
              "#bd3786"
             ],
             [
              0.5555555555555556,
              "#d8576b"
             ],
             [
              0.6666666666666666,
              "#ed7953"
             ],
             [
              0.7777777777777778,
              "#fb9f3a"
             ],
             [
              0.8888888888888888,
              "#fdca26"
             ],
             [
              1,
              "#f0f921"
             ]
            ],
            "type": "heatmap"
           }
          ],
          "heatmapgl": [
           {
            "colorbar": {
             "outlinewidth": 0,
             "ticks": ""
            },
            "colorscale": [
             [
              0,
              "#0d0887"
             ],
             [
              0.1111111111111111,
              "#46039f"
             ],
             [
              0.2222222222222222,
              "#7201a8"
             ],
             [
              0.3333333333333333,
              "#9c179e"
             ],
             [
              0.4444444444444444,
              "#bd3786"
             ],
             [
              0.5555555555555556,
              "#d8576b"
             ],
             [
              0.6666666666666666,
              "#ed7953"
             ],
             [
              0.7777777777777778,
              "#fb9f3a"
             ],
             [
              0.8888888888888888,
              "#fdca26"
             ],
             [
              1,
              "#f0f921"
             ]
            ],
            "type": "heatmapgl"
           }
          ],
          "histogram": [
           {
            "marker": {
             "pattern": {
              "fillmode": "overlay",
              "size": 10,
              "solidity": 0.2
             }
            },
            "type": "histogram"
           }
          ],
          "histogram2d": [
           {
            "colorbar": {
             "outlinewidth": 0,
             "ticks": ""
            },
            "colorscale": [
             [
              0,
              "#0d0887"
             ],
             [
              0.1111111111111111,
              "#46039f"
             ],
             [
              0.2222222222222222,
              "#7201a8"
             ],
             [
              0.3333333333333333,
              "#9c179e"
             ],
             [
              0.4444444444444444,
              "#bd3786"
             ],
             [
              0.5555555555555556,
              "#d8576b"
             ],
             [
              0.6666666666666666,
              "#ed7953"
             ],
             [
              0.7777777777777778,
              "#fb9f3a"
             ],
             [
              0.8888888888888888,
              "#fdca26"
             ],
             [
              1,
              "#f0f921"
             ]
            ],
            "type": "histogram2d"
           }
          ],
          "histogram2dcontour": [
           {
            "colorbar": {
             "outlinewidth": 0,
             "ticks": ""
            },
            "colorscale": [
             [
              0,
              "#0d0887"
             ],
             [
              0.1111111111111111,
              "#46039f"
             ],
             [
              0.2222222222222222,
              "#7201a8"
             ],
             [
              0.3333333333333333,
              "#9c179e"
             ],
             [
              0.4444444444444444,
              "#bd3786"
             ],
             [
              0.5555555555555556,
              "#d8576b"
             ],
             [
              0.6666666666666666,
              "#ed7953"
             ],
             [
              0.7777777777777778,
              "#fb9f3a"
             ],
             [
              0.8888888888888888,
              "#fdca26"
             ],
             [
              1,
              "#f0f921"
             ]
            ],
            "type": "histogram2dcontour"
           }
          ],
          "mesh3d": [
           {
            "colorbar": {
             "outlinewidth": 0,
             "ticks": ""
            },
            "type": "mesh3d"
           }
          ],
          "parcoords": [
           {
            "line": {
             "colorbar": {
              "outlinewidth": 0,
              "ticks": ""
             }
            },
            "type": "parcoords"
           }
          ],
          "pie": [
           {
            "automargin": true,
            "type": "pie"
           }
          ],
          "scatter": [
           {
            "fillpattern": {
             "fillmode": "overlay",
             "size": 10,
             "solidity": 0.2
            },
            "type": "scatter"
           }
          ],
          "scatter3d": [
           {
            "line": {
             "colorbar": {
              "outlinewidth": 0,
              "ticks": ""
             }
            },
            "marker": {
             "colorbar": {
              "outlinewidth": 0,
              "ticks": ""
             }
            },
            "type": "scatter3d"
           }
          ],
          "scattercarpet": [
           {
            "marker": {
             "colorbar": {
              "outlinewidth": 0,
              "ticks": ""
             }
            },
            "type": "scattercarpet"
           }
          ],
          "scattergeo": [
           {
            "marker": {
             "colorbar": {
              "outlinewidth": 0,
              "ticks": ""
             }
            },
            "type": "scattergeo"
           }
          ],
          "scattergl": [
           {
            "marker": {
             "colorbar": {
              "outlinewidth": 0,
              "ticks": ""
             }
            },
            "type": "scattergl"
           }
          ],
          "scattermapbox": [
           {
            "marker": {
             "colorbar": {
              "outlinewidth": 0,
              "ticks": ""
             }
            },
            "type": "scattermapbox"
           }
          ],
          "scatterpolar": [
           {
            "marker": {
             "colorbar": {
              "outlinewidth": 0,
              "ticks": ""
             }
            },
            "type": "scatterpolar"
           }
          ],
          "scatterpolargl": [
           {
            "marker": {
             "colorbar": {
              "outlinewidth": 0,
              "ticks": ""
             }
            },
            "type": "scatterpolargl"
           }
          ],
          "scatterternary": [
           {
            "marker": {
             "colorbar": {
              "outlinewidth": 0,
              "ticks": ""
             }
            },
            "type": "scatterternary"
           }
          ],
          "surface": [
           {
            "colorbar": {
             "outlinewidth": 0,
             "ticks": ""
            },
            "colorscale": [
             [
              0,
              "#0d0887"
             ],
             [
              0.1111111111111111,
              "#46039f"
             ],
             [
              0.2222222222222222,
              "#7201a8"
             ],
             [
              0.3333333333333333,
              "#9c179e"
             ],
             [
              0.4444444444444444,
              "#bd3786"
             ],
             [
              0.5555555555555556,
              "#d8576b"
             ],
             [
              0.6666666666666666,
              "#ed7953"
             ],
             [
              0.7777777777777778,
              "#fb9f3a"
             ],
             [
              0.8888888888888888,
              "#fdca26"
             ],
             [
              1,
              "#f0f921"
             ]
            ],
            "type": "surface"
           }
          ],
          "table": [
           {
            "cells": {
             "fill": {
              "color": "#EBF0F8"
             },
             "line": {
              "color": "white"
             }
            },
            "header": {
             "fill": {
              "color": "#C8D4E3"
             },
             "line": {
              "color": "white"
             }
            },
            "type": "table"
           }
          ]
         },
         "layout": {
          "annotationdefaults": {
           "arrowcolor": "#2a3f5f",
           "arrowhead": 0,
           "arrowwidth": 1
          },
          "autotypenumbers": "strict",
          "coloraxis": {
           "colorbar": {
            "outlinewidth": 0,
            "ticks": ""
           }
          },
          "colorscale": {
           "diverging": [
            [
             0,
             "#8e0152"
            ],
            [
             0.1,
             "#c51b7d"
            ],
            [
             0.2,
             "#de77ae"
            ],
            [
             0.3,
             "#f1b6da"
            ],
            [
             0.4,
             "#fde0ef"
            ],
            [
             0.5,
             "#f7f7f7"
            ],
            [
             0.6,
             "#e6f5d0"
            ],
            [
             0.7,
             "#b8e186"
            ],
            [
             0.8,
             "#7fbc41"
            ],
            [
             0.9,
             "#4d9221"
            ],
            [
             1,
             "#276419"
            ]
           ],
           "sequential": [
            [
             0,
             "#0d0887"
            ],
            [
             0.1111111111111111,
             "#46039f"
            ],
            [
             0.2222222222222222,
             "#7201a8"
            ],
            [
             0.3333333333333333,
             "#9c179e"
            ],
            [
             0.4444444444444444,
             "#bd3786"
            ],
            [
             0.5555555555555556,
             "#d8576b"
            ],
            [
             0.6666666666666666,
             "#ed7953"
            ],
            [
             0.7777777777777778,
             "#fb9f3a"
            ],
            [
             0.8888888888888888,
             "#fdca26"
            ],
            [
             1,
             "#f0f921"
            ]
           ],
           "sequentialminus": [
            [
             0,
             "#0d0887"
            ],
            [
             0.1111111111111111,
             "#46039f"
            ],
            [
             0.2222222222222222,
             "#7201a8"
            ],
            [
             0.3333333333333333,
             "#9c179e"
            ],
            [
             0.4444444444444444,
             "#bd3786"
            ],
            [
             0.5555555555555556,
             "#d8576b"
            ],
            [
             0.6666666666666666,
             "#ed7953"
            ],
            [
             0.7777777777777778,
             "#fb9f3a"
            ],
            [
             0.8888888888888888,
             "#fdca26"
            ],
            [
             1,
             "#f0f921"
            ]
           ]
          },
          "colorway": [
           "#636efa",
           "#EF553B",
           "#00cc96",
           "#ab63fa",
           "#FFA15A",
           "#19d3f3",
           "#FF6692",
           "#B6E880",
           "#FF97FF",
           "#FECB52"
          ],
          "font": {
           "color": "#2a3f5f"
          },
          "geo": {
           "bgcolor": "white",
           "lakecolor": "white",
           "landcolor": "#E5ECF6",
           "showlakes": true,
           "showland": true,
           "subunitcolor": "white"
          },
          "hoverlabel": {
           "align": "left"
          },
          "hovermode": "closest",
          "mapbox": {
           "style": "light"
          },
          "paper_bgcolor": "white",
          "plot_bgcolor": "#E5ECF6",
          "polar": {
           "angularaxis": {
            "gridcolor": "white",
            "linecolor": "white",
            "ticks": ""
           },
           "bgcolor": "#E5ECF6",
           "radialaxis": {
            "gridcolor": "white",
            "linecolor": "white",
            "ticks": ""
           }
          },
          "scene": {
           "xaxis": {
            "backgroundcolor": "#E5ECF6",
            "gridcolor": "white",
            "gridwidth": 2,
            "linecolor": "white",
            "showbackground": true,
            "ticks": "",
            "zerolinecolor": "white"
           },
           "yaxis": {
            "backgroundcolor": "#E5ECF6",
            "gridcolor": "white",
            "gridwidth": 2,
            "linecolor": "white",
            "showbackground": true,
            "ticks": "",
            "zerolinecolor": "white"
           },
           "zaxis": {
            "backgroundcolor": "#E5ECF6",
            "gridcolor": "white",
            "gridwidth": 2,
            "linecolor": "white",
            "showbackground": true,
            "ticks": "",
            "zerolinecolor": "white"
           }
          },
          "shapedefaults": {
           "line": {
            "color": "#2a3f5f"
           }
          },
          "ternary": {
           "aaxis": {
            "gridcolor": "white",
            "linecolor": "white",
            "ticks": ""
           },
           "baxis": {
            "gridcolor": "white",
            "linecolor": "white",
            "ticks": ""
           },
           "bgcolor": "#E5ECF6",
           "caxis": {
            "gridcolor": "white",
            "linecolor": "white",
            "ticks": ""
           }
          },
          "title": {
           "x": 0.05
          },
          "xaxis": {
           "automargin": true,
           "gridcolor": "white",
           "linecolor": "white",
           "ticks": "",
           "title": {
            "standoff": 15
           },
           "zerolinecolor": "white",
           "zerolinewidth": 2
          },
          "yaxis": {
           "automargin": true,
           "gridcolor": "white",
           "linecolor": "white",
           "ticks": "",
           "title": {
            "standoff": 15
           },
           "zerolinecolor": "white",
           "zerolinewidth": 2
          }
         }
        },
        "title": {
         "text": "Shots and Goals: Team 596",
         "x": 0.15
        },
        "width": 800,
        "xaxis": {
         "anchor": "y",
         "domain": [
          0,
          1
         ],
         "range": [
          -100,
          100
         ],
         "showgrid": false,
         "showticklabels": false,
         "title": {
          "text": "xcoord"
         },
         "visible": false,
         "zeroline": false
        },
        "yaxis": {
         "anchor": "x",
         "domain": [
          0,
          1
         ],
         "range": [
          -42.5,
          42.5
         ],
         "showgrid": false,
         "showticklabels": false,
         "title": {
          "text": "ycoord"
         },
         "visible": false,
         "zeroline": false
        }
       }
      }
     },
     "metadata": {},
     "output_type": "display_data"
    }
   ],
   "source": [
    "shots = dense[dense['eventname']=='shot'] # subset all shot attemps in the game and assign to variable \n",
    "shots[\"goal\"] = np.where(shots[\"goal\"] == 1, \"Yes\", \"No\") # change row values to make them more pretty for the hover \n",
    "shots[\"eventname\"] = np.where(shots[\"eventname\"] == 'shot', \"Shot\", \"Shot\") # change row values to make them more pretty for the hover \n",
    "shots[\"outcome\"] = np.where(shots[\"outcome\"] == 'failed', \"Failed\", \"Successful\") # change row values to make them more pretty for the hover \n",
    "t2shots = shots[shots['teamid']==team2]# assign team two shots to variable\n",
    "fig = px.scatter( # create scatter plot\n",
    "        t2shots, # set data argument \n",
    "        x=\"xcoord\", # set x argument \n",
    "        y=\"ycoord\", # set y argument \n",
    "        width=800, # set width  \n",
    "        height=400, # set height \n",
    "        hover_data={'eventname':True,'outcome':True, 'goal':True, 'xcoord':False, \"ycoord\": False}, # define hover data and remove x and y coords\n",
    "        color='goal', # make goals different colour \n",
    "        labels={\"eventname\": \"Event Type\", \"outcome\": \"Outcome\", \"goal\": \"Goal Scored\"}, # set hover labels \n",
    "        color_discrete_sequence=[\"#9370DB\", \"#7FFF00\"] # set point colours\n",
    "        ) \n",
    "fig.update_layout(\n",
    "        title={\n",
    "        'text': \"Shots and Goals: Team {}\".format(team2),\n",
    "        'x':0.15,\n",
    "        },showlegend=False) # set title and remove legend\n",
    "fig.update_xaxes(showgrid=False, range=[-100, 100], zeroline=False, visible=False, showticklabels=False) # remove grid, make range match size of rink, remove zeroline, remove ticklables\n",
    "fig.update_yaxes(showgrid=False, range=[-42.5,42.5], zeroline=False, visible=False, showticklabels=False)  # remove grid, make range match size of rink, remove zeroline, remove ticklables\n",
    "fig.add_layout_image( # add image \n",
    "    dict(\n",
    "            source=\"https://raw.githubusercontent.com/casmacdo/arena/main/rink.png\", # image of rink\n",
    "            xref=\"x\", # set x reference \n",
    "            yref=\"y\", # set y reference \n",
    "            x = 0, # set x anchor \n",
    "            y = 0, # set y anchor \n",
    "            sizex = 200, # set x size: its 200 because the rink is 200 feet long \n",
    "            sizey = 85, # set y size: its 85 because the rink is 85 feet wide \n",
    "            sizing=\"stretch\", # stretch to fit \n",
    "            opacity=1, # full show \n",
    "            layer=\"below\", # below dots \n",
    "            xanchor = \"center\", # center anchor \n",
    "          yanchor = \"middle\") # middle anchor \n",
    ")\n",
    "fig.show()"
   ]
  },
  {
   "cell_type": "markdown",
   "id": "c42be5fc",
   "metadata": {},
   "source": [
    "## Q5)\n",
    "### a) If the centre of the net that teams shoot at is located at xCoord=89, yCoord=0, create a column for the distance from each shot to this point. What is the distance of the furthest goal scored in the game?\n",
    "### b) What is the expected goals (xg) value of this furthest goal and what do you think contributed to this xg value?"
   ]
  },
  {
   "cell_type": "markdown",
   "id": "230ee416",
   "metadata": {},
   "source": [
    "## A5)\n",
    "### a) The distance of the farthest shot was 143.49 feet. \n",
    "### b) The xg value of the farthest goal is 0.004219. Non-empty net, time in game, distance to net, player on ice counts, zones, and goal differential could have influenced this xg value. The Non-empty net, player on ice counts, shot type, and zones likely had negative impacts on the xg value because it is more difficult to score on a goalie who is farther away, and defended by more players."
   ]
  },
  {
   "cell_type": "markdown",
   "id": "db72de84",
   "metadata": {},
   "source": [
    "#### Below, I calculate distances from the center of the net to the game's shots locations. To calculate distances, I creeated a function that calculates the distance between two points using the points' coordinates. The function takes the coordinates as arguments and returns the distance between the points in feet. To create the distance column, I wrote a for loop that reads through each of the rows in the shot data subset and inputs the x and y coordinates for each of the events into the distance. Then, the algorythm appends the distances to a distance column in the shots data frame."
   ]
  },
  {
   "cell_type": "code",
   "execution_count": 35,
   "id": "7b9c6e2d",
   "metadata": {},
   "outputs": [],
   "source": [
    "# below I subset all shot attempts and assign them to a variable. I do this for an earlier question because the instructions of this exercise claim that xg values that do not correspond with shot events \"should not be counted.\"\n",
    "# I rewrite subset and merge below to make sure that you can see what I did! \n",
    "shots = dense.loc[dense['eventname']=='shot'] # subset all shot attempts in the game and assign to variable \n",
    "xg=xg.merge(shots, on=list(set(xg.columns).intersection(dense.columns)), how='inner') # merge xg with shots on compiled game time and use inner join becasue xg values that do not correspond with shot events \"should not be counted\"\n",
    "# create distance function \n",
    "def distance(x1, x2, y1, y2): # define function and arguments \n",
    "   return sqrt((x1-x2)**2+(y1-y2)**2) # write distance formula and return its result \n",
    "xg['dist'] = np.nan # create list to which I will append distance values \n",
    "cent = [89,0] # assign center-of-net coords to variable\n",
    "for i in xg.index: # for loop that reads through index values \n",
    "   xg['dist'][i] = distance(cent[0], xg['xcoord'][i],cent[1],xg['ycoord'][i]) # append distance column to data frame"
   ]
  },
  {
   "cell_type": "markdown",
   "id": "a71cf30c",
   "metadata": {},
   "source": [
    "#### Next, I find the farthest shot scored and its xg value"
   ]
  },
  {
   "cell_type": "code",
   "execution_count": 36,
   "id": "3745150b",
   "metadata": {},
   "outputs": [
    {
     "name": "stdout",
     "output_type": "stream",
     "text": [
      "143.4863266591984\n",
      "29    0.004219\n",
      "Name: xg, dtype: float64\n"
     ]
    }
   ],
   "source": [
    "max_dist = xg.loc[xg['goal']==1]['dist'].max() # get max dist of farthest shot and assign to variable \n",
    "print(max_dist) # print distance \n",
    "print(xg.loc[xg['goal']==1].loc[xg['dist']>=max_dist]['xg']) # print xg value "
   ]
  },
  {
   "cell_type": "markdown",
   "id": "7fd43684",
   "metadata": {},
   "source": [
    "## Q6)\n",
    "### a) If a \"Shot Assist\" is defined as a sequence of events with the same possessionid where there is: 1) a successful pass followed by 2) a successful reception by a teammate and then without giving up the puck 3) the receiving player has a shot attempt, create a column flagging shots that have a Shot Assist. Which player(s) had the most assisted shots in the game and how many assisted shots did they have?\n",
    "\n",
    "### Hint: This can be done using iterrows() or using shift() logic. Consider if you should include ALL event rows and beware of sorting!"
   ]
  },
  {
   "cell_type": "markdown",
   "id": "c60cf07b",
   "metadata": {},
   "source": [
    "## A6)\n",
    "### a) The players with the most assisted shots were 154967, 698619, and 797810. These players had three assisted shots each. "
   ]
  },
  {
   "cell_type": "markdown",
   "id": "f94a8235",
   "metadata": {},
   "source": [
    "#### Below, I wrote an algorithm that checks for shot assists and flags shots that have shot assists. I excluded self passes becasue the instructions state that a successful pass must be followed by a successful reception by a \"teammate.\" I assume that this implies that shot assists cannot be derived from self passes. "
   ]
  },
  {
   "cell_type": "code",
   "execution_count": 37,
   "id": "652b0c8f",
   "metadata": {},
   "outputs": [],
   "source": [
    "len(xg['possessionid'].unique()) == len(xg['possessionid']) # make sure all of the possessionid are unique \n",
    "xg['assist'] = np.nan # create new column and populate with nan \n",
    "for i, r in xg.iterrows(): # use xg because it excludes shots without xg values, as specified in the instructions\n",
    "  pid=r[\"possessionid\"] # assign current possession id to variable \n",
    "  playerid=r[\"playerid\"] # assign current player id to variable \n",
    "  pos = dense.loc[dense['possessionid']==pid].iloc[::-1].reset_index() # assign all events of current possession to variable, flip, and reset index\n",
    "  for ii, rr in pos.iterrows(): # iterate over current possession starting from the bottom \n",
    "    if ((rr['playerid']!=playerid) & (rr['eventname']=='pass') & (rr['outcome']=='successful')): # boolean check to make sure it was not a self pass\n",
    "      xg.at[i , 'assist'] = 1 # assign shot assist to shot event \n",
    "      break # boolean else \n",
    "    elif((rr['playerid']!=playerid) & (rr['eventname']=='pass') & (rr['outcome']=='failed')): # I'm not sure this is possible, given its all in the same possession, but I threw it in just in case\n",
    "      xg.at[i , 'assist'] = 0 # assign to zero if a failed pass precedes the shot \n",
    "      break # move on to next possession\n",
    "    else: # boolean else \n",
    "      continue # continue trying to find a successful receptions\n",
    "  if (np.isnan(xg['assist'].iloc[i])): # boolean check if at end of a possession and there is no assignment\n",
    "    xg.at[i , 'assist'] = 0 # if true, assign zero \n",
    "  else: \n",
    "    continue "
   ]
  },
  {
   "cell_type": "markdown",
   "id": "86c62d65",
   "metadata": {},
   "source": [
    "#### Next I found the players with the most assisted shots using Pandas' groupby() and sum() methods"
   ]
  },
  {
   "cell_type": "code",
   "execution_count": 38,
   "id": "c7b18cfe",
   "metadata": {},
   "outputs": [
    {
     "data": {
      "text/plain": [
       "array([154967, 698619, 797810])"
      ]
     },
     "execution_count": 38,
     "metadata": {},
     "output_type": "execute_result"
    }
   ],
   "source": [
    "grouped = xg.groupby(['playerid']).sum() # groupby playerid and calculate sum \n",
    "grouped[grouped['assist']>=3].index.values # get all players with assists greater than or equal to 3 "
   ]
  },
  {
   "cell_type": "markdown",
   "id": "c6779d7f",
   "metadata": {},
   "source": [
    "## Q7)\n",
    "### a) What is highest xg among the goals that were scored and why do you think it was this high? \n",
    "### b) Did this goal have a shot assist?"
   ]
  },
  {
   "cell_type": "markdown",
   "id": "b13b8f8b",
   "metadata": {},
   "source": [
    "## A7)\n",
    "### a) 0.999534607 was the highest goal xg. Distance to net, zone, possession length, and y-coordinate could have influenced the xg value for the shot that caused this goal. This goal was scored in the offensive zone, on an empty net, near the center of the ice, and roughly forty three feet from the net. Based on my experience, shots like these are commonly scored. The xg value appears to reflect my knowledge. Further, possession length could have influenced the xg of the shot because the play that preceded the goal could have been a turn over by the opposing team followed by scramble where defenders were caught out of position and unable to defend the shot.\n",
    "\n",
    "### b) It appears that the goal was unassisted. To double check my work, I queried the xg data frame for the shot event that preceded the goal and uncovered no assists. To confirm my work, I queried the condensed game data for all events that matched the goal's possession id and found one result. Despite these findings, there may be assists associated with the goal in the game report that do not meet the assist criteria stated above. "
   ]
  },
  {
   "cell_type": "markdown",
   "id": "b3c8f850",
   "metadata": {},
   "source": [
    "#### Below, I find the greatest xg among the scored goals and determine if it had an assist"
   ]
  },
  {
   "cell_type": "code",
   "execution_count": 39,
   "id": "00833bad",
   "metadata": {},
   "outputs": [
    {
     "data": {
      "text/html": [
       "<div>\n",
       "<style scoped>\n",
       "    .dataframe tbody tr th:only-of-type {\n",
       "        vertical-align: middle;\n",
       "    }\n",
       "\n",
       "    .dataframe tbody tr th {\n",
       "        vertical-align: top;\n",
       "    }\n",
       "\n",
       "    .dataframe thead th {\n",
       "        text-align: right;\n",
       "    }\n",
       "</style>\n",
       "<table border=\"1\" class=\"dataframe\">\n",
       "  <thead>\n",
       "    <tr style=\"text-align: right;\">\n",
       "      <th></th>\n",
       "      <th>teamid</th>\n",
       "      <th>compiledgametime</th>\n",
       "      <th>playerid</th>\n",
       "      <th>xg</th>\n",
       "      <th>gameid</th>\n",
       "      <th>opposingteamid</th>\n",
       "      <th>eventname</th>\n",
       "      <th>outcome</th>\n",
       "      <th>type</th>\n",
       "      <th>possessionid</th>\n",
       "      <th>...</th>\n",
       "      <th>xcoord</th>\n",
       "      <th>ycoord</th>\n",
       "      <th>teamskatersonicecount</th>\n",
       "      <th>opposingteamskatersonicecount</th>\n",
       "      <th>goal</th>\n",
       "      <th>team_net_empty</th>\n",
       "      <th>opponent_net_empty</th>\n",
       "      <th>scoredifferential</th>\n",
       "      <th>dist</th>\n",
       "      <th>assist</th>\n",
       "    </tr>\n",
       "  </thead>\n",
       "  <tbody>\n",
       "    <tr>\n",
       "      <th>54</th>\n",
       "      <td>596</td>\n",
       "      <td>3553.5</td>\n",
       "      <td>290779</td>\n",
       "      <td>0.999535</td>\n",
       "      <td>70632</td>\n",
       "      <td>724</td>\n",
       "      <td>shot</td>\n",
       "      <td>successful</td>\n",
       "      <td>outside</td>\n",
       "      <td>555</td>\n",
       "      <td>...</td>\n",
       "      <td>46.072662</td>\n",
       "      <td>6.285294</td>\n",
       "      <td>4</td>\n",
       "      <td>6</td>\n",
       "      <td>1</td>\n",
       "      <td>0</td>\n",
       "      <td>1</td>\n",
       "      <td>2</td>\n",
       "      <td>43.385035</td>\n",
       "      <td>0.0</td>\n",
       "    </tr>\n",
       "  </tbody>\n",
       "</table>\n",
       "<p>1 rows × 21 columns</p>\n",
       "</div>"
      ],
      "text/plain": [
       "    teamid  compiledgametime  playerid        xg  gameid  opposingteamid  \\\n",
       "54     596            3553.5    290779  0.999535   70632             724   \n",
       "\n",
       "   eventname     outcome     type  possessionid  ...     xcoord    ycoord  \\\n",
       "54      shot  successful  outside           555  ...  46.072662  6.285294   \n",
       "\n",
       "    teamskatersonicecount  opposingteamskatersonicecount  goal  \\\n",
       "54                      4                              6     1   \n",
       "\n",
       "    team_net_empty  opponent_net_empty  scoredifferential       dist  assist  \n",
       "54               0                   1                  2  43.385035     0.0  \n",
       "\n",
       "[1 rows x 21 columns]"
      ]
     },
     "execution_count": 39,
     "metadata": {},
     "output_type": "execute_result"
    }
   ],
   "source": [
    "gxgmax = xg.loc[xg['goal']==1]['xg'].max() # get xg value of farthest shot\n",
    "gxgmaxpos = xg.loc[xg['goal']==1].loc[xg['xg']==gxgmax]['possessionid'].values[0] # assign goal possession id to variable \n",
    "xg.loc[xg['goal']==1].loc[xg['xg']==gxgmax]['assist'] == 0 # check for shot assist\n",
    "xg.loc[xg['possessionid'] == gxgmaxpos] # find all events linked to goal possession"
   ]
  },
  {
   "cell_type": "markdown",
   "id": "78a1e7c5",
   "metadata": {},
   "source": [
    "## Q8) \n",
    "### a) Consider other shots with high xg values, without engineering any additional features (aside from the columns you've already been asked to create in the questions above), use a statistical technique of your choice to show the highest predictors of a goal within this dataset.\n",
    "### b) Please explain your reasoning for choosing this technique and explain your findings\n",
    "\n",
    "### Hint: look back at the columns you were asked to create, along with the columns already provided in the event dataset, what would lead to dangerous shot attempts?"
   ]
  },
  {
   "cell_type": "markdown",
   "id": "16fba9ea",
   "metadata": {},
   "source": [
    "## A8) \n",
    "### a) For this answer, I used the XGBoost gradient boosting framework. With an accuracy of 93% on 25% of the data using a XGBoost logistic model, distance from the net, score differential, outside shots, and assists appear to be the greatest predictors of goals in this dataset, given the following variables: number of team skaters on ice, number of opposing team skaters on ice', if player's team's net is empty, if opponent's team's net is empty, score differential, distance from net, if shot has an assist, is an outside shot, is a slot shot, is in the defensive zone, and is in the offensive zone variables. \n",
    "\n",
    "\n",
    "### b) I chose XGBoost for its ease of implementation, ensemble model production, regularization, gradient boosting, and hyperparameters to scale imbalanced data. While researching contemporary implementations of expected goals on Github, Google, and Google Scholar, I found that programmers were commonly integrating this technique. While implementing the framework, I used XGBoost's class, XGBClassifier(). I used my hockey knowledge, information I gained from this exercise, and my time at Sportlogiq as a data annotator to inform the model's predictor variable inputs. I verified that the output model features were not overly correlated using variance inflation factor. None of the features had a VIF larger than five, and each of them made logical sense to include in the model. After completing my XGBoost model selection, I tried manual and recursive feature elimination, which was slower and produced poorer accuracies. While my findings are interesting, they could likely be improved by controlling for players on ice. For example, my next xG model may use a larger data set and select features for certain player strengths, like five-on-five. "
   ]
  },
  {
   "cell_type": "markdown",
   "id": "f63bd371",
   "metadata": {},
   "source": [
    "### Below, I show how I prepared the data and used XGboost"
   ]
  },
  {
   "cell_type": "markdown",
   "id": "fb112f07",
   "metadata": {},
   "source": [
    "#### First, I encoded categorical variables using OneHotEncoder(). This class takes categorical variables and transforms them into binary variables in multiple columns. In addition, I split the data into two sets: training and testing and assign the results to variables. For this split, I kept 25% of the data for testing my models."
   ]
  },
  {
   "cell_type": "code",
   "execution_count": 40,
   "id": "cc4ffe77",
   "metadata": {},
   "outputs": [],
   "source": [
    "encoder = OneHotEncoder(handle_unknown='ignore') # instantiate encoder \n",
    "xg=pd.read_csv('xg_manip.csv') # I wrote my manipulated data frame to a csv to a file to avoid any problems.\n",
    "xgg = xg.copy() # copy data frame and assign to variable\n",
    "for i in ['type', 'zone']: # read through list of categorical variables that I wish to transform \n",
    "    encoded = pd.DataFrame(encoder.fit_transform(xg[[i]]).toarray()) # assign dataframe of encoded varables to variable \n",
    "    encoded.columns = encoder.get_feature_names_out() # assign names of encoded features as column names \n",
    "    xgg = xgg.join(encoded) # merge the new column with the data frame \n",
    "excludes=['playerid', 'type', 'zone', 'teamid', 'opposingteamid', 'goal', 'eventname', 'outcome', 'gameid', 'possessionid', 'xcoord', 'ycoord', 'xg', 'compiledgametime'] # exclude categorical vars that are not dummied and vars that I don't think make sense\n",
    "final_vars=[i for i in xgg.columns if i not in excludes] # assign final predictor vars to variable using list comprehension and a boolean check\n",
    "X_train,X_test,y_train,y_test=train_test_split(xgg[final_vars],xgg['goal'],test_size=0.25, random_state=47) # split the data into test and training sets "
   ]
  },
  {
   "cell_type": "markdown",
   "id": "5f75c0e7",
   "metadata": {},
   "source": [
    "#### Next, because I had planned on using a logistic model, I checked for covariance among my selected predictor variables."
   ]
  },
  {
   "cell_type": "code",
   "execution_count": 41,
   "id": "63aa2299",
   "metadata": {},
   "outputs": [
    {
     "data": {
      "image/png": "[encoded data removed]",
      "text/plain": [
       "<Figure size 432x288 with 2 Axes>"
      ]
     },
     "metadata": {
      "needs_background": "light"
     },
     "output_type": "display_data"
    }
   ],
   "source": [
    "sn.heatmap(xgg[final_vars].corr(), annot=True) # create heatmap \n",
    "plt.show() # show plot "
   ]
  },
  {
   "cell_type": "markdown",
   "id": "1d54a6e2",
   "metadata": {},
   "source": [
    "#### Below, I instantiated the classifier fit the model, created a confusion matrix, printed the accuracy score, and displayed the feature importance"
   ]
  },
  {
   "cell_type": "code",
   "execution_count": 42,
   "id": "b1cd46f6",
   "metadata": {},
   "outputs": [
    {
     "name": "stdout",
     "output_type": "stream",
     "text": [
      "Confusion Matrix:\n",
      "[[14  0]\n",
      " [ 1  0]]\n",
      "Accuracy Score:\n",
      "93.33333333333333\n"
     ]
    },
    {
     "data": {
      "text/plain": [
       "<AxesSubplot:title={'center':'Feature importance'}, xlabel='F score', ylabel='Features'>"
      ]
     },
     "execution_count": 42,
     "metadata": {},
     "output_type": "execute_result"
    },
    {
     "data": {
      "image/png": "[encoded data removed]",
      "text/plain": [
       "<Figure size 432x288 with 1 Axes>"
      ]
     },
     "metadata": {
      "needs_background": "light"
     },
     "output_type": "display_data"
    }
   ],
   "source": [
    "classifier = xgb.XGBClassifier() # instantiate model\n",
    "classifier.fit(X_train,y_train) # fit model \n",
    "y_pred = classifier.predict(X_test) # make predictions \n",
    "cm = confusion_matrix(y_test, y_pred) # create confusion matrix \n",
    "print('Confusion Matrix:') # make printed stuff easier to see \n",
    "print(cm) # print confusion matrix\n",
    "print('Accuracy Score:') # make printed stuff easier to see\n",
    "print(accuracy_score(y_test, y_pred)*100) # print accuracy score \n",
    "xgb.plot_importance(classifier) # get plot importance "
   ]
  },
  {
   "cell_type": "markdown",
   "id": "ebf19058",
   "metadata": {},
   "source": [
    "#### Next, I checked to make sure there was no covariance between the model's features"
   ]
  },
  {
   "cell_type": "code",
   "execution_count": 43,
   "metadata": {},
   "outputs": [
    {
     "name": "stdout",
     "output_type": "stream",
     "text": [
      "zone\n",
      "             feature       VIF\n",
      "0   compiledgametime  2.163761\n",
      "1  scoredifferential  1.082910\n",
      "2               dist  3.990357\n",
      "3             assist  2.036592\n",
      "4       type_outside  3.001482\n"
     ]
    }
   ],
   "source": [
    "X = xgg[['compiledgametime','scoredifferential', 'dist', 'assist', 'type_outside']]\n",
    "# create VIF data frame\n",
    "vif_data = pd.DataFrame() # instantiate data frame \n",
    "vif_data[\"feature\"] = X.columns # create feature name column \n",
    "# calculating VIF for each feature\n",
    "vif_data[\"VIF\"] = [variance_inflation_factor(X.values, i) for i in range(len(X.columns))]\n",
    "print(str(i)) # print model variables \n",
    "print(vif_data) # print VIF data"
   ]
  },
  {
   "cell_type": "markdown",
   "id": "99a2bb52",
   "metadata": {},
   "source": [
    "#### Below, I show some of the incomplete code I write while I was trying other feature-selection methods. In the cell immedately below I checked for multicolinarity among my manual model combinations using VIF. I excluded models whose varaibles had VIF values greater than 5 because this indicates strong multicolinarity. In the end, I created eight models whose combinations made sense, given my hockey background and infomration I've gained from this exercise."
   ]
  },
  {
   "cell_type": "code",
   "execution_count": 44,
   "id": "ee60c939",
   "metadata": {},
   "outputs": [
    {
     "name": "stdout",
     "output_type": "stream",
     "text": [
      "['compiledgametime', 'team_net_empty', 'opponent_net_empty', 'scoredifferential', 'dist', 'assist', 'type_slot']\n",
      "              feature       VIF\n",
      "0    compiledgametime  2.999342\n",
      "1      team_net_empty  1.395274\n",
      "2  opponent_net_empty  1.110909\n",
      "3   scoredifferential  1.179195\n",
      "4                dist  2.622402\n",
      "5              assist  2.594510\n",
      "6           type_slot  1.895715\n",
      "['opponent_net_empty', 'scoredifferential', 'dist', 'assist', 'type_slot']\n",
      "              feature       VIF\n",
      "0  opponent_net_empty  1.056111\n",
      "1   scoredifferential  1.073286\n",
      "2                dist  1.984208\n",
      "3              assist  2.515187\n",
      "4           type_slot  1.570638\n",
      "['compiledgametime', 'team_net_empty', 'scoredifferential', 'zone_oz']\n",
      "             feature       VIF\n",
      "0   compiledgametime  3.852943\n",
      "1     team_net_empty  1.344948\n",
      "2  scoredifferential  1.163059\n",
      "3            zone_oz  3.319244\n",
      "['compiledgametime', 'team_net_empty', 'opponent_net_empty', 'scoredifferential', 'assist', 'type_slot', 'zone_dz']\n",
      "              feature       VIF\n",
      "0    compiledgametime  2.321240\n",
      "1      team_net_empty  1.359284\n",
      "2  opponent_net_empty  1.110666\n",
      "3   scoredifferential  1.188511\n",
      "4              assist  1.849967\n",
      "5           type_slot  1.779695\n",
      "6             zone_dz  1.036790\n",
      "['opposingteamskatersonicecount', 'team_net_empty', 'opponent_net_empty', 'scoredifferential', 'assist', 'type_slot']\n",
      "                         feature       VIF\n",
      "0  opposingteamskatersonicecount  4.340736\n",
      "1                 team_net_empty  1.176731\n",
      "2             opponent_net_empty  1.123160\n",
      "3              scoredifferential  1.132663\n",
      "4                         assist  2.745515\n",
      "5                      type_slot  2.374412\n",
      "['team_net_empty', 'opponent_net_empty', 'scoredifferential', 'dist', 'assist', 'zone_dz']\n",
      "              feature       VIF\n",
      "0      team_net_empty  1.162999\n",
      "1  opponent_net_empty  1.103794\n",
      "2   scoredifferential  1.097791\n",
      "3                dist  3.832848\n",
      "4              assist  2.912261\n",
      "5             zone_dz  1.965942\n",
      "['opponent_net_empty', 'dist', 'type_slot', 'assist', 'scoredifferential']\n",
      "              feature       VIF\n",
      "0  opponent_net_empty  1.056111\n",
      "1                dist  1.984208\n",
      "2           type_slot  1.570638\n",
      "3              assist  2.515187\n",
      "4   scoredifferential  1.073286\n",
      "['opponent_net_empty', 'dist', 'type_slot', 'assist', 'scoredifferential', 'type_outside']\n",
      "              feature       VIF\n",
      "0  opponent_net_empty  1.065092\n",
      "1                dist  1.575106\n",
      "2           type_slot  2.313369\n",
      "3              assist  1.065628\n",
      "4   scoredifferential  1.039522\n",
      "5        type_outside  4.248061\n",
      "['teamskatersonicecount', 'team_net_empty', 'opponent_net_empty', 'dist']\n",
      "                 feature       VIF\n",
      "0  teamskatersonicecount  2.961561\n",
      "1         team_net_empty  1.151785\n",
      "2     opponent_net_empty  1.024507\n",
      "3                   dist  2.768953\n"
     ]
    }
   ],
   "source": [
    "\n",
    "# the independent variables set\n",
    "mod1 = ['compiledgametime','team_net_empty','opponent_net_empty','scoredifferential', 'dist', 'assist','type_slot']\n",
    "mod2 = ['opponent_net_empty','scoredifferential', 'dist','assist','type_slot']\n",
    "mod3 = ['compiledgametime','team_net_empty','scoredifferential','zone_oz']\n",
    "mod4 = ['compiledgametime','team_net_empty','opponent_net_empty','scoredifferential','assist','type_slot', 'zone_dz']\n",
    "mod5 = ['opposingteamskatersonicecount','team_net_empty','opponent_net_empty','scoredifferential','assist','type_slot']\n",
    "mod6 = ['team_net_empty','opponent_net_empty','scoredifferential', 'dist','assist', 'zone_dz']\n",
    "mod7 = ['opponent_net_empty', 'dist', 'type_slot', 'assist', 'scoredifferential']\n",
    "mod8 = ['opponent_net_empty', 'dist', 'type_slot', 'assist', 'scoredifferential', 'type_outside']\n",
    "mod9 = ['teamskatersonicecount','team_net_empty','opponent_net_empty', 'dist']\n",
    "mods = [mod1, mod2, mod3, mod4, mod5, mod6, mod7, mod8, mod9]\n",
    "for i in mods: \n",
    "        X = xgg[i]\n",
    "        # create VIF dataframe\n",
    "        vif_data = pd.DataFrame()\n",
    "        vif_data[\"feature\"] = X.columns\n",
    "        # calculating VIF for each feature\n",
    "        vif_data[\"VIF\"] = [variance_inflation_factor(X.values, i) for i in range(len(X.columns))]\n",
    "        print(str(i)) # print model variables \n",
    "        print(vif_data) # print VIF data"
   ]
  },
  {
   "cell_type": "markdown",
   "id": "42b25e3a",
   "metadata": {},
   "source": [
    "#### Below, I was trying recursive feature elimination feature selection"
   ]
  },
  {
   "cell_type": "code",
   "execution_count": 45,
   "id": "b3113251",
   "metadata": {},
   "outputs": [
    {
     "name": "stdout",
     "output_type": "stream",
     "text": [
      "[False  True  True  True False False False False False  True  True]\n",
      "[2 1 1 1 3 7 4 6 5 1 1]\n"
     ]
    },
    {
     "data": {
      "text/plain": [
       "['opposingteamskatersonicecount',\n",
       " 'team_net_empty',\n",
       " 'opponent_net_empty',\n",
       " 'zone_dz',\n",
       " 'zone_oz']"
      ]
     },
     "execution_count": 45,
     "metadata": {},
     "output_type": "execute_result"
    }
   ],
   "source": [
    "from sklearn.feature_selection import RFE\n",
    "from sklearn.linear_model import LogisticRegression\n",
    "logreg = LogisticRegression(max_iter=100000)\n",
    "y=['goal']\n",
    "x=final_vars\n",
    "X_train,X_test,y_train,y_test=train_test_split(xgg[x],xgg['goal'],test_size=0.20,random_state=0)\n",
    "rfe = RFE(logreg)\n",
    "rfe = rfe.fit(X_train, y_train.ravel())\n",
    "print(rfe.support_) # selected features \n",
    "print(rfe.ranking_) # selected feature rankings\n",
    "\n",
    "predvars = [i[1] for i in enumerate(x) if rfe.support_[i[0]] == True] # combine selected varaiables in list\n",
    "x = xgg[predvars]\n",
    "y=xgg[y]\n",
    "predvars"
   ]
  },
  {
   "cell_type": "markdown",
   "id": "720c25a5",
   "metadata": {},
   "source": [
    "# Before you submit:"
   ]
  },
  {
   "cell_type": "markdown",
   "id": "5ef70791",
   "metadata": {},
   "source": [
    "Please check that you have answered all questions (and sub-questions) to the best of your ability and that every answer can be clearly traced back to work that is shown. If you were unable to produce an answer, please describe and show the work you tried.\n",
    "\n",
    "Thanks for your time, effort and interest!"
   ]
  }
 ],
 "metadata": {
  "interpreter": {
   "hash": "a9e789d93a098b3a72680b35918b03f72691f7600e421d1e357e07f3a764cc78"
  },
  "kernelspec": {
   "display_name": "Python 3.7.9 ('venv': venv)",
   "language": "python",
   "name": "python3"
  },
  "language_info": {
   "codemirror_mode": {
    "name": "ipython",
    "version": 3
   },
   "file_extension": ".py",
   "mimetype": "text/x-python",
   "name": "python",
   "nbconvert_exporter": "python",
   "pygments_lexer": "ipython3",
   "version": "3.7.9"
  }
 },
 "nbformat": 4,
 "nbformat_minor": 5
}
