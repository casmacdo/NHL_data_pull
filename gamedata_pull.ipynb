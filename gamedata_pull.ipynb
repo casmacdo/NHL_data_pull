{
 "cells": [
  {
   "cell_type": "markdown",
   "metadata": {},
   "source": [
    "Script to pull NHL game data"
   ]
  },
  {
   "cell_type": "markdown",
   "metadata": {},
   "source": [
    "Import libraries"
   ]
  },
  {
   "cell_type": "code",
   "execution_count": null,
   "metadata": {},
   "outputs": [],
   "source": [
    "import pandas as pd \n",
    "import requests \n"
   ]
  },
  {
   "cell_type": "markdown",
   "metadata": {},
   "source": [
    "Pull data and save"
   ]
  },
  {
   "cell_type": "code",
   "execution_count": null,
   "metadata": {},
   "outputs": [],
   "source": [
    "## Thanks to Kyle Pastor at https://www.kaggle.com/code/kapastor/nhl-analytics-data-collection/notebook for the code! \n",
    "\n",
    "\n",
    "game_data = [] # instantiate an empty list \n",
    "year = '2021' # set year variable \n",
    "season_type = '02' # 01 is preseason, 02 is regular season, 03 is playoffs, and 04 is allstar\n",
    "max_game_ID = 1290 # depends on number of teams, number of games per team, and what happened during the season. In general, the answer should be number of games * 1/2 number of teams. It's best to add a few games to be safe\n",
    "for i in range(0,max_game_ID):\n",
    "    r = requests.get(url='http://statsapi.web.nhl.com/api/v1/game/' + year + season_type +str(i).zfill(4)+'/feed/live') # make request and assign to variable \n",
    "    data = r.json() # assign json to varaible \n",
    "    game_data.append(data) # append to list \n",
    "    \n",
    "with open('./'+year+'FullDataset.pkl', 'wb') as f: # open pickle and write file \n",
    "    pickle.dump(game_data, f, pickle.HIGHEST_PROTOCOL) # write file"
   ]
  },
  {
   "cell_type": "code",
   "execution_count": 4,
   "metadata": {},
   "outputs": [],
   "source": [
    "game_data = [] # instantiate an empty list \n",
    "year = '2021' # set year variable \n",
    "season_type = '02' # 01 is preseason, 02 is regular season, 03 is playoffs, and 04 is allstar\n",
    "i=7\n",
    "max_game_ID = 1290 # depends on number of teams, number of games per team, and what happened during the season. In general, the answer should be number of games * 1/2 number of teams. It's best to add a few games to be safe\n",
    "req = requests.get(url='http://statsapi.web.nhl.com/api/v1/game/' + year + season_type +str(i).zfill(4)+'/feed/live')"
   ]
  },
  {
   "cell_type": "code",
   "execution_count": 5,
   "metadata": {},
   "outputs": [],
   "source": [
    "data = r.json() # assign json to varaible "
   ]
  },
  {
   "cell_type": "code",
   "execution_count": 10,
   "metadata": {},
   "outputs": [
    {
     "ename": "TypeError",
     "evalue": "string indices must be integers",
     "output_type": "error",
     "traceback": [
      "\u001b[0;31m---------------------------------------------------------------------------\u001b[0m",
      "\u001b[0;31mTypeError\u001b[0m                                 Traceback (most recent call last)",
      "\u001b[1;32m/home/cassidy/Documents/hockey_models/gamedata_pull.ipynb Cell 8'\u001b[0m in \u001b[0;36m<cell line: 1>\u001b[0;34m()\u001b[0m\n\u001b[1;32m      <a href='vscode-notebook-cell:/home/cassidy/Documents/hockey_models/gamedata_pull.ipynb#ch0000011?line=0'>1</a>\u001b[0m \u001b[39mfor\u001b[39;00m i \u001b[39min\u001b[39;00m data: \n\u001b[0;32m----> <a href='vscode-notebook-cell:/home/cassidy/Documents/hockey_models/gamedata_pull.ipynb#ch0000011?line=1'>2</a>\u001b[0m     i[\u001b[39m'\u001b[39;49m\u001b[39mliveData\u001b[39;49m\u001b[39m'\u001b[39;49m][\u001b[39m'\u001b[39m\u001b[39mplays\u001b[39m\u001b[39m'\u001b[39m][\u001b[39m'\u001b[39m\u001b[39mallPlays\u001b[39m\u001b[39m'\u001b[39m]\n",
      "\u001b[0;31mTypeError\u001b[0m: string indices must be integers"
     ]
    }
   ],
   "source": [
    "plays = data['liveData']['plays']['allPlays']\n",
    "for i in data: \n",
    "    "
   ]
  },
  {
   "cell_type": "code",
   "execution_count": null,
   "metadata": {},
   "outputs": [],
   "source": []
  }
 ],
 "metadata": {
  "interpreter": {
   "hash": "c27f9d6f54fdd86f66173623e62e1ee52bce373af93abb6c9628b8e9e292ba1d"
  },
  "kernelspec": {
   "display_name": "Python 3.9.5 ('venv': venv)",
   "language": "python",
   "name": "python3"
  },
  "language_info": {
   "codemirror_mode": {
    "name": "ipython",
    "version": 3
   },
   "file_extension": ".py",
   "mimetype": "text/x-python",
   "name": "python",
   "nbconvert_exporter": "python",
   "pygments_lexer": "ipython3",
   "version": "3.9.5"
  },
  "orig_nbformat": 4
 },
 "nbformat": 4,
 "nbformat_minor": 2
}
