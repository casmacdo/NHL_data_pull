{
 "cells": [
  {
   "cell_type": "markdown",
   "metadata": {},
   "source": [
    "Script to pull NHL game data"
   ]
  },
  {
   "cell_type": "markdown",
   "metadata": {},
   "source": [
    "Import libraries"
   ]
  },
  {
   "cell_type": "code",
   "execution_count": 3,
   "metadata": {},
   "outputs": [],
   "source": [
    "import pandas as pd \n",
    "import requests \n",
    "import pickle"
   ]
  },
  {
   "cell_type": "markdown",
   "metadata": {},
   "source": [
    "Pull data and save"
   ]
  },
  {
   "cell_type": "code",
   "execution_count": 4,
   "metadata": {},
   "outputs": [],
   "source": [
    "## Thanks to Kyle Pastor at https://www.kaggle.com/code/kapastor/nhl-analytics-data-collection/notebook for the code! \n",
    "game_data = [] # instantiate an empty list \n",
    "year = '2021' # set year variable \n",
    "season_type = '02' # 01 is preseason, 02 is regular season, 03 is playoffs, and 04 is allstar\n",
    "max_game_ID = 1290 # depends on number of teams, number of games per team, and what happened during the season. In general, the answer should be number of games * 1/2 number of teams. It's best to add a few games to be safe\n",
    "for i in range(0,max_game_ID):\n",
    "    r = requests.get(url='http://statsapi.web.nhl.com/api/v1/game/' + year + season_type +str(i).zfill(4)+'/feed/live') # make request and assign to variable \n",
    "    data = r.json() # assign json to varaible \n",
    "    game_data.append(data) # append to list \n",
    "with open('./'+year+'FullDataset.pkl', 'wb') as f: # open pickle and write file \n",
    "    pickle.dump(game_data, f, pickle.HIGHEST_PROTOCOL) # write file"
   ]
  }
 ],
 "metadata": {
  "interpreter": {
   "hash": "c27f9d6f54fdd86f66173623e62e1ee52bce373af93abb6c9628b8e9e292ba1d"
  },
  "kernelspec": {
   "display_name": "Python 3.9.5 ('venv': venv)",
   "language": "python",
   "name": "python3"
  },
  "language_info": {
   "codemirror_mode": {
    "name": "ipython",
    "version": 3
   },
   "file_extension": ".py",
   "mimetype": "text/x-python",
   "name": "python",
   "nbconvert_exporter": "python",
   "pygments_lexer": "ipython3",
   "version": "3.9.5"
  },
  "orig_nbformat": 4
 },
 "nbformat": 4,
 "nbformat_minor": 2
}
