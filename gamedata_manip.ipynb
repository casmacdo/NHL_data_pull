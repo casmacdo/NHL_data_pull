{
 "cells": [
  {
   "cell_type": "markdown",
   "metadata": {},
   "source": [
    "The following code manipulates NHL game data for my Xg model"
   ]
  },
  {
   "cell_type": "markdown",
   "metadata": {},
   "source": [
    "Import libraries"
   ]
  },
  {
   "cell_type": "code",
   "execution_count": 172,
   "metadata": {},
   "outputs": [],
   "source": [
    "import pandas as pd\n",
    "import pickle "
   ]
  },
  {
   "cell_type": "markdown",
   "metadata": {},
   "source": [
    "Make function to get event types"
   ]
  },
  {
   "cell_type": "code",
   "execution_count": 173,
   "metadata": {},
   "outputs": [],
   "source": [
    "def get_event_types(game_data): # define function \n",
    "    event_types = [] # instantiate empty list \n",
    "    for g in game_data: # loo0p through games in game data \n",
    "            if 'liveData' not in g: # make sure there is live game data \n",
    "                continue \n",
    "            plays = g['liveData']['plays']['allPlays'] # get the current game's plays and assign to variable \n",
    "            for p in plays: # loop through plays \n",
    "                event = p['result']['event'] # assign event data to variable \n",
    "                if event not in event_types: # check if current event is already in event list \n",
    "                    event_types.append(event) # if not in list, append to list \n",
    "    return(event_types) # return event types in data "
   ]
  },
  {
   "cell_type": "markdown",
   "metadata": {},
   "source": [
    "Read in data "
   ]
  },
  {
   "cell_type": "code",
   "execution_count": 174,
   "metadata": {},
   "outputs": [],
   "source": [
    "data = '2021FullDataset.pkl'\n",
    "with open(data, 'rb') as f:\n",
    "    game_data = pickle.load(f)"
   ]
  },
  {
   "cell_type": "markdown",
   "metadata": {},
   "source": [
    "Get event types"
   ]
  },
  {
   "cell_type": "code",
   "execution_count": 175,
   "metadata": {},
   "outputs": [],
   "source": [
    "et = get_event_types(gd) # use the function we defined earlier "
   ]
  },
  {
   "cell_type": "markdown",
   "metadata": {},
   "source": [
    "Write function that converts period time to seconds elapsed in game"
   ]
  },
  {
   "cell_type": "code",
   "execution_count": 176,
   "metadata": {},
   "outputs": [],
   "source": [
    "def get_seconds(about_play): # define function \n",
    "    period = about_play['period'] # assign period to variable \n",
    "    if period in [1,2,3]: # make sure it is regulation \n",
    "        m, s = about_play['periodTime'].split(':') # assign mins and secs to variables\n",
    "        cursecs = int(m) * period * 60 + int(s) # convert to seconds elapsed in game\n",
    "    else: # raise exception if the period is not 1, 2, or 3\n",
    "        raise Exception(\"Can't handle OT or SO yet\") # raise exception \n",
    "    return(cursecs) # return result "
   ]
  }
 ],
 "metadata": {
  "interpreter": {
   "hash": "c27f9d6f54fdd86f66173623e62e1ee52bce373af93abb6c9628b8e9e292ba1d"
  },
  "kernelspec": {
   "display_name": "Python 3.9.5 ('venv': venv)",
   "language": "python",
   "name": "python3"
  },
  "language_info": {
   "codemirror_mode": {
    "name": "ipython",
    "version": 3
   },
   "file_extension": ".py",
   "mimetype": "text/x-python",
   "name": "python",
   "nbconvert_exporter": "python",
   "pygments_lexer": "ipython3",
   "version": "3.9.5"
  },
  "orig_nbformat": 4
 },
 "nbformat": 4,
 "nbformat_minor": 2
}
