{
 "cells": [
  {
   "cell_type": "markdown",
   "metadata": {},
   "source": [
    "The following code manipulates NHL game data for my Xg model"
   ]
  },
  {
   "cell_type": "markdown",
   "metadata": {},
   "source": [
    "Import libraries"
   ]
  },
  {
   "cell_type": "code",
   "execution_count": null,
   "metadata": {},
   "outputs": [],
   "source": [
    "import pandas as pd\n",
    "import pickle "
   ]
  },
  {
   "cell_type": "markdown",
   "metadata": {},
   "source": [
    "Make function to get event types"
   ]
  },
  {
   "cell_type": "code",
   "execution_count": null,
   "metadata": {},
   "outputs": [],
   "source": [
    "def get_event_types(game_data): # define function \n",
    "    event_types = [] # instantiate empty list \n",
    "    for g in game_data: # loo0p through games in game data \n",
    "            if 'liveData' not in g: # make sure there is live game data \n",
    "                continue \n",
    "            plays = g['liveData']['plays']['allPlays'] # get the current game's plays and assign to variable \n",
    "            for p in plays: # loop through plays \n",
    "                event = p['result']['event'] # assign event data to variable \n",
    "                if event not in event_types: # check if current event is already in event list \n",
    "                    event_types.append(event) # if not in list, append to list \n",
    "    return(event_types) # return event types in data "
   ]
  },
  {
   "cell_type": "markdown",
   "metadata": {},
   "source": [
    "Read in data "
   ]
  },
  {
   "cell_type": "code",
   "execution_count": null,
   "metadata": {},
   "outputs": [],
   "source": [
    "data = '2021FullDataset.pkl'\n",
    "with open(data, 'rb') as f:\n",
    "    gd = pickle.load(f)\n"
   ]
  },
  {
   "cell_type": "code",
   "execution_count": null,
   "metadata": {},
   "outputs": [],
   "source": [
    "plays=gd['liveData']"
   ]
  },
  {
   "cell_type": "code",
   "execution_count": 81,
   "metadata": {},
   "outputs": [],
   "source": [
    "def get_event_types(game_data):\n",
    "    event_types = []\n",
    "    for g in game_data:\n",
    "            if 'liveData' not in g:\n",
    "                continue\n",
    "            plays = g['liveData']['plays']['allPlays'] # get the current game's plays \n",
    "            for p in plays:\n",
    "                event = p['result']['event']\n",
    "                if event not in event_types:\n",
    "                    event_types.append(event)\n",
    "    return(event_types)"
   ]
  },
  {
   "cell_type": "code",
   "execution_count": 83,
   "metadata": {},
   "outputs": [],
   "source": [
    "et = get_event_types(gd)"
   ]
  },
  {
   "cell_type": "code",
   "execution_count": 62,
   "metadata": {},
   "outputs": [
    {
     "data": {
      "text/html": [
       "<div>\n",
       "<style scoped>\n",
       "    .dataframe tbody tr th:only-of-type {\n",
       "        vertical-align: middle;\n",
       "    }\n",
       "\n",
       "    .dataframe tbody tr th {\n",
       "        vertical-align: top;\n",
       "    }\n",
       "\n",
       "    .dataframe thead th {\n",
       "        text-align: right;\n",
       "    }\n",
       "</style>\n",
       "<table border=\"1\" class=\"dataframe\">\n",
       "  <thead>\n",
       "    <tr style=\"text-align: right;\">\n",
       "      <th></th>\n",
       "      <th>result</th>\n",
       "      <th>about</th>\n",
       "      <th>coordinates</th>\n",
       "      <th>players</th>\n",
       "      <th>team</th>\n",
       "    </tr>\n",
       "  </thead>\n",
       "  <tbody>\n",
       "    <tr>\n",
       "      <th>0</th>\n",
       "      <td>{'event': 'Game Scheduled', 'eventCode': 'TBL1...</td>\n",
       "      <td>{'eventIdx': 0, 'eventId': 1, 'period': 1, 'pe...</td>\n",
       "      <td>{}</td>\n",
       "      <td>NaN</td>\n",
       "      <td>NaN</td>\n",
       "    </tr>\n",
       "    <tr>\n",
       "      <th>1</th>\n",
       "      <td>{'event': 'Period Ready', 'eventCode': 'TBL5',...</td>\n",
       "      <td>{'eventIdx': 1, 'eventId': 5, 'period': 1, 'pe...</td>\n",
       "      <td>{}</td>\n",
       "      <td>NaN</td>\n",
       "      <td>NaN</td>\n",
       "    </tr>\n",
       "    <tr>\n",
       "      <th>2</th>\n",
       "      <td>{'event': 'Period Start', 'eventCode': 'TBL51'...</td>\n",
       "      <td>{'eventIdx': 2, 'eventId': 51, 'period': 1, 'p...</td>\n",
       "      <td>{}</td>\n",
       "      <td>NaN</td>\n",
       "      <td>NaN</td>\n",
       "    </tr>\n",
       "    <tr>\n",
       "      <th>3</th>\n",
       "      <td>{'event': 'Faceoff', 'eventCode': 'TBL52', 'ev...</td>\n",
       "      <td>{'eventIdx': 3, 'eventId': 52, 'period': 1, 'p...</td>\n",
       "      <td>{'x': 0.0, 'y': 0.0}</td>\n",
       "      <td>[{'player': {'id': 8470604, 'fullName': 'Jeff ...</td>\n",
       "      <td>{'id': 5, 'name': 'Pittsburgh Penguins', 'link...</td>\n",
       "    </tr>\n",
       "    <tr>\n",
       "      <th>4</th>\n",
       "      <td>{'event': 'Hit', 'eventCode': 'TBL8', 'eventTy...</td>\n",
       "      <td>{'eventIdx': 4, 'eventId': 8, 'period': 1, 'pe...</td>\n",
       "      <td>{'x': 46.0, 'y': 40.0}</td>\n",
       "      <td>[{'player': {'id': 8476292, 'fullName': 'Ondre...</td>\n",
       "      <td>{'id': 14, 'name': 'Tampa Bay Lightning', 'lin...</td>\n",
       "    </tr>\n",
       "    <tr>\n",
       "      <th>...</th>\n",
       "      <td>...</td>\n",
       "      <td>...</td>\n",
       "      <td>...</td>\n",
       "      <td>...</td>\n",
       "      <td>...</td>\n",
       "    </tr>\n",
       "    <tr>\n",
       "      <th>324</th>\n",
       "      <td>{'event': 'Shot', 'eventCode': 'TBL682', 'even...</td>\n",
       "      <td>{'eventIdx': 324, 'eventId': 682, 'period': 3,...</td>\n",
       "      <td>{'x': 37.0, 'y': -28.0}</td>\n",
       "      <td>[{'player': {'id': 8478416, 'fullName': 'Erik ...</td>\n",
       "      <td>{'id': 14, 'name': 'Tampa Bay Lightning', 'lin...</td>\n",
       "    </tr>\n",
       "    <tr>\n",
       "      <th>325</th>\n",
       "      <td>{'event': 'Period End', 'eventCode': 'TBL609',...</td>\n",
       "      <td>{'eventIdx': 325, 'eventId': 609, 'period': 3,...</td>\n",
       "      <td>{}</td>\n",
       "      <td>NaN</td>\n",
       "      <td>NaN</td>\n",
       "    </tr>\n",
       "    <tr>\n",
       "      <th>326</th>\n",
       "      <td>{'event': 'Period Official', 'eventCode': 'TBL...</td>\n",
       "      <td>{'eventIdx': 326, 'eventId': 612, 'period': 3,...</td>\n",
       "      <td>{}</td>\n",
       "      <td>NaN</td>\n",
       "      <td>NaN</td>\n",
       "    </tr>\n",
       "    <tr>\n",
       "      <th>327</th>\n",
       "      <td>{'event': 'Game End', 'eventCode': 'TBL613', '...</td>\n",
       "      <td>{'eventIdx': 327, 'eventId': 613, 'period': 3,...</td>\n",
       "      <td>{}</td>\n",
       "      <td>NaN</td>\n",
       "      <td>NaN</td>\n",
       "    </tr>\n",
       "    <tr>\n",
       "      <th>328</th>\n",
       "      <td>{'event': 'Game Official', 'eventCode': 'TBL11...</td>\n",
       "      <td>{'eventIdx': 328, 'eventId': 1161, 'period': 3...</td>\n",
       "      <td>{}</td>\n",
       "      <td>NaN</td>\n",
       "      <td>NaN</td>\n",
       "    </tr>\n",
       "  </tbody>\n",
       "</table>\n",
       "<p>329 rows × 5 columns</p>\n",
       "</div>"
      ],
      "text/plain": [
       "                                                result  \\\n",
       "0    {'event': 'Game Scheduled', 'eventCode': 'TBL1...   \n",
       "1    {'event': 'Period Ready', 'eventCode': 'TBL5',...   \n",
       "2    {'event': 'Period Start', 'eventCode': 'TBL51'...   \n",
       "3    {'event': 'Faceoff', 'eventCode': 'TBL52', 'ev...   \n",
       "4    {'event': 'Hit', 'eventCode': 'TBL8', 'eventTy...   \n",
       "..                                                 ...   \n",
       "324  {'event': 'Shot', 'eventCode': 'TBL682', 'even...   \n",
       "325  {'event': 'Period End', 'eventCode': 'TBL609',...   \n",
       "326  {'event': 'Period Official', 'eventCode': 'TBL...   \n",
       "327  {'event': 'Game End', 'eventCode': 'TBL613', '...   \n",
       "328  {'event': 'Game Official', 'eventCode': 'TBL11...   \n",
       "\n",
       "                                                 about  \\\n",
       "0    {'eventIdx': 0, 'eventId': 1, 'period': 1, 'pe...   \n",
       "1    {'eventIdx': 1, 'eventId': 5, 'period': 1, 'pe...   \n",
       "2    {'eventIdx': 2, 'eventId': 51, 'period': 1, 'p...   \n",
       "3    {'eventIdx': 3, 'eventId': 52, 'period': 1, 'p...   \n",
       "4    {'eventIdx': 4, 'eventId': 8, 'period': 1, 'pe...   \n",
       "..                                                 ...   \n",
       "324  {'eventIdx': 324, 'eventId': 682, 'period': 3,...   \n",
       "325  {'eventIdx': 325, 'eventId': 609, 'period': 3,...   \n",
       "326  {'eventIdx': 326, 'eventId': 612, 'period': 3,...   \n",
       "327  {'eventIdx': 327, 'eventId': 613, 'period': 3,...   \n",
       "328  {'eventIdx': 328, 'eventId': 1161, 'period': 3...   \n",
       "\n",
       "                 coordinates  \\\n",
       "0                         {}   \n",
       "1                         {}   \n",
       "2                         {}   \n",
       "3       {'x': 0.0, 'y': 0.0}   \n",
       "4     {'x': 46.0, 'y': 40.0}   \n",
       "..                       ...   \n",
       "324  {'x': 37.0, 'y': -28.0}   \n",
       "325                       {}   \n",
       "326                       {}   \n",
       "327                       {}   \n",
       "328                       {}   \n",
       "\n",
       "                                               players  \\\n",
       "0                                                  NaN   \n",
       "1                                                  NaN   \n",
       "2                                                  NaN   \n",
       "3    [{'player': {'id': 8470604, 'fullName': 'Jeff ...   \n",
       "4    [{'player': {'id': 8476292, 'fullName': 'Ondre...   \n",
       "..                                                 ...   \n",
       "324  [{'player': {'id': 8478416, 'fullName': 'Erik ...   \n",
       "325                                                NaN   \n",
       "326                                                NaN   \n",
       "327                                                NaN   \n",
       "328                                                NaN   \n",
       "\n",
       "                                                  team  \n",
       "0                                                  NaN  \n",
       "1                                                  NaN  \n",
       "2                                                  NaN  \n",
       "3    {'id': 5, 'name': 'Pittsburgh Penguins', 'link...  \n",
       "4    {'id': 14, 'name': 'Tampa Bay Lightning', 'lin...  \n",
       "..                                                 ...  \n",
       "324  {'id': 14, 'name': 'Tampa Bay Lightning', 'lin...  \n",
       "325                                                NaN  \n",
       "326                                                NaN  \n",
       "327                                                NaN  \n",
       "328                                                NaN  \n",
       "\n",
       "[329 rows x 5 columns]"
      ]
     },
     "execution_count": 62,
     "metadata": {},
     "output_type": "execute_result"
    }
   ],
   "source": [
    " for "
   ]
  },
  {
   "cell_type": "code",
   "execution_count": null,
   "metadata": {},
   "outputs": [],
   "source": [
    "event_types + ['yellow', 7, 92] + diff"
   ]
  },
  {
   "cell_type": "code",
   "execution_count": 59,
   "metadata": {},
   "outputs": [
    {
     "data": {
      "text/plain": [
       "dict_keys(['copyright', 'gamePk', 'link', 'metaData', 'gameData', 'liveData'])"
      ]
     },
     "execution_count": 59,
     "metadata": {},
     "output_type": "execute_result"
    }
   ],
   "source": [
    "gd[1]['gameData'].keys()"
   ]
  },
  {
   "cell_type": "code",
   "execution_count": null,
   "metadata": {},
   "outputs": [],
   "source": []
  }
 ],
 "metadata": {
  "interpreter": {
   "hash": "c27f9d6f54fdd86f66173623e62e1ee52bce373af93abb6c9628b8e9e292ba1d"
  },
  "kernelspec": {
   "display_name": "Python 3.9.5 ('venv': venv)",
   "language": "python",
   "name": "python3"
  },
  "language_info": {
   "codemirror_mode": {
    "name": "ipython",
    "version": 3
   },
   "file_extension": ".py",
   "mimetype": "text/x-python",
   "name": "python",
   "nbconvert_exporter": "python",
   "pygments_lexer": "ipython3",
   "version": "3.9.5"
  },
  "orig_nbformat": 4
 },
 "nbformat": 4,
 "nbformat_minor": 2
}
