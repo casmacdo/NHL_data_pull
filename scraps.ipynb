{
 "cells": [
  {
   "cell_type": "code",
   "execution_count": null,
   "metadata": {},
   "outputs": [],
   "source": [
    "for g in game_data: # loo0p through games in game data \n",
    "            if 'liveData' not in g: # make sure there is live game data \n",
    "                continue \n",
    "            plays = g['liveData']['plays']['allPlays'] # get the current game's plays and assign to variable \n",
    "            for p in plays: # loop through plays \n",
    "                for event in et:  # For each event (Shot,Goal)            # If the play contains one of the events\n",
    "                    if p['result']['event'] in [event]:  \n",
    "                        print('its here')"
   ]
  },
  {
   "cell_type": "code",
   "execution_count": null,
   "metadata": {},
   "outputs": [],
   "source": [
    "dict.fromkeys(et , {})"
   ]
  },
  {
   "cell_type": "code",
   "execution_count": null,
   "metadata": {},
   "outputs": [],
   "source": [
    "for g in game_data: # loo0p through games in game data \n",
    "            if 'liveData' not in g: # make sure there is live game data \n",
    "                continue \n",
    "            plays = g['liveData']['plays']['allPlays'] # get the current game's plays and assign to variable \n",
    "            for p in plays: # loop through plays \n",
    "                for event in et: \n",
    "                    if p['result']['event'] in [event]\n",
    "                event = p['result']['event'] # assign event data to variable \n",
    "                for event in \n",
    "                if event not in event_types: # check if current event is already in event list "
   ]
  },
  {
   "cell_type": "code",
   "execution_count": null,
   "metadata": {},
   "outputs": [],
   "source": [
    "for g in game_data: # loo0p through games in game data \n",
    "            if 'liveData' not in g: # make sure there is live game data \n",
    "                continue \n",
    "            plays = g['liveData']['plays']['allPlays'] # get the current game's plays and assign to variable \n",
    "            for p in plays: # loop through plays \n",
    "                for event in et:  # For each event (Shot,Goal)            # If the play contains one of the events\n",
    "                    if p['result']['event'] in [event]:  \n",
    "                        print('its here')"
   ]
  }
 ],
 "metadata": {
  "language_info": {
   "name": "python"
  },
  "orig_nbformat": 4
 },
 "nbformat": 4,
 "nbformat_minor": 2
}
